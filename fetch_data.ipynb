{
 "cells": [
  {
   "cell_type": "code",
   "execution_count": 0,
   "metadata": {
    "application/vnd.databricks.v1+cell": {
     "cellMetadata": {
      "byteLimit": 2048000,
      "rowLimit": 10000
     },
     "inputWidgets": {},
     "nuid": "a82faccc-4286-4e2d-86d2-5e587d47a750",
     "showTitle": false,
     "tableResultSettingsMap": {},
     "title": ""
    }
   },
   "outputs": [
    {
     "output_type": "display_data",
     "data": {
      "application/vnd.databricks.v1+bamboolib_hint": "{\"pd.DataFrames\": [], \"version\": \"0.0.1\"}",
      "text/plain": []
     },
     "metadata": {},
     "output_type": "display_data"
    }
   ],
   "source": [
    "import pandas as pd\n",
    "from collections import defaultdict\n",
    "import numpy as np\n",
    "import os"
   ]
  },
  {
   "cell_type": "code",
   "execution_count": 0,
   "metadata": {
    "application/vnd.databricks.v1+cell": {
     "cellMetadata": {
      "byteLimit": 2048000,
      "rowLimit": 10000
     },
     "inputWidgets": {},
     "nuid": "5726b44e-e0e2-4819-b4df-e6e5076a0ed5",
     "showTitle": false,
     "tableResultSettingsMap": {},
     "title": ""
    }
   },
   "outputs": [],
   "source": [
    "home_path = dbutils.notebook.entry_point.getDbutils().notebook().getContext().notebookPath().get()\n",
    "home_path = \"/\".join(home_path.split('/')[:-1])"
   ]
  },
  {
   "cell_type": "code",
   "execution_count": 0,
   "metadata": {
    "application/vnd.databricks.v1+cell": {
     "cellMetadata": {
      "byteLimit": 2048000,
      "rowLimit": 10000
     },
     "inputWidgets": {},
     "nuid": "cb6b0cdd-60b6-4cf9-9a88-e5ae21925c38",
     "showTitle": false,
     "tableResultSettingsMap": {},
     "title": ""
    }
   },
   "outputs": [],
   "source": [
    "def get_parameter(key, default=\"\"):\n",
    "    try:\n",
    "        return dbutils.widgets.get(key)\n",
    "    except Exception as e:\n",
    "        print('have no parameter \"{}\" in dbutils.widgets, return default \"{}\"'.format(key, default))\n",
    "        return default\n",
    "\n",
    "class VersionControl:\n",
    "    def __init__(self, ws_type=None, version=None, comment=None):\n",
    "        self.path = '/Workspace' + home_path + '/save_path_log.txt'\n",
    "        self.ws_type = ws_type\n",
    "        self.version = version\n",
    "        self.comment = comment\n",
    "        \n",
    "        if self.ws_type:\n",
    "            self.check_if_version_exists()\n",
    "\n",
    "    def check_if_version_exists(self, ws_type=None, version=None):\n",
    "        ws_type = self.ws_type if not ws_type else ws_type\n",
    "        version = self.version if not version else version\n",
    "        ws_type_versions = self.find_versions(ws_type)\n",
    "        if not ws_type_versions:\n",
    "            print(\"ws_type has not been used before\")\n",
    "            return False\n",
    "        else:\n",
    "            results = [x for x in ws_type_versions if x[0] == version]\n",
    "            if len(results) > 0:\n",
    "                print(results)\n",
    "                return True\n",
    "            else:\n",
    "                print(\"the version has not been saved before\")\n",
    "                return False\n",
    "    \n",
    "    def save_version(self, ws_type=None, version=None, force=False):\n",
    "        \"\"\"\n",
    "        force: if true则有一样的版本也存入，继续跑\n",
    "        \"\"\"\n",
    "        self.ws_type = self.ws_type if not ws_type else ws_type\n",
    "        self.version = self.version if not version else version\n",
    "        check_status = self.check_if_version_exists()\n",
    "        if check_status & ~force:\n",
    "            raise ValueError('version already exists')\n",
    "        else:\n",
    "            with open(self.path, 'a', encoding='utf-8') as file:\n",
    "                print(f'{self.ws_type}, {self.version}, {self.comment}')\n",
    "                file.write(f'\\n{self.ws_type}, {self.version}, {self.comment}')\n",
    "\n",
    "    @staticmethod\n",
    "    def get_all_versions():\n",
    "        with open('/Workspace' + home_path + '/save_path_log.txt', 'r', encoding='utf-8') as file:\n",
    "            versions = file.readlines()\n",
    "        return versions\n",
    "    \n",
    "    def get_version_dict(self):\n",
    "        version_info_list = self.get_all_versions()\n",
    "        version_dict = defaultdict(list)\n",
    "        for x in version_info_list:\n",
    "            if x == '\\n':\n",
    "                pass\n",
    "            else:\n",
    "                version_dict[x.split(\",\")[0]].append((x.split(\",\")[1].strip(), x.split(\",\")[2].strip()))\n",
    "        return version_dict\n",
    "    \n",
    "    def find_versions(self, ws_type=None):\n",
    "        self.version_dict = self.get_version_dict()\n",
    "        if not ws_type:\n",
    "            return self.version_dict\n",
    "        else:\n",
    "            return self.version_dict.get(ws_type)"
   ]
  },
  {
   "cell_type": "code",
   "execution_count": 0,
   "metadata": {
    "application/vnd.databricks.v1+cell": {
     "cellMetadata": {},
     "inputWidgets": {},
     "nuid": "7678a0e9-1cf8-415d-988f-43cb89b032da",
     "showTitle": true,
     "tableResultSettingsMap": {},
     "title": "stw表"
    }
   },
   "outputs": [],
   "source": [
    "# finance_ds_inventory_dmt.info_order_database_finance_stw # ABI直接卖给经销商的，含t1,t1.5"
   ]
  },
  {
   "cell_type": "code",
   "execution_count": 0,
   "metadata": {
    "application/vnd.databricks.v1+cell": {
     "cellMetadata": {
      "byteLimit": 2048000,
      "rowLimit": 10000
     },
     "inputWidgets": {},
     "nuid": "9682e46e-4bc6-46bf-aa5c-6bc767020fcc",
     "showTitle": true,
     "tableResultSettingsMap": {},
     "title": "str表源说明"
    }
   },
   "outputs": [],
   "source": [
    "# T1.5从百威进货部分的售出STR\n",
    "# finance_ds_inventory_dmt.finance_poc_datahub_mid_t1ws_wccs_str # t1.5 -> POC/T2 sales_type=1卖给T2，sales_type = 0 卖给POC\n",
    "\n",
    "\n",
    "# T1/T1.5 直接从百威进货部分的售出STR\n",
    "# # 纯一批经销商的STR落表，sale_type =1是卖给售点，2是卖给2批，3是1.5批卖给售点的(从T1进货的部分)\n",
    "# finance_ds_inventory_dmt.finance_poc_datahub_t1ws_wccs_str        # T1 -> 卖给T1.5/T2/POC\n",
    "\n",
    "\n",
    "# T1卖给T1.5的STW\n",
    "# finance_ds_inventory_dmt.finance_poc_datahub_mid_ws_wccs_str  # payercode是T1.5的，filter sj_pay_to=T1\n",
    "\n",
    "# 废弃旧表\n",
    "# finance_ds_inventory_dmt.finance_poc_datahub_wccs_str    # T1.5 -> poc 只看从ABI进货的"
   ]
  },
  {
   "cell_type": "code",
   "execution_count": 0,
   "metadata": {
    "application/vnd.databricks.v1+cell": {
     "cellMetadata": {
      "byteLimit": 2048000,
      "rowLimit": 10000
     },
     "inputWidgets": {},
     "nuid": "ef7a79a0-ac85-4847-8c4e-ae2d1c3c0f4d",
     "showTitle": true,
     "tableResultSettingsMap": {},
     "title": "data_dict"
    }
   },
   "outputs": [],
   "source": [
    "# brand_family_scope_file_from_vivian = \"/dbfs/FileStore/tables/srf/fifo_inv_simu/src_data/SAP_sku_CIO_BRANDFAMILY_Mapping_final.xlsx\"\n",
    "inv_data_path = '/dbfs/FileStore/tables/srf/fifo_inv_simu/src_data/进销存数据.xlsx'  # 期初库存\n",
    "dec_inv_data_path = '/dbfs/FileStore/tables/srf/fifo_inv_simu/src_data/12月进销存数据.xlsx' # 12月的期末库存 字段也用的是\n",
    "\n",
    "end_inv_data_dict = {\n",
    "    '202412':dec_inv_data_path\n",
    "}"
   ]
  },
  {
   "cell_type": "code",
   "execution_count": 0,
   "metadata": {
    "application/vnd.databricks.v1+cell": {
     "cellMetadata": {
      "byteLimit": 2048000,
      "rowLimit": 10000
     },
     "inputWidgets": {},
     "nuid": "5590714b-5791-4ac8-92ab-c3b1871c15ab",
     "showTitle": true,
     "tableResultSettingsMap": {},
     "title": "ws info"
    }
   },
   "outputs": [],
   "source": [
    "def get_ws_name_payercode_mapping():\n",
    "    mapping = spark.sql('select distinct int(wholesaler_pay_code) as payercode,  wholesaler_name as payername from budtech_brewdat_prod_ods.abi_cloud_wholesaler_ws_wholesaler').toPandas().set_index('payercode')\n",
    "    return mapping"
   ]
  },
  {
   "cell_type": "code",
   "execution_count": 0,
   "metadata": {
    "application/vnd.databricks.v1+cell": {
     "cellMetadata": {
      "byteLimit": 2048000,
      "rowLimit": 10000
     },
     "collapsed": true,
     "inputWidgets": {},
     "nuid": "93f9575e-1d2d-458f-a75b-67d0dd33cf15",
     "showTitle": true,
     "tableResultSettingsMap": {},
     "title": "sku mapping"
    }
   },
   "outputs": [],
   "source": [
    "def get_sku_hl_mapping_table():\n",
    "    sku_hl_mapping = spark.sql(\n",
    "    \"\"\"\n",
    "    WITH CIO AS (\n",
    "    SELECT\n",
    "        DISTINCT cio_id AS cio_code,\n",
    "        c_product as cio_name,\n",
    "        regexp_replace(capacity, '([a-zA-Z])', '') / 1000.0 as container_L,\n",
    "        -- trim(C2.Seg) AS Segment,\n",
    "        packagesize\n",
    "    FROM\n",
    "        bees_products_ods.product_center_cio_sku C1\n",
    "        LEFT JOIN bees_products_ods.product_center_cio_mapping C2 ON C2.cio_code = C1.cio_id\n",
    "    WHERE\n",
    "        deleted = 0\n",
    "        AND regexp_replace(capacity, '([a-zA-Z])', '') > 0\n",
    "        AND C2.Seg IS NOT NULL\n",
    "        AND COALESCE(packagesize, 0) > 0\n",
    "    )\n",
    "    SELECT\n",
    "    DISTINCT SC.sap_sku_code as SKUCode, K1.cio_code\n",
    "    ,K1.cio_name\n",
    "    ,K1.container_L * K1.packagesize/100 HL\n",
    "    FROM\n",
    "    CIO K1\n",
    "    JOIN bees_products_ods.product_center_ref_sap_to_cio SC ON SC.cio_sku_code = K1.cio_code\n",
    "    \"\"\"\n",
    "    ).toPandas()\n",
    "    return sku_hl_mapping\n",
    "\n",
    "def get_sku_sap_wccs_code_mapping_table():\n",
    "    wccs_productid_sap_sku_mapping = spark.sql(\n",
    "    \"\"\"\n",
    "    select distinct product_id, cast(sap_skudm as int) as SKUCode from wccs_ods.bas_material\n",
    "    \"\"\").toPandas()\n",
    "    return wccs_productid_sap_sku_mapping     "
   ]
  },
  {
   "cell_type": "code",
   "execution_count": 0,
   "metadata": {
    "application/vnd.databricks.v1+cell": {
     "cellMetadata": {
      "byteLimit": 2048000,
      "rowLimit": 10000
     },
     "inputWidgets": {},
     "nuid": "0e53583f-8d02-40c1-9840-37d196438c7c",
     "showTitle": true,
     "tableResultSettingsMap": {},
     "title": "brand family filter"
    }
   },
   "outputs": [],
   "source": [
    "def get_used_brand_family():\n",
    "    \"\"\"\n",
    "    used_wccs_sku_list: wccs product_id 列表，四个brand的\n",
    "    sku_filtered是过滤了四个brand的sku mapping表；\n",
    "    product_id_mapping是全量的sku hl mapping表\n",
    "    \"\"\"\n",
    "    # sku_brand_family_mapping = pd.read_excel(brand_family_scope_file_from_vivian) # src: Vivian\n",
    "    sku_brand_family_mapping = spark.sql(\"select distinct cast(SKU as int) as SKUCode, Brand_Family as `Brand Family`  from bcc_dmotc_ods.str_stw_discount_mapping_sku_cio\").toPandas()\n",
    "    used_brand_family = ['ISP', 'BUD', 'HBI', 'HBO', 'HKOW']\n",
    "    # select distinct product_id, cast(sap_skudm as int) as SKUCode from wccs_ods.bas_material\n",
    "    sku_hl_mapping = get_sku_hl_mapping_table()   # from Charlotte code\n",
    "    product_id_mapping = get_sku_sap_wccs_code_mapping_table()\n",
    "    used_brand_family_mapping = sku_brand_family_mapping[sku_brand_family_mapping['Brand Family'].isin(used_brand_family)].drop_duplicates(subset=['SKUCode'])[['SKUCode','Brand Family']]    \n",
    "    # brand family data 匹配product id和百升数\n",
    "    product_id_mapping = pd.merge(product_id_mapping, sku_hl_mapping, on='SKUCode', how='left')   # Pcode, SKUCode,HL\n",
    "    used_brand_family_mapping = pd.merge(used_brand_family_mapping, product_id_mapping, on='SKUCode', how='left')\n",
    "    used_brand_family_mapping['product_id'] = used_brand_family_mapping['product_id'].str.upper()\n",
    "    used_wccs_sku_list = list(used_brand_family_mapping['product_id'].unique())\n",
    "    return used_wccs_sku_list, used_brand_family_mapping, product_id_mapping"
   ]
  },
  {
   "cell_type": "code",
   "execution_count": 0,
   "metadata": {
    "application/vnd.databricks.v1+cell": {
     "cellMetadata": {
      "byteLimit": 2048000,
      "rowLimit": 10000
     },
     "inputWidgets": {},
     "nuid": "795d6397-562a-4564-9cce-67d98f3d151b",
     "showTitle": true,
     "tableResultSettingsMap": {},
     "title": "get_inv_data"
    }
   },
   "outputs": [],
   "source": [
    "def get_inv_data(used_wccs_sku_list, sku_filtered, used_qty_col='期初库存', path=inv_data_path):\n",
    "    \"\"\"\n",
    "        箱数_col：期初库存\n",
    "        hl_col: inv_hl     \n",
    "    \"\"\"\n",
    "    # # begin_inv = pd.read_csv('src_data/库存余额表DB-202212.csv')       # 2022年末的期末库存就是2023年的期初库存\n",
    "    begin_inv = pd.read_excel(path)\n",
    "    begin_inv['物料代码'] = begin_inv['物料代码'].str.upper()\n",
    "    begin_inv = begin_inv[begin_inv['物料代码'].isin(used_wccs_sku_list)]\n",
    "    sku_filtered_info = sku_filtered.sort_values(by='product_id').drop_duplicates(subset=['product_id'])\n",
    "    sku_filtered_info = sku_filtered_info[sku_filtered_info['product_id'].notnull()]\n",
    "    begin_inv = pd.merge(begin_inv, sku_filtered_info[['product_id', 'SKUCode', 'Brand Family', 'HL']], left_on='物料代码',right_on='product_id', how='left')\n",
    "    unfound_sku = begin_inv[begin_inv['SKUCode'].isnull()]\n",
    "    if len(unfound_sku) > 0:\n",
    "        print(\"没对应上SKUCode/HL的wccs product id\", unfound_sku['product_id'].unique())\n",
    "    begin_inv['inv_hl'] = begin_inv[used_qty_col] * begin_inv['HL']    # 转换成百升\n",
    "    return begin_inv"
   ]
  },
  {
   "cell_type": "code",
   "execution_count": 0,
   "metadata": {
    "application/vnd.databricks.v1+cell": {
     "cellMetadata": {},
     "inputWidgets": {},
     "nuid": "9c203b69-c398-4889-9cf8-38eaf9041a05",
     "showTitle": true,
     "tableResultSettingsMap": {},
     "title": "ending_inv"
    }
   },
   "outputs": [],
   "source": [
    "def get_ending_inv_month(month='202412', used_qty_col='期末库存'):\n",
    "    \"\"\"\n",
    "    month: 202412的话是指看202412的期末库存\n",
    "    used_qty_col: 默认用这个数据的期末库存，202501的期初库存=202412的期末库存，理论上\n",
    "    return: by ws by brand的期末库存\n",
    "    \"\"\"\n",
    "    used_wccs_sku_list, sku_filtered, product_id_mapping = get_used_brand_family() # sku_filtered是过滤了四个brand的sku mapping表；product_id_mapping是全量的sku hl mapping表\n",
    "    ending_inv = get_inv_data(used_wccs_sku_list, sku_filtered, used_qty_col=used_qty_col, path=end_inv_data_dict[month])\n",
    "\n",
    "    ws_code_mapping_table = spark.sql(\"select distinct wholesalerid as ws_code, int(Pay_to) as payercode  from bcc_baseline_ods.wccs_ws\").toPandas()  # 一个w对着一个300；一个300对着多个W\n",
    "    ending_inv2 = pd.merge(ending_inv, ws_code_mapping_table, left_on='经销商代码', right_on='ws_code', how='left')\n",
    "    ending_inv2['payercode'] = ending_inv2['payercode'].apply(lambda x: None if np.isnan(x) else int(x))\n",
    "    end_inv_by_ws_by_brand = ending_inv2.groupby(['payercode', 'Brand Family'])['inv_hl'].sum()   # 期初库存by ws by brand\n",
    "    return end_inv_by_ws_by_brand"
   ]
  },
  {
   "cell_type": "code",
   "execution_count": 0,
   "metadata": {
    "application/vnd.databricks.v1+cell": {
     "cellMetadata": {},
     "inputWidgets": {},
     "nuid": "28d5b90c-7473-4b6c-a3b4-b10b1064f547",
     "showTitle": true,
     "tableResultSettingsMap": {},
     "title": "get_stw_data"
    }
   },
   "outputs": [],
   "source": [
    "def get_stw_data(start=202101, end=202410):\n",
    "    \"\"\"\n",
    "        箱数_col：stw_qty\n",
    "        hl_col: stw_hl\n",
    "        month_col: billingyearmonth\n",
    "    \"\"\"\n",
    "    # # stw = pd.read_excel('src_data/stw_str_241118.xlsx', sheet_name='STW')        # 2023.1.1~2023.12.31\n",
    "    stw = spark.sql('select * from finance_ds_inventory_dmt.info_order_database_finance_stw').toPandas()          # 2021.1~2024.10\n",
    "    stw.columns = [x.lower() for x in stw.columns]\n",
    "    stw = stw[(stw['billingyearmonth'] >= start) & (stw['billingyearmonth'] <= end)]\n",
    "    return stw\n",
    "\n",
    "def get_str_data(sku_filtered, str_db_path, start=202101, end=202410):\n",
    "    \"\"\"\n",
    "        sku_filtered：skucode and hl, for hl mapping\n",
    "        str_db_path: 如果是字符串直接读表，或者直接传入聚合好的数\n",
    "        month_col: month\n",
    "    \"\"\"\n",
    "    # # ws_str = pd.read_excel('src_data/stw_str_241118.xlsx', sheet_name='STR')\n",
    "    if isinstance(str_db_path, str):\n",
    "        ws_str = spark.sql(f\"select * from {str_db_path}\").toPandas()\n",
    "    elif isinstance(str_db_path, pd.DataFrame):\n",
    "        ws_str = str_db_path\n",
    "    else:\n",
    "        ws_str = str_db_path.toPandas()\n",
    "    # ws_str = spark.sql('select * from finance_ds_inventory_dmt.finance_poc_datahub_wccs_str').toPandas()       # 2021.1~2024.11\n",
    "    ws_str['payercode'] = ws_str['payercode'].astype(int)\n",
    "    ws_str = ws_str[(ws_str['month'] >= start) & (ws_str['month'] <= end)]\n",
    "    ws_str.columns = [x.lower() for x in ws_str.columns]\n",
    "    sku_filtered_info = sku_filtered.sort_values(by='SKUCode').drop_duplicates(subset=['SKUCode'])\n",
    "    ws_str = pd.merge(ws_str, sku_filtered_info[['SKUCode', 'HL']], left_on='skucode', right_on='SKUCode', how='left')\n",
    "    unfound_sku = ws_str[ws_str['HL'].isnull()]\n",
    "    if len(unfound_sku) > 0:\n",
    "        print(unfound_sku)\n",
    "    ws_str['str_hl'] = ws_str['str_qty'] * ws_str['HL']\n",
    "    return ws_str"
   ]
  },
  {
   "cell_type": "code",
   "execution_count": 0,
   "metadata": {
    "application/vnd.databricks.v1+cell": {
     "cellMetadata": {
      "byteLimit": 2048000,
      "rowLimit": 10000
     },
     "inputWidgets": {},
     "nuid": "be627060-7cc6-4281-a23e-f79c5c4465f4",
     "showTitle": false,
     "tableResultSettingsMap": {},
     "title": ""
    }
   },
   "outputs": [],
   "source": [
    "def cat_code(df):\n",
    "    return str(df['t1_code']) + \"_\" + str(df['t15_code'])\n",
    "\n",
    "def split_paycode(df):\n",
    "    v = df['payercode'].split(\"_\")\n",
    "    return v[0], v[1]"
   ]
  },
  {
   "cell_type": "code",
   "execution_count": 0,
   "metadata": {
    "application/vnd.databricks.v1+cell": {
     "cellMetadata": {
      "byteLimit": 2048000,
      "rowLimit": 10000
     },
     "inputWidgets": {},
     "nuid": "6470ed84-31fc-4c39-a91e-d1caa12c403a",
     "showTitle": true,
     "tableResultSettingsMap": {},
     "title": "t1.5 in"
    }
   },
   "outputs": [
    {
     "output_type": "stream",
     "name": "stdout",
     "output_type": "stream",
     "text": [
      "1878\n"
     ]
    }
   ],
   "source": [
    "def get_all_t1_t15_comb():\n",
    "    \"\"\"\n",
    "    所有t1 * t15 的组合\n",
    "    \"\"\"\n",
    "    df = spark.sql(f'''\n",
    "        select int(payercode) as t15_code, int(sj_pay_to) as t1_code  \n",
    "        from finance_ds_inventory_dmt.finance_poc_datahub_mid_ws_wccs_str \n",
    "        where deleted = 0  \n",
    "        group by all \n",
    "        ''')\n",
    "    print(df.count()) # 1878\n",
    "    df = df.toPandas()\n",
    "    df = df[df['t15_code'].notnull()]\n",
    "    df = df[df['t1_code'].notnull()]\n",
    "    df['t15_code'] = df['t15_code'].apply(lambda x: str(int(x)))\n",
    "    df['t1_code'] = df['t1_code'].apply(lambda x: str(int(x)))\n",
    "\n",
    "    return df\n",
    "\n",
    "\n",
    "def get_t15_stw_monthly_from_t1(sku_filtered, start='202101', end='202410'):\n",
    "    \"\"\"\n",
    "    t15 每个月从t1 的进货量\n",
    "\n",
    "    STR T1 to T1.5\n",
    "    payercode =T1.5 A, sj_pay_to = T1\n",
    "    payercode =T1.5 B, sj_pay_to = T1\n",
    "    \"\"\"\n",
    "    print(start, end)\n",
    "    df = spark.sql(f'''\n",
    "        select  payercode as t15_code, sj_pay_to as t1_code, Brand_Family_ComDB, wccs_sku_name, skucode, month as billingyearmonth, sum(str_qty) as str_qty \n",
    "        , payercode, payer_bu_name, payer_region_name\n",
    "        from finance_ds_inventory_dmt.finance_poc_datahub_mid_ws_wccs_str \n",
    "        where deleted = 0 \n",
    "        group by all  \n",
    "        ''')\n",
    "    stw = df.toPandas()\n",
    "    #TODO payercode t1,t15 组合？\n",
    "    stw = stw[stw['t1_code'].notnull()]\n",
    "    stw = stw[stw['t15_code'].notnull()]\n",
    "    stw['t1_code'] = stw['t1_code'].apply(lambda x: str(int(x)))\n",
    "    stw['t15_code'] = stw['t15_code'].apply(lambda x: str(int(x)))\n",
    "    stw = stw[(stw['billingyearmonth'] >= start) & (stw['billingyearmonth'] <= end)]\n",
    "    stw.columns = [x.lower() for x in stw.columns]\n",
    "    sku_filtered_info = sku_filtered.sort_values(by='SKUCode').drop_duplicates(subset=['SKUCode'])\n",
    "    stw = pd.merge(stw, sku_filtered_info[['SKUCode', 'HL']], left_on='skucode', right_on='SKUCode', how='left')\n",
    "    unfound_sku = stw[stw['HL'].isnull()]\n",
    "    if len(unfound_sku) > 0:\n",
    "        print(unfound_sku)\n",
    "    stw['stw_hl'] = stw['str_qty'] * stw['HL']\n",
    "    stw['payercode']  = stw.apply(lambda x : cat_code(x), axis=1)\n",
    "    return stw"
   ]
  },
  {
   "cell_type": "code",
   "execution_count": 0,
   "metadata": {
    "application/vnd.databricks.v1+cell": {
     "cellMetadata": {},
     "inputWidgets": {},
     "nuid": "a3d55d50-aa71-4cad-8801-10c91ff77049",
     "showTitle": true,
     "tableResultSettingsMap": {},
     "title": "t1.5 out"
    }
   },
   "outputs": [],
   "source": [
    "def get_t15_str_monthly(sku_filtered, start='202101', end='202410'):\n",
    "    \"\"\"\n",
    "    t15 的str量\n",
    "    记到不同的t1身上\n",
    "\n",
    "    T1.5 to POC\n",
    "    sale type = 3, sub_payercode = T1.5 A\n",
    "    sale type = 3, sub_payercode = T1.5 B\n",
    "\n",
    "    \"\"\"\n",
    "    print(start, end)\n",
    "    df = spark.sql(f'''\n",
    "        select payercode as t1_code, sub_payercode as t15_code,  Brand_Family_ComDB, wccs_sku_name, skucode,  month, sum(str_qty) as str_qty , \n",
    "        sub_payercode as payercode, payer_bu_name, payer_region_name\n",
    "        from finance_ds_inventory_dmt.finance_poc_datahub_t1ws_wccs_str \n",
    "        where deleted = 0\n",
    "        and sale_type = 3\n",
    "        group by all  \n",
    "        ''')\n",
    "    ws_str = df.toPandas()\n",
    "    ws_str = ws_str[ws_str['t1_code'].notnull()]\n",
    "    ws_str = ws_str[ws_str['t15_code'].notnull()]\n",
    "    ws_str['t1_code'] = ws_str['t1_code'].apply(lambda x: str(int(x)))\n",
    "    ws_str['t15_code'] = ws_str['t15_code'].apply(lambda x: str(int(x)))\n",
    "    ws_str = ws_str[(ws_str['month'] >= start) & (ws_str['month'] <= end)]\n",
    "    ws_str.columns = [x.lower() for x in ws_str.columns]\n",
    "    sku_filtered_info = sku_filtered.sort_values(by='SKUCode').drop_duplicates(subset=['SKUCode'])\n",
    "    ws_str = pd.merge(ws_str, sku_filtered_info[['SKUCode', 'HL']], left_on='skucode', right_on='SKUCode', how='left')\n",
    "    unfound_sku = ws_str[ws_str['HL'].isnull()]\n",
    "    if len(unfound_sku) > 0:\n",
    "        print(unfound_sku)\n",
    "    ws_str['str_hl'] = ws_str['str_qty'] * ws_str['HL']\n",
    "    ws_str['payercode']  = ws_str.apply(lambda x : cat_code(x), axis=1)\n",
    "    return ws_str"
   ]
  },
  {
   "cell_type": "code",
   "execution_count": 0,
   "metadata": {
    "application/vnd.databricks.v1+cell": {
     "cellMetadata": {
      "byteLimit": 2048000,
      "rowLimit": 10000
     },
     "inputWidgets": {},
     "nuid": "021122cf-69ac-4a61-ba18-9c282a1a9c4b",
     "showTitle": false,
     "tableResultSettingsMap": {},
     "title": ""
    }
   },
   "outputs": [
    {
     "output_type": "display_data",
     "data": {
      "text/html": [
       "<style scoped>\n",
       "  .table-result-container {\n",
       "    max-height: 300px;\n",
       "    overflow: auto;\n",
       "  }\n",
       "  table, th, td {\n",
       "    border: 1px solid black;\n",
       "    border-collapse: collapse;\n",
       "  }\n",
       "  th, td {\n",
       "    padding: 5px;\n",
       "  }\n",
       "  th {\n",
       "    text-align: left;\n",
       "  }\n",
       "</style><div class='table-result-container'><table class='table-result'><thead style='background-color: white'><tr><th>t15_code</th><th>t1_code</th><th>Brand_Family_ComDB</th><th>wccs_sku_name</th><th>skucode</th><th>billingyearmonth</th><th>str_qty</th><th>payercode</th><th>payer_bu_name</th><th>payer_region_name</th></tr></thead><tbody><tr><td>0030020398</td><td>0030012616</td><td>BUD</td><td>百威金尊9.5度428ML1X12纸箱回瓶装-尊享版</td><td>99717</td><td>202309</td><td>52</td><td>0030020398</td><td>北区|BU_N</td><td>河北北区|Region_Hebei_North</td></tr><tr><td>0030020398</td><td>0030012616</td><td>BUD</td><td>CT_百威9.7度460ML1X12纸箱回瓶</td><td>30882</td><td>202312</td><td>965</td><td>0030020398</td><td>北区|BU_N</td><td>河北北区|Region_Hebei_North</td></tr><tr><td>0030020398</td><td>0030012616</td><td>BUD</td><td>百威9.7度460ML1X6纸箱OW瓶装-零售价版</td><td>96141</td><td>202401</td><td>44</td><td>0030020398</td><td>北区|BU_N</td><td>河北北区|Region_Hebei_North</td></tr><tr><td>0030020398</td><td>0030012616</td><td>BUD</td><td>百威金尊9.5度428ML1X12纸箱回瓶装-尊享版</td><td>99717</td><td>202310</td><td>262</td><td>0030020398</td><td>北区|BU_N</td><td>河北北区|Region_Hebei_North</td></tr><tr><td>0030020398</td><td>0030012616</td><td>BUD</td><td>CT_百威9.7度460ML1X12纸箱回瓶</td><td>30882</td><td>202402</td><td>365</td><td>0030020398</td><td>北区|BU_N</td><td>河北北区|Region_Hebei_North</td></tr><tr><td>0030020398</td><td>0030012616</td><td>BUD</td><td>百威9.7度460ML1X6纸箱OW瓶装-零售价版</td><td>96141</td><td>202309</td><td>692</td><td>0030020398</td><td>北区|BU_N</td><td>河北北区|Region_Hebei_North</td></tr><tr><td>0030020398</td><td>0030012616</td><td>BUD</td><td>百威金尊9.5度428ML1X12纸箱回瓶装-尊享版</td><td>99717</td><td>202312</td><td>54</td><td>0030020398</td><td>北区|BU_N</td><td>河北北区|Region_Hebei_North</td></tr><tr><td>0030020398</td><td>0030012616</td><td>BUD</td><td>CT_百威9.7度460ML1X12纸箱回瓶</td><td>30882</td><td>202307</td><td>904</td><td>0030020398</td><td>北区|BU_N</td><td>河北北区|Region_Hebei_North</td></tr><tr><td>0030020398</td><td>0030012616</td><td>BUD</td><td>百威9.7度460ML1X6纸箱OW瓶装-河北北</td><td>92547</td><td>202307</td><td>1512</td><td>0030020398</td><td>北区|BU_N</td><td>河北北区|Region_Hebei_North</td></tr><tr><td>0030020398</td><td>0030012616</td><td>BUD</td><td>百威金尊9.5度428ML1X12纸箱回瓶装-尊享版</td><td>99717</td><td>202402</td><td>42</td><td>0030020398</td><td>北区|BU_N</td><td>河北北区|Region_Hebei_North</td></tr><tr><td>0030020398</td><td>0030012616</td><td>BUD</td><td>百威纯生8度500ML1X6纸箱OW瓶装（提手装）</td><td>83336</td><td>202307</td><td>192</td><td>0030020398</td><td>北区|BU_N</td><td>河北北区|Region_Hebei_North</td></tr><tr><td>0030020398</td><td>0030012616</td><td>BUD</td><td>百威9.7度460ML1X6纸箱OW瓶装-零售价版</td><td>96141</td><td>202310</td><td>768</td><td>0030020398</td><td>北区|BU_N</td><td>河北北区|Region_Hebei_North</td></tr><tr><td>0030020398</td><td>0030012616</td><td>BUD</td><td>百威金尊9.5度428ML1X12纸箱回瓶装-尊享版</td><td>99717</td><td>202308</td><td>24</td><td>0030020398</td><td>北区|BU_N</td><td>河北北区|Region_Hebei_North</td></tr><tr><td>0030020398</td><td>0030012616</td><td>BUD</td><td>百威9.7度460ML1X6纸箱OW瓶装-零售价版</td><td>96141</td><td>202402</td><td>832</td><td>0030020398</td><td>北区|BU_N</td><td>河北北区|Region_Hebei_North</td></tr><tr><td>0030020398</td><td>0030012616</td><td>BUD</td><td>百威纯生8度500ML1X12纸箱回瓶装-北区专供</td><td>80191</td><td>202307</td><td>60</td><td>0030020398</td><td>北区|BU_N</td><td>河北北区|Region_Hebei_North</td></tr><tr><td>0030020398</td><td>0030012616</td><td>BUD</td><td>百威9.7度460ML1X6纸箱OW瓶装-河北北</td><td>92547</td><td>202401</td><td>1280</td><td>0030020398</td><td>北区|BU_N</td><td>河北北区|Region_Hebei_North</td></tr><tr><td>0030020398</td><td>0030012616</td><td>BUD</td><td>百威9.7度460ML1X6纸箱OW瓶装-河北北</td><td>92547</td><td>202309</td><td>408</td><td>0030020398</td><td>北区|BU_N</td><td>河北北区|Region_Hebei_North</td></tr><tr><td>0030020398</td><td>0030012616</td><td>BUD</td><td>CT_百威9.7度460ML1X12纸箱回瓶</td><td>30882</td><td>202401</td><td>2127</td><td>0030020398</td><td>北区|BU_N</td><td>河北北区|Region_Hebei_North</td></tr><tr><td>0030020398</td><td>0030012616</td><td>BUD</td><td>百威9.7度460ML1X6纸箱OW瓶装-零售价版</td><td>96141</td><td>202312</td><td>3104</td><td>0030020398</td><td>北区|BU_N</td><td>河北北区|Region_Hebei_North</td></tr><tr><td>0030020398</td><td>0030012616</td><td>BUD</td><td>CT_百威9.7度460ML1X12纸箱回瓶</td><td>30882</td><td>202309</td><td>1572</td><td>0030020398</td><td>北区|BU_N</td><td>河北北区|Region_Hebei_North</td></tr><tr><td>0030020398</td><td>0030012616</td><td>BUD</td><td>百威金尊9.5度428ML1X12纸箱回瓶装-尊享版</td><td>99717</td><td>202401</td><td>56</td><td>0030020398</td><td>北区|BU_N</td><td>河北北区|Region_Hebei_North</td></tr><tr><td>0030020398</td><td>0030012616</td><td>BUD</td><td>CT_百威9.7度460ML1X12纸箱回瓶</td><td>30882</td><td>202310</td><td>1000</td><td>0030020398</td><td>北区|BU_N</td><td>河北北区|Region_Hebei_North</td></tr><tr><td>0030020398</td><td>0030012616</td><td>BUD</td><td>百威金尊9.5度428ML1X12纸箱回瓶装-尊享版</td><td>99717</td><td>202403</td><td>41</td><td>0030020398</td><td>北区|BU_N</td><td>河北北区|Region_Hebei_North</td></tr><tr><td>0030020398</td><td>0030012616</td><td>BUD</td><td>百威金尊9.5度428ML1X12纸箱回瓶装-尊享版</td><td>99717</td><td>202404</td><td>80</td><td>0030020398</td><td>北区|BU_N</td><td>河北北区|Region_Hebei_North</td></tr><tr><td>0030020398</td><td>0030012616</td><td>BUD</td><td>CT_百威9.7度460ML1X12纸箱回瓶</td><td>30882</td><td>202308</td><td>2000</td><td>0030020398</td><td>北区|BU_N</td><td>河北北区|Region_Hebei_North</td></tr></tbody></table></div>"
      ]
     },
     "metadata": {
      "application/vnd.databricks.v1+output": {
       "addedWidgets": {},
       "aggData": [],
       "aggError": "",
       "aggOverflow": false,
       "aggSchema": [],
       "aggSeriesLimitReached": false,
       "aggType": "",
       "arguments": {},
       "columnCustomDisplayInfos": {},
       "data": [
        [
         "0030020398",
         "0030012616",
         "BUD",
         "百威金尊9.5度428ML1X12纸箱回瓶装-尊享版",
         99717,
         "202309",
         52,
         "0030020398",
         "北区|BU_N",
         "河北北区|Region_Hebei_North"
        ],
        [
         "0030020398",
         "0030012616",
         "BUD",
         "CT_百威9.7度460ML1X12纸箱回瓶",
         30882,
         "202312",
         965,
         "0030020398",
         "北区|BU_N",
         "河北北区|Region_Hebei_North"
        ],
        [
         "0030020398",
         "0030012616",
         "BUD",
         "百威9.7度460ML1X6纸箱OW瓶装-零售价版",
         96141,
         "202401",
         44,
         "0030020398",
         "北区|BU_N",
         "河北北区|Region_Hebei_North"
        ],
        [
         "0030020398",
         "0030012616",
         "BUD",
         "百威金尊9.5度428ML1X12纸箱回瓶装-尊享版",
         99717,
         "202310",
         262,
         "0030020398",
         "北区|BU_N",
         "河北北区|Region_Hebei_North"
        ],
        [
         "0030020398",
         "0030012616",
         "BUD",
         "CT_百威9.7度460ML1X12纸箱回瓶",
         30882,
         "202402",
         365,
         "0030020398",
         "北区|BU_N",
         "河北北区|Region_Hebei_North"
        ],
        [
         "0030020398",
         "0030012616",
         "BUD",
         "百威9.7度460ML1X6纸箱OW瓶装-零售价版",
         96141,
         "202309",
         692,
         "0030020398",
         "北区|BU_N",
         "河北北区|Region_Hebei_North"
        ],
        [
         "0030020398",
         "0030012616",
         "BUD",
         "百威金尊9.5度428ML1X12纸箱回瓶装-尊享版",
         99717,
         "202312",
         54,
         "0030020398",
         "北区|BU_N",
         "河北北区|Region_Hebei_North"
        ],
        [
         "0030020398",
         "0030012616",
         "BUD",
         "CT_百威9.7度460ML1X12纸箱回瓶",
         30882,
         "202307",
         904,
         "0030020398",
         "北区|BU_N",
         "河北北区|Region_Hebei_North"
        ],
        [
         "0030020398",
         "0030012616",
         "BUD",
         "百威9.7度460ML1X6纸箱OW瓶装-河北北",
         92547,
         "202307",
         1512,
         "0030020398",
         "北区|BU_N",
         "河北北区|Region_Hebei_North"
        ],
        [
         "0030020398",
         "0030012616",
         "BUD",
         "百威金尊9.5度428ML1X12纸箱回瓶装-尊享版",
         99717,
         "202402",
         42,
         "0030020398",
         "北区|BU_N",
         "河北北区|Region_Hebei_North"
        ],
        [
         "0030020398",
         "0030012616",
         "BUD",
         "百威纯生8度500ML1X6纸箱OW瓶装（提手装）",
         83336,
         "202307",
         192,
         "0030020398",
         "北区|BU_N",
         "河北北区|Region_Hebei_North"
        ],
        [
         "0030020398",
         "0030012616",
         "BUD",
         "百威9.7度460ML1X6纸箱OW瓶装-零售价版",
         96141,
         "202310",
         768,
         "0030020398",
         "北区|BU_N",
         "河北北区|Region_Hebei_North"
        ],
        [
         "0030020398",
         "0030012616",
         "BUD",
         "百威金尊9.5度428ML1X12纸箱回瓶装-尊享版",
         99717,
         "202308",
         24,
         "0030020398",
         "北区|BU_N",
         "河北北区|Region_Hebei_North"
        ],
        [
         "0030020398",
         "0030012616",
         "BUD",
         "百威9.7度460ML1X6纸箱OW瓶装-零售价版",
         96141,
         "202402",
         832,
         "0030020398",
         "北区|BU_N",
         "河北北区|Region_Hebei_North"
        ],
        [
         "0030020398",
         "0030012616",
         "BUD",
         "百威纯生8度500ML1X12纸箱回瓶装-北区专供",
         80191,
         "202307",
         60,
         "0030020398",
         "北区|BU_N",
         "河北北区|Region_Hebei_North"
        ],
        [
         "0030020398",
         "0030012616",
         "BUD",
         "百威9.7度460ML1X6纸箱OW瓶装-河北北",
         92547,
         "202401",
         1280,
         "0030020398",
         "北区|BU_N",
         "河北北区|Region_Hebei_North"
        ],
        [
         "0030020398",
         "0030012616",
         "BUD",
         "百威9.7度460ML1X6纸箱OW瓶装-河北北",
         92547,
         "202309",
         408,
         "0030020398",
         "北区|BU_N",
         "河北北区|Region_Hebei_North"
        ],
        [
         "0030020398",
         "0030012616",
         "BUD",
         "CT_百威9.7度460ML1X12纸箱回瓶",
         30882,
         "202401",
         2127,
         "0030020398",
         "北区|BU_N",
         "河北北区|Region_Hebei_North"
        ],
        [
         "0030020398",
         "0030012616",
         "BUD",
         "百威9.7度460ML1X6纸箱OW瓶装-零售价版",
         96141,
         "202312",
         3104,
         "0030020398",
         "北区|BU_N",
         "河北北区|Region_Hebei_North"
        ],
        [
         "0030020398",
         "0030012616",
         "BUD",
         "CT_百威9.7度460ML1X12纸箱回瓶",
         30882,
         "202309",
         1572,
         "0030020398",
         "北区|BU_N",
         "河北北区|Region_Hebei_North"
        ],
        [
         "0030020398",
         "0030012616",
         "BUD",
         "百威金尊9.5度428ML1X12纸箱回瓶装-尊享版",
         99717,
         "202401",
         56,
         "0030020398",
         "北区|BU_N",
         "河北北区|Region_Hebei_North"
        ],
        [
         "0030020398",
         "0030012616",
         "BUD",
         "CT_百威9.7度460ML1X12纸箱回瓶",
         30882,
         "202310",
         1000,
         "0030020398",
         "北区|BU_N",
         "河北北区|Region_Hebei_North"
        ],
        [
         "0030020398",
         "0030012616",
         "BUD",
         "百威金尊9.5度428ML1X12纸箱回瓶装-尊享版",
         99717,
         "202403",
         41,
         "0030020398",
         "北区|BU_N",
         "河北北区|Region_Hebei_North"
        ],
        [
         "0030020398",
         "0030012616",
         "BUD",
         "百威金尊9.5度428ML1X12纸箱回瓶装-尊享版",
         99717,
         "202404",
         80,
         "0030020398",
         "北区|BU_N",
         "河北北区|Region_Hebei_North"
        ],
        [
         "0030020398",
         "0030012616",
         "BUD",
         "CT_百威9.7度460ML1X12纸箱回瓶",
         30882,
         "202308",
         2000,
         "0030020398",
         "北区|BU_N",
         "河北北区|Region_Hebei_North"
        ]
       ],
       "datasetInfos": [],
       "dbfsResultPath": null,
       "isJsonSchema": true,
       "metadata": {},
       "overflow": false,
       "plotOptions": {
        "customPlotOptions": {},
        "displayType": "table",
        "pivotAggregation": null,
        "pivotColumns": null,
        "xColumns": null,
        "yColumns": null
       },
       "removedWidgets": [],
       "schema": [
        {
         "metadata": "{}",
         "name": "t15_code",
         "type": "\"string\""
        },
        {
         "metadata": "{}",
         "name": "t1_code",
         "type": "\"string\""
        },
        {
         "metadata": "{}",
         "name": "Brand_Family_ComDB",
         "type": "\"string\""
        },
        {
         "metadata": "{}",
         "name": "wccs_sku_name",
         "type": "\"string\""
        },
        {
         "metadata": "{}",
         "name": "skucode",
         "type": "\"integer\""
        },
        {
         "metadata": "{}",
         "name": "billingyearmonth",
         "type": "\"string\""
        },
        {
         "metadata": "{}",
         "name": "str_qty",
         "type": "\"long\""
        },
        {
         "metadata": "{}",
         "name": "payercode",
         "type": "\"string\""
        },
        {
         "metadata": "{}",
         "name": "payer_bu_name",
         "type": "\"string\""
        },
        {
         "metadata": "{}",
         "name": "payer_region_name",
         "type": "\"string\""
        }
       ],
       "type": "table"
      }
     },
     "output_type": "display_data"
    }
   ],
   "source": [
    "# df = spark.sql(f'''\n",
    "#     select  payercode as t15_code, sj_pay_to as t1_code, Brand_Family_ComDB, wccs_sku_name, skucode, month as billingyearmonth, sum(str_qty) as str_qty \n",
    "#     , payercode, payer_bu_name, payer_region_name\n",
    "#     from finance_ds_inventory_dmt.finance_poc_datahub_mid_ws_wccs_str \n",
    "#     where deleted = 0 \n",
    "#     group by all  \n",
    "#     ''')\n",
    "# df.filter('(t1_code == 30012616) and (t15_code == 30020398) and (Brand_Family_ComDB== \"BUD\")').display()\n",
    "\n"
   ]
  },
  {
   "cell_type": "code",
   "execution_count": 0,
   "metadata": {
    "application/vnd.databricks.v1+cell": {
     "cellMetadata": {
      "byteLimit": 2048000,
      "implicitDf": true,
      "rowLimit": 10000
     },
     "inputWidgets": {},
     "nuid": "156cb60d-1ee6-4f73-8c66-8376607fed76",
     "showTitle": false,
     "tableResultSettingsMap": {},
     "title": ""
    }
   },
   "outputs": [],
   "source": [
    "def get_t1_t15_brand_mapping(level='brand'):\n",
    "    \"\"\"\n",
    "    level 还可以是sku\n",
    "    \"\"\"\n",
    "    # -- t1.5手里某个sku的量来自多少个t1\n",
    "    # with table as (\n",
    "    # select payercode, sj_pay_to, Brand_Family_ComDB, skucode from (\n",
    "    # select int(payercode), int(sj_pay_to), Brand_Family_ComDB, int(skucode), row_number() over (partition by payercode, sj_pay_to, Brand_Family_ComDB, skucode order by month) as rank\n",
    "    # from finance_ds_inventory_dmt.finance_poc_datahub_mid_ws_wccs_str ) where rank = 1)\n",
    "\n",
    "    # select payercode as t15_code, skucode, count(sj_pay_to) as t1_count from table\n",
    "    # group by payercode, skucode\n",
    "    # order by sum(sj_pay_to) desc\n",
    "    if level == 'brand':\n",
    "        t1_t15_brand_mapping = spark.sql(\"\"\"\n",
    "        select payercode as t15_code, int(sj_pay_to) as t1_code, Brand_Family_ComDB from (\n",
    "        select int(payercode), int(sj_pay_to), Brand_Family_ComDB, row_number() over (partition by payercode, sj_pay_to, Brand_Family_ComDB order by month) as rank\n",
    "        from finance_ds_inventory_dmt.finance_poc_datahub_mid_ws_wccs_str where deleted = 0  ) where rank = 1\n",
    "        \"\"\").toPandas()\n",
    "    else:\n",
    "        t1_t15_brand_mapping = spark.sql(\"\"\"\n",
    "        select payercode as t15_code, int(sj_pay_to) as t1_code, Brand_Family_ComDB, skucode from (\n",
    "        select int(payercode), int(sj_pay_to), Brand_Family_ComDB, skucode, row_number() over (partition by payercode, sj_pay_to, Brand_Family_ComDB, skucode order by month) as rank\n",
    "        from finance_ds_inventory_dmt.finance_poc_datahub_mid_ws_wccs_str where deleted = 0) where rank = 1\n",
    "        \"\"\").toPandas()\n",
    "        t1_t15_brand_mapping['Brand_Family_ComDB'] = t1_t15_brand_mapping.apply(lambda x: \"_\".join([x['Brand_Family_ComDB'], str(x['skucode'])]), axis=1)  \n",
    "    t1_t15_brand_mapping = t1_t15_brand_mapping[t1_t15_brand_mapping['t15_code'].notnull()]\n",
    "    t1_t15_brand_mapping = t1_t15_brand_mapping[t1_t15_brand_mapping['t1_code'].notnull()]\n",
    "    t1_t15_brand_mapping['t1_code'] = t1_t15_brand_mapping['t1_code'].astype(int)\n",
    "    t1_t15_brand_mapping['t15_code'] = t1_t15_brand_mapping['t15_code'].astype(int)\n",
    "    return t1_t15_brand_mapping"
   ]
  },
  {
   "cell_type": "code",
   "execution_count": 0,
   "metadata": {
    "application/vnd.databricks.v1+cell": {
     "cellMetadata": {
      "byteLimit": 2048000,
      "rowLimit": 10000
     },
     "inputWidgets": {},
     "nuid": "28361fea-04a3-4b7c-a501-428e63e27682",
     "showTitle": false,
     "tableResultSettingsMap": {},
     "title": ""
    }
   },
   "outputs": [],
   "source": [
    "# from pyspark.sql.functions import col"
   ]
  },
  {
   "cell_type": "code",
   "execution_count": 0,
   "metadata": {
    "application/vnd.databricks.v1+cell": {
     "cellMetadata": {
      "byteLimit": 2048000,
      "rowLimit": 10000
     },
     "inputWidgets": {},
     "nuid": "680d36f5-0875-4bc5-9c54-1d1d60a6525d",
     "showTitle": false,
     "tableResultSettingsMap": {},
     "title": ""
    }
   },
   "outputs": [
    {
     "output_type": "execute_result",
     "data": {
      "text/plain": [
       "272884.24105326"
      ]
     },
     "execution_count": 61,
     "metadata": {},
     "output_type": "execute_result"
    }
   ],
   "source": [
    "# result_df = spark.read.parquet('/mnt/srf/inv/fifo_inventory_details_month12_t1_t15_v20250117')\n",
    "# t15 = result_df.filter(col('Openning Balance').isNotNull()).toPandas()\n",
    "# t15['Openning Balance'].sum()"
   ]
  },
  {
   "cell_type": "code",
   "execution_count": 0,
   "metadata": {
    "application/vnd.databricks.v1+cell": {
     "cellMetadata": {
      "byteLimit": 2048000,
      "rowLimit": 10000
     },
     "inputWidgets": {},
     "nuid": "8d3ec439-d5c6-4dbf-996c-819c7bb766e3",
     "showTitle": false,
     "tableResultSettingsMap": {},
     "title": ""
    }
   },
   "outputs": [
    {
     "output_type": "execute_result",
     "data": {
      "text/plain": [
       "568344.5007492801"
      ]
     },
     "execution_count": 50,
     "metadata": {},
     "output_type": "execute_result"
    }
   ],
   "source": [
    "# begin_inv2[begin_inv2['payercode'].isin(t15['t15_code'].unique())]['inv_hl'].sum()"
   ]
  },
  {
   "cell_type": "code",
   "execution_count": 0,
   "metadata": {
    "application/vnd.databricks.v1+cell": {
     "cellMetadata": {},
     "inputWidgets": {},
     "nuid": "7f60ada3-c2b4-4ce2-a17e-22697c25ed75",
     "showTitle": false,
     "tableResultSettingsMap": {},
     "title": ""
    }
   },
   "outputs": [],
   "source": []
  }
 ],
 "metadata": {
  "application/vnd.databricks.v1+notebook": {
   "computePreferences": null,
   "dashboards": [],
   "environmentMetadata": {
    "base_environment": "",
    "environment_version": "1"
   },
   "language": "python",
   "notebookMetadata": {
    "mostRecentlyExecutedCommandWithImplicitDF": {
     "commandId": 3569647735037138,
     "dataframes": [
      "_sqldf"
     ]
    },
    "pythonIndentUnit": 4
   },
   "notebookName": "fetch_data",
   "widgets": {}
  },
  "language_info": {
   "name": "python"
  }
 },
 "nbformat": 4,
 "nbformat_minor": 0
}