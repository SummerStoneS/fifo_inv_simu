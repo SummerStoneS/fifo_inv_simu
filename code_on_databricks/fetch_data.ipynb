{
 "cells": [
  {
   "cell_type": "code",
   "execution_count": 0,
   "metadata": {
    "application/vnd.databricks.v1+cell": {
     "cellMetadata": {
      "byteLimit": 2048000,
      "rowLimit": 10000
     },
     "inputWidgets": {},
     "nuid": "a82faccc-4286-4e2d-86d2-5e587d47a750",
     "showTitle": false,
     "tableResultSettingsMap": {},
     "title": ""
    }
   },
   "outputs": [],
   "source": [
    "import pandas as pd\n",
    "from collections import defaultdict\n",
    "import numpy as np"
   ]
  },
  {
   "cell_type": "code",
   "execution_count": 0,
   "metadata": {
    "application/vnd.databricks.v1+cell": {
     "cellMetadata": {
      "byteLimit": 2048000,
      "rowLimit": 10000
     },
     "inputWidgets": {},
     "nuid": "cb6b0cdd-60b6-4cf9-9a88-e5ae21925c38",
     "showTitle": false,
     "tableResultSettingsMap": {},
     "title": ""
    }
   },
   "outputs": [],
   "source": [
    "def get_parameter(key, default=\"\"):\n",
    "    try:\n",
    "        return dbutils.widgets.get(key)\n",
    "    except Exception as e:\n",
    "        print('have no parameter \"{}\" in dbutils.widgets, return default \"{}\"'.format(key, default))\n",
    "        return default\n",
    "\n",
    "class VersionControl:\n",
    "    def __init__(self, ws_type=None, version=None, comment=None):\n",
    "        self.path = './save_path_log.txt'\n",
    "        self.ws_type = ws_type\n",
    "        self.version = version\n",
    "        self.comment = comment\n",
    "        \n",
    "        if self.ws_type:\n",
    "            self.check_if_version_exists()\n",
    "\n",
    "    def check_if_version_exists(self, ws_type=None, version=None):\n",
    "        ws_type = self.ws_type if not ws_type else ws_type\n",
    "        version = self.version if not version else version\n",
    "        ws_type_versions = self.find_versions(ws_type)\n",
    "        if not ws_type_versions:\n",
    "            print(\"ws_type has not been used before\")\n",
    "            return False\n",
    "        else:\n",
    "            results = [x for x in ws_type_versions if x[0] == version]\n",
    "            if len(results) > 0:\n",
    "                print(results)\n",
    "                return True\n",
    "            else:\n",
    "                print(\"the version has not been saved before\")\n",
    "                return False\n",
    "    \n",
    "    def save_version(self, ws_type=None, version=None, force=False):\n",
    "        \"\"\"\n",
    "        force: if true则有一样的版本也存入，继续跑\n",
    "        \"\"\"\n",
    "        self.ws_type = self.ws_type if not ws_type else ws_type\n",
    "        self.version = self.version if not version else version\n",
    "        check_status = self.check_if_version_exists()\n",
    "        if check_status & ~force:\n",
    "            raise ValueError('version already exists')\n",
    "        else:\n",
    "            with open(self.path, 'a', encoding='utf-8') as file:\n",
    "                print(f'{self.ws_type}, {self.version}, {self.comment}')\n",
    "                file.write(f'\\n{self.ws_type}, {self.version}, {self.comment}')\n",
    "\n",
    "    @staticmethod\n",
    "    def get_all_versions():\n",
    "        with open('./save_path_log.txt', 'r', encoding='utf-8') as file:\n",
    "            versions = file.readlines()\n",
    "        return versions\n",
    "    \n",
    "    def get_version_dict(self):\n",
    "        version_info_list = self.get_all_versions()\n",
    "        version_dict = defaultdict(list)\n",
    "        for x in version_info_list:\n",
    "            if x == '\\n':\n",
    "                pass\n",
    "            else:\n",
    "                version_dict[x.split(\",\")[0]].append((x.split(\",\")[1].strip(), x.split(\",\")[2].strip()))\n",
    "        return version_dict\n",
    "    \n",
    "    def find_versions(self, ws_type=None):\n",
    "        self.version_dict = self.get_version_dict()\n",
    "        if not ws_type:\n",
    "            return self.version_dict\n",
    "        else:\n",
    "            return self.version_dict.get(ws_type)"
   ]
  },
  {
   "cell_type": "code",
   "execution_count": 0,
   "metadata": {
    "application/vnd.databricks.v1+cell": {
     "cellMetadata": {
      "byteLimit": 2048000,
      "rowLimit": 10000
     },
     "inputWidgets": {},
     "nuid": "9682e46e-4bc6-46bf-aa5c-6bc767020fcc",
     "showTitle": true,
     "tableResultSettingsMap": {},
     "title": "str表源说明"
    }
   },
   "outputs": [],
   "source": [
    "# finance_ds_inventory_dmt.finance_poc_datahub_mid_t1ws_wccs_str # t1.5 -> POC/T2 sales_type=1卖给T2，sales_type = 0 卖给POC\n",
    "# # 纯一批经销商的STR落表，sale_type =1是卖给售点，2是卖给2批，3是1.5批卖给售点的(从T1进货的部分)\n",
    "# finance_ds_inventory_dmt.finance_poc_datahub_t1ws_wccs_str        # T1 -> 卖给T1.5/T2/POC\n",
    "\n",
    "# finance_ds_inventory_dmt.finance_poc_datahub_mid_ws_wccs_str     # T1 -> T1.5 payercode是T1.5的，filter sj_pay_to=T1\n",
    "# finance_ds_inventory_dmt.finance_poc_datahub_wccs_str    # T1.5 -> poc 只看从ABI进货的\n",
    "\n",
    "# finance_ds_inventory_dmt.info_order_database_finance_stw # ABI直接卖给经销商的，含t1,t1.5"
   ]
  },
  {
   "cell_type": "code",
   "execution_count": 0,
   "metadata": {
    "application/vnd.databricks.v1+cell": {
     "cellMetadata": {
      "byteLimit": 2048000,
      "rowLimit": 10000
     },
     "inputWidgets": {},
     "nuid": "ef7a79a0-ac85-4847-8c4e-ae2d1c3c0f4d",
     "showTitle": true,
     "tableResultSettingsMap": {},
     "title": "data_dict"
    }
   },
   "outputs": [],
   "source": [
    "brand_family_scope_file_from_vivian = \"/dbfs/FileStore/tables/srf/fifo_inv_simu/src_data/SAP_sku_CIO_BRANDFAMILY_Mapping_final.xlsx\"\n",
    "inv_data_path = '/dbfs/FileStore/tables/srf/fifo_inv_simu/src_data/进销存数据.xlsx'  # 期初库存\n",
    "\n",
    "dec_inv_data_path = '/dbfs/FileStore/tables/srf/fifo_inv_simu/src_data/12月进销存数据.xlsx' # 12月的期末库存 字段也用的是\n",
    "\n",
    "end_inv_data_dict = {\n",
    "    '202412':dec_inv_data_path\n",
    "}"
   ]
  },
  {
   "cell_type": "code",
   "execution_count": 0,
   "metadata": {
    "application/vnd.databricks.v1+cell": {
     "cellMetadata": {
      "byteLimit": 2048000,
      "rowLimit": 10000
     },
     "inputWidgets": {},
     "nuid": "5590714b-5791-4ac8-92ab-c3b1871c15ab",
     "showTitle": true,
     "tableResultSettingsMap": {},
     "title": "ws info"
    }
   },
   "outputs": [],
   "source": [
    "def get_ws_name_payercode_mapping():\n",
    "    mapping = spark.sql('select distinct int(wholesaler_pay_code) as payercode,  wholesaler_name as payername from budtech_brewdat_prod_ods.abi_cloud_wholesaler_ws_wholesaler').toPandas().set_index('payercode')\n",
    "    return mapping"
   ]
  },
  {
   "cell_type": "code",
   "execution_count": 0,
   "metadata": {
    "application/vnd.databricks.v1+cell": {
     "cellMetadata": {
      "byteLimit": 2048000,
      "rowLimit": 10000
     },
     "inputWidgets": {},
     "nuid": "93f9575e-1d2d-458f-a75b-67d0dd33cf15",
     "showTitle": true,
     "tableResultSettingsMap": {},
     "title": "sku mapping"
    }
   },
   "outputs": [
    {
     "output_type": "execute_result",
     "data": {
      "text/html": [
       "<div>\n",
       "<style scoped>\n",
       "    .dataframe tbody tr th:only-of-type {\n",
       "        vertical-align: middle;\n",
       "    }\n",
       "\n",
       "    .dataframe tbody tr th {\n",
       "        vertical-align: top;\n",
       "    }\n",
       "\n",
       "    .dataframe thead th {\n",
       "        text-align: right;\n",
       "    }\n",
       "</style>\n",
       "<table border=\"1\" class=\"dataframe\">\n",
       "  <thead>\n",
       "    <tr style=\"text-align: right;\">\n",
       "      <th></th>\n",
       "      <th>SKUCode</th>\n",
       "      <th>cio_code</th>\n",
       "      <th>cio_name</th>\n",
       "      <th>HL</th>\n",
       "    </tr>\n",
       "  </thead>\n",
       "  <tbody>\n",
       "    <tr>\n",
       "      <th>0</th>\n",
       "      <td>31942</td>\n",
       "      <td>100003</td>\n",
       "      <td>HARBIN ICE哈尔滨冰纯BBT大瓶500ml , (12)</td>\n",
       "      <td>0.06</td>\n",
       "    </tr>\n",
       "    <tr>\n",
       "      <th>1</th>\n",
       "      <td>32197</td>\n",
       "      <td>100003</td>\n",
       "      <td>HARBIN ICE哈尔滨冰纯BBT大瓶500ml , (12)</td>\n",
       "      <td>0.06</td>\n",
       "    </tr>\n",
       "    <tr>\n",
       "      <th>2</th>\n",
       "      <td>39474</td>\n",
       "      <td>100003</td>\n",
       "      <td>HARBIN ICE哈尔滨冰纯BBT大瓶500ml , (12)</td>\n",
       "      <td>0.06</td>\n",
       "    </tr>\n",
       "    <tr>\n",
       "      <th>3</th>\n",
       "      <td>44458</td>\n",
       "      <td>100003</td>\n",
       "      <td>HARBIN ICE哈尔滨冰纯BBT大瓶500ml , (12)</td>\n",
       "      <td>0.06</td>\n",
       "    </tr>\n",
       "    <tr>\n",
       "      <th>4</th>\n",
       "      <td>47386</td>\n",
       "      <td>100003</td>\n",
       "      <td>HARBIN ICE哈尔滨冰纯BBT大瓶500ml , (12)</td>\n",
       "      <td>0.06</td>\n",
       "    </tr>\n",
       "    <tr>\n",
       "      <th>...</th>\n",
       "      <td>...</td>\n",
       "      <td>...</td>\n",
       "      <td>...</td>\n",
       "      <td>...</td>\n",
       "    </tr>\n",
       "    <tr>\n",
       "      <th>6542</th>\n",
       "      <td>106080</td>\n",
       "      <td>107032</td>\n",
       "      <td>BOXING CAT BREWERY拳击猫低醇印度淡色艾尔KEG桶啤20000ml , (1)</td>\n",
       "      <td>0.20</td>\n",
       "    </tr>\n",
       "    <tr>\n",
       "      <th>6543</th>\n",
       "      <td>106218</td>\n",
       "      <td>107037</td>\n",
       "      <td>BOXING CAT BREWERY拳击猫夏日酸啤KEG桶啤20000ml , (1)</td>\n",
       "      <td>0.20</td>\n",
       "    </tr>\n",
       "    <tr>\n",
       "      <th>6544</th>\n",
       "      <td>107111</td>\n",
       "      <td>107064</td>\n",
       "      <td>GOOSE ISLAND鹅岛冬季深色艾尔CAN听装500ml , (12)</td>\n",
       "      <td>0.06</td>\n",
       "    </tr>\n",
       "    <tr>\n",
       "      <th>6545</th>\n",
       "      <td>107237</td>\n",
       "      <td>107066</td>\n",
       "      <td>BLUE GIRL蓝妹铂金SBT铝瓶250ml , (24)</td>\n",
       "      <td>0.06</td>\n",
       "    </tr>\n",
       "    <tr>\n",
       "      <th>6546</th>\n",
       "      <td>107241</td>\n",
       "      <td>107067</td>\n",
       "      <td>BLUE GIRL蓝妹铂金SBT小瓶250ml , (24)</td>\n",
       "      <td>0.06</td>\n",
       "    </tr>\n",
       "  </tbody>\n",
       "</table>\n",
       "<p>6547 rows × 4 columns</p>\n",
       "</div>"
      ],
      "text/plain": [
       "      SKUCode  cio_code                                         cio_name    HL\n",
       "0       31942    100003                 HARBIN ICE哈尔滨冰纯BBT大瓶500ml , (12)  0.06\n",
       "1       32197    100003                 HARBIN ICE哈尔滨冰纯BBT大瓶500ml , (12)  0.06\n",
       "2       39474    100003                 HARBIN ICE哈尔滨冰纯BBT大瓶500ml , (12)  0.06\n",
       "3       44458    100003                 HARBIN ICE哈尔滨冰纯BBT大瓶500ml , (12)  0.06\n",
       "4       47386    100003                 HARBIN ICE哈尔滨冰纯BBT大瓶500ml , (12)  0.06\n",
       "...       ...       ...                                              ...   ...\n",
       "6542   106080    107032  BOXING CAT BREWERY拳击猫低醇印度淡色艾尔KEG桶啤20000ml , (1)  0.20\n",
       "6543   106218    107037      BOXING CAT BREWERY拳击猫夏日酸啤KEG桶啤20000ml , (1)  0.20\n",
       "6544   107111    107064            GOOSE ISLAND鹅岛冬季深色艾尔CAN听装500ml , (12)  0.06\n",
       "6545   107237    107066                   BLUE GIRL蓝妹铂金SBT铝瓶250ml , (24)  0.06\n",
       "6546   107241    107067                   BLUE GIRL蓝妹铂金SBT小瓶250ml , (24)  0.06\n",
       "\n",
       "[6547 rows x 4 columns]"
      ]
     },
     "execution_count": 1,
     "metadata": {},
     "output_type": "execute_result"
    }
   ],
   "source": [
    "def get_sku_hl_mapping_table():\n",
    "    sku_hl_mapping = spark.sql(\n",
    "    \"\"\"\n",
    "    WITH CIO AS (\n",
    "    SELECT\n",
    "        DISTINCT cio_id AS cio_code,\n",
    "        c_product as cio_name,\n",
    "        regexp_replace(capacity, '([a-zA-Z])', '') / 1000.0 as container_L,\n",
    "        -- trim(C2.Seg) AS Segment,\n",
    "        packagesize\n",
    "    FROM\n",
    "        bees_products_ods.product_center_cio_sku C1\n",
    "        LEFT JOIN bees_products_ods.product_center_cio_mapping C2 ON C2.cio_code = C1.cio_id\n",
    "    WHERE\n",
    "        deleted = 0\n",
    "        AND regexp_replace(capacity, '([a-zA-Z])', '') > 0\n",
    "        AND C2.Seg IS NOT NULL\n",
    "        AND COALESCE(packagesize, 0) > 0\n",
    "    )\n",
    "    SELECT\n",
    "    DISTINCT SC.sap_sku_code as SKUCode, K1.cio_code\n",
    "    ,K1.cio_name\n",
    "    ,K1.container_L * K1.packagesize/100 HL\n",
    "    FROM\n",
    "    CIO K1\n",
    "    JOIN bees_products_ods.product_center_ref_sap_to_cio SC ON SC.cio_sku_code = K1.cio_code\n",
    "    \"\"\"\n",
    "    ).toPandas()\n",
    "    return sku_hl_mapping\n",
    "\n",
    "def get_sku_sap_wccs_code_mapping_table():\n",
    "    wccs_productid_sap_sku_mapping = spark.sql(\n",
    "    \"\"\"\n",
    "    select distinct product_id, cast(sap_skudm as int) as SKUCode from wccs_ods.bas_material\n",
    "    \"\"\").toPandas()\n",
    "    return wccs_productid_sap_sku_mapping     "
   ]
  },
  {
   "cell_type": "code",
   "execution_count": 0,
   "metadata": {
    "application/vnd.databricks.v1+cell": {
     "cellMetadata": {},
     "inputWidgets": {},
     "nuid": "0e53583f-8d02-40c1-9840-37d196438c7c",
     "showTitle": true,
     "tableResultSettingsMap": {},
     "title": "brand family filter"
    }
   },
   "outputs": [],
   "source": [
    "def get_used_brand_family():\n",
    "    \"\"\"\n",
    "    used_wccs_sku_list: wccs product_id 列表，四个brand的\n",
    "    sku_filtered是过滤了四个brand的sku mapping表；\n",
    "    product_id_mapping是全量的sku hl mapping表\n",
    "    \"\"\"\n",
    "    sku_brand_family_mapping = pd.read_excel(brand_family_scope_file_from_vivian) # src: Vivian\n",
    "    used_brand_family = ['ISP', 'BUD', 'HBI', 'HBO', 'HKOW']\n",
    "    # select distinct product_id, cast(sap_skudm as int) as SKUCode from wccs_ods.bas_material\n",
    "    sku_hl_mapping = get_sku_hl_mapping_table()   # from Charlotte code\n",
    "    product_id_mapping = get_sku_sap_wccs_code_mapping_table()\n",
    "    used_brand_family = ['ISP', 'BUD', 'HBI', 'HBO', 'HKOW']\n",
    "    used_brand_family_mapping = sku_brand_family_mapping[sku_brand_family_mapping['Brand Family'].isin(used_brand_family)].drop_duplicates(subset=['SKUCode'])[['SKUCode','Brand Family']]    \n",
    "    # brand family data 匹配product id和百升数\n",
    "    product_id_mapping = pd.merge(product_id_mapping, sku_hl_mapping, on='SKUCode', how='left')   # Pcode, SKUCode,HL\n",
    "    used_brand_family_mapping = pd.merge(used_brand_family_mapping, product_id_mapping, on='SKUCode', how='left')\n",
    "    used_brand_family_mapping['product_id'] = used_brand_family_mapping['product_id'].str.upper()\n",
    "    used_wccs_sku_list = list(used_brand_family_mapping['product_id'].unique())\n",
    "    return used_wccs_sku_list, used_brand_family_mapping, product_id_mapping"
   ]
  },
  {
   "cell_type": "code",
   "execution_count": 0,
   "metadata": {
    "application/vnd.databricks.v1+cell": {
     "cellMetadata": {},
     "inputWidgets": {},
     "nuid": "795d6397-562a-4564-9cce-67d98f3d151b",
     "showTitle": true,
     "tableResultSettingsMap": {},
     "title": "get_inv_data"
    }
   },
   "outputs": [],
   "source": [
    "def get_inv_data(used_wccs_sku_list, sku_filtered, used_qty_col='期初库存', path=inv_data_path):\n",
    "    \"\"\"\n",
    "        箱数_col：期初库存\n",
    "        hl_col: inv_hl     \n",
    "    \"\"\"\n",
    "    # # begin_inv = pd.read_csv('src_data/库存余额表DB-202212.csv')       # 2022年末的期末库存就是2023年的期初库存\n",
    "    begin_inv = pd.read_excel(path)\n",
    "    begin_inv['物料代码'] = begin_inv['物料代码'].str.upper()\n",
    "    begin_inv = begin_inv[begin_inv['物料代码'].isin(used_wccs_sku_list)]\n",
    "    sku_filtered_info = sku_filtered.sort_values(by='product_id').drop_duplicates(subset=['product_id'])\n",
    "    sku_filtered_info = sku_filtered_info[sku_filtered_info['product_id'].notnull()]\n",
    "    begin_inv = pd.merge(begin_inv, sku_filtered_info[['product_id', 'SKUCode', 'Brand Family', 'HL']], left_on='物料代码',right_on='product_id', how='left')\n",
    "    unfound_sku = begin_inv[begin_inv['SKUCode'].isnull()]\n",
    "    if len(unfound_sku) > 0:\n",
    "        print(\"没对应上SKUCode/HL的wccs product id\", unfound_sku['product_id'].unique())\n",
    "    begin_inv['inv_hl'] = begin_inv[used_qty_col] * begin_inv['HL']    # 转换成百升\n",
    "    return begin_inv"
   ]
  },
  {
   "cell_type": "code",
   "execution_count": 0,
   "metadata": {
    "application/vnd.databricks.v1+cell": {
     "cellMetadata": {},
     "inputWidgets": {},
     "nuid": "9c203b69-c398-4889-9cf8-38eaf9041a05",
     "showTitle": true,
     "tableResultSettingsMap": {},
     "title": "ending_inv"
    }
   },
   "outputs": [],
   "source": [
    "def get_ending_inv_month(month='202412', used_qty_col='期末库存'):\n",
    "    \"\"\"\n",
    "    month: 202412的话是指看202412的期末库存\n",
    "    used_qty_col: 默认用这个数据的期末库存，202501的期初库存=202412的期末库存，理论上\n",
    "    return: by ws by brand的期末库存\n",
    "    \"\"\"\n",
    "    used_wccs_sku_list, sku_filtered, product_id_mapping = get_used_brand_family() # sku_filtered是过滤了四个brand的sku mapping表；product_id_mapping是全量的sku hl mapping表\n",
    "    ending_inv = get_inv_data(used_wccs_sku_list, sku_filtered, used_qty_col=used_qty_col, path=end_inv_data_dict[month])\n",
    "\n",
    "    ws_code_mapping_table = spark.sql(\"select distinct wholesalerid as ws_code, int(Pay_to) as payercode  from bcc_baseline_ods.wccs_ws\").toPandas()  # 一个w对着一个300；一个300对着多个W\n",
    "    ending_inv2 = pd.merge(ending_inv, ws_code_mapping_table, left_on='经销商代码', right_on='ws_code', how='left')\n",
    "    ending_inv2['payercode'] = ending_inv2['payercode'].apply(lambda x: None if np.isnan(x) else int(x))\n",
    "    end_inv_by_ws_by_brand = ending_inv2.groupby(['payercode', 'Brand Family'])['inv_hl'].sum()   # 期初库存by ws by brand\n",
    "    return end_inv_by_ws_by_brand"
   ]
  },
  {
   "cell_type": "code",
   "execution_count": 0,
   "metadata": {
    "application/vnd.databricks.v1+cell": {
     "cellMetadata": {},
     "inputWidgets": {},
     "nuid": "28d5b90c-7473-4b6c-a3b4-b10b1064f547",
     "showTitle": true,
     "tableResultSettingsMap": {},
     "title": "get_stw_data"
    }
   },
   "outputs": [],
   "source": [
    "def get_stw_data(start=202101, end=202410):\n",
    "    \"\"\"\n",
    "        箱数_col：stw_qty\n",
    "        hl_col: stw_hl\n",
    "        month_col: billingyearmonth\n",
    "    \"\"\"\n",
    "    # # stw = pd.read_excel('src_data/stw_str_241118.xlsx', sheet_name='STW')        # 2023.1.1~2023.12.31\n",
    "    stw = spark.sql('select * from finance_ds_inventory_dmt.info_order_database_finance_stw').toPandas()          # 2021.1~2024.10\n",
    "    stw.columns = [x.lower() for x in stw.columns]\n",
    "    stw = stw[(stw['billingyearmonth'] >= start) & (stw['billingyearmonth'] <= end)]\n",
    "    return stw\n",
    "\n",
    "def get_str_data(sku_filtered, str_db_path, start=202101, end=202410):\n",
    "    \"\"\"\n",
    "        sku_filtered：skucode and hl, for hl mapping\n",
    "        str_db_path: 如果是字符串直接读表，或者直接传入聚合好的数\n",
    "        month_col: month\n",
    "    \"\"\"\n",
    "    # # ws_str = pd.read_excel('src_data/stw_str_241118.xlsx', sheet_name='STR')\n",
    "    if isinstance(str_db_path, str):\n",
    "        ws_str = spark.sql(f\"select * from {str_db_path}\").toPandas()\n",
    "    elif isinstance(str_db_path, pd.DataFrame):\n",
    "        ws_str = str_db_path\n",
    "    else:\n",
    "        ws_str = str_db_path.toPandas()\n",
    "    # ws_str = spark.sql('select * from finance_ds_inventory_dmt.finance_poc_datahub_wccs_str').toPandas()       # 2021.1~2024.11\n",
    "    ws_str['payercode'] = ws_str['payercode'].astype(int)\n",
    "    ws_str = ws_str[(ws_str['month'] >= start) & (ws_str['month'] <= end)]\n",
    "    ws_str.columns = [x.lower() for x in ws_str.columns]\n",
    "    sku_filtered_info = sku_filtered.sort_values(by='SKUCode').drop_duplicates(subset=['SKUCode'])\n",
    "    ws_str = pd.merge(ws_str, sku_filtered_info[['SKUCode', 'HL']], left_on='skucode', right_on='SKUCode', how='left')\n",
    "    unfound_sku = ws_str[ws_str['HL'].isnull()]\n",
    "    if len(unfound_sku) > 0:\n",
    "        print(unfound_sku)\n",
    "    ws_str['str_hl'] = ws_str['str_qty'] * ws_str['HL']\n",
    "    return ws_str"
   ]
  },
  {
   "cell_type": "code",
   "execution_count": 0,
   "metadata": {
    "application/vnd.databricks.v1+cell": {
     "cellMetadata": {
      "byteLimit": 2048000,
      "rowLimit": 10000
     },
     "inputWidgets": {},
     "nuid": "be627060-7cc6-4281-a23e-f79c5c4465f4",
     "showTitle": false,
     "tableResultSettingsMap": {},
     "title": ""
    }
   },
   "outputs": [],
   "source": [
    "def cat_code(df):\n",
    "    return str(df['t1_code']) + \"_\" + str(df['t15_code'])\n",
    "\n",
    "def split_paycode(df):\n",
    "    v = df['payercode'].split(\"_\")\n",
    "    return v[0], v[1]"
   ]
  },
  {
   "cell_type": "code",
   "execution_count": 0,
   "metadata": {
    "application/vnd.databricks.v1+cell": {
     "cellMetadata": {
      "byteLimit": 2048000,
      "rowLimit": 10000
     },
     "inputWidgets": {},
     "nuid": "6470ed84-31fc-4c39-a91e-d1caa12c403a",
     "showTitle": true,
     "tableResultSettingsMap": {},
     "title": "t1.5 in"
    }
   },
   "outputs": [
    {
     "output_type": "stream",
     "name": "stdout",
     "output_type": "stream",
     "text": [
      "1878\n"
     ]
    }
   ],
   "source": [
    "def get_all_t1_t15_comb():\n",
    "    \"\"\"\n",
    "    所有t1 * t15 的组合\n",
    "    \"\"\"\n",
    "    df = spark.sql(f'''\n",
    "        select payercode as t15_code, sj_pay_to as t1_code  \n",
    "        from finance_ds_inventory_dmt.finance_poc_datahub_mid_ws_wccs_str \n",
    "        where deleted = 0  \n",
    "        group by all \n",
    "        ''')\n",
    "    print(df.count()) # 1878\n",
    "    df = df.toPandas()\n",
    "    df['t15_code'] = df['t15_code'].apply(lambda x: str(int(x)))\n",
    "    df['t1_code'] = df['t1_code'].apply(lambda x: str(int(x)))\n",
    "\n",
    "    return df\n",
    "# get_all_t1_t15_comb()\n",
    "\n",
    "def get_t15_stw_monthly_from_t1(sku_filtered, start='202101', end='202410'):\n",
    "    \"\"\"\n",
    "    t15 每个月从t1 的进货量\n",
    "\n",
    "    STR T1 to T1.5\n",
    "    payercode =T1.5 A, sj_pay_to = T1\n",
    "    payercode =T1.5 B, sj_pay_to = T1\n",
    "    \"\"\"\n",
    "    print(start, end)\n",
    "    df = spark.sql(f'''\n",
    "        select  payercode as t15_code, sj_pay_to as t1_code, Brand_Family_ComDB, wccs_sku_name, skucode, month as billingyearmonth, sum(str_qty) as str_qty \n",
    "        , payercode, payer_bu_name, payer_region_name\n",
    "        from finance_ds_inventory_dmt.finance_poc_datahub_mid_ws_wccs_str \n",
    "        where deleted = 0 \n",
    "        group by all  \n",
    "        ''')\n",
    "    stw = df.toPandas()\n",
    "    #TODO payercode t1,t15 组合？\n",
    "    stw['t1_code'] = stw['t1_code'].apply(lambda x: str(int(x)))\n",
    "    stw['t15_code'] = stw['t15_code'].apply(lambda x: str(int(x)))\n",
    "    stw = stw[(stw['billingyearmonth'] >= start) & (stw['billingyearmonth'] <= end)]\n",
    "    stw.columns = [x.lower() for x in stw.columns]\n",
    "    sku_filtered_info = sku_filtered.sort_values(by='SKUCode').drop_duplicates(subset=['SKUCode'])\n",
    "    stw = pd.merge(stw, sku_filtered_info[['SKUCode', 'HL']], left_on='skucode', right_on='SKUCode', how='left')\n",
    "    unfound_sku = stw[stw['HL'].isnull()]\n",
    "    if len(unfound_sku) > 0:\n",
    "        print(unfound_sku)\n",
    "    stw['stw_hl'] = stw['str_qty'] * stw['HL']\n",
    "    stw['payercode']  = stw.apply(lambda x : cat_code(x), axis=1)\n",
    "    return stw\n",
    "\n",
    "\n",
    "def get_t15_inv(month='202012'):\n",
    "    pass\n"
   ]
  },
  {
   "cell_type": "code",
   "execution_count": 0,
   "metadata": {
    "application/vnd.databricks.v1+cell": {
     "cellMetadata": {},
     "inputWidgets": {},
     "nuid": "a3d55d50-aa71-4cad-8801-10c91ff77049",
     "showTitle": true,
     "tableResultSettingsMap": {},
     "title": "t1.5 out"
    }
   },
   "outputs": [],
   "source": [
    "def get_t15_str_monthly(sku_filtered, start='202101', end='202410'):\n",
    "    \"\"\"\n",
    "    t15 的str量\n",
    "    记到不同的t1身上\n",
    "\n",
    "    T1.5 to POC\n",
    "    sale type = 3, sub_payercode = T1.5 A\n",
    "    sale type = 3, sub_payercode = T1.5 B\n",
    "\n",
    "    \"\"\"\n",
    "    print(start, end)\n",
    "    df = spark.sql(f'''\n",
    "        select payercode as t1_code, sub_payercode as t15_code,  Brand_Family_ComDB, wccs_sku_name, skucode,  month, sum(str_qty) as str_qty , \n",
    "        sub_payercode as payercode, payer_bu_name, payer_region_name\n",
    "        from finance_ds_inventory_dmt.finance_poc_datahub_t1ws_wccs_str \n",
    "        where deleted = 0\n",
    "        and sale_type = 3\n",
    "        group by all  \n",
    "        ''')\n",
    "    ws_str = df.toPandas()\n",
    "    ws_str['t1_code'] = ws_str['t1_code'].apply(lambda x: str(int(x)))\n",
    "    ws_str['t15_code'] = ws_str['t15_code'].apply(lambda x: str(int(x)))\n",
    "    ws_str = ws_str[(ws_str['month'] >= start) & (ws_str['month'] <= end)]\n",
    "    ws_str.columns = [x.lower() for x in ws_str.columns]\n",
    "    sku_filtered_info = sku_filtered.sort_values(by='SKUCode').drop_duplicates(subset=['SKUCode'])\n",
    "    ws_str = pd.merge(ws_str, sku_filtered_info[['SKUCode', 'HL']], left_on='skucode', right_on='SKUCode', how='left')\n",
    "    unfound_sku = ws_str[ws_str['HL'].isnull()]\n",
    "    if len(unfound_sku) > 0:\n",
    "        print(unfound_sku)\n",
    "    ws_str['str_hl'] = ws_str['str_qty'] * ws_str['HL']\n",
    "    ws_str['payercode']  = ws_str.apply(lambda x : cat_code(x), axis=1)\n",
    "    return ws_str"
   ]
  },
  {
   "cell_type": "code",
   "execution_count": 0,
   "metadata": {
    "application/vnd.databricks.v1+cell": {
     "cellMetadata": {
      "byteLimit": 2048000,
      "implicitDf": true,
      "rowLimit": 10000
     },
     "inputWidgets": {},
     "nuid": "e19b7975-de9e-4d30-8a79-cdada1aa577b",
     "showTitle": false,
     "tableResultSettingsMap": {},
     "title": ""
    }
   },
   "outputs": [
    {
     "output_type": "display_data",
     "data": {
      "text/html": [
       "<style scoped>\n",
       "  .table-result-container {\n",
       "    max-height: 300px;\n",
       "    overflow: auto;\n",
       "  }\n",
       "  table, th, td {\n",
       "    border: 1px solid black;\n",
       "    border-collapse: collapse;\n",
       "  }\n",
       "  th, td {\n",
       "    padding: 5px;\n",
       "  }\n",
       "  th {\n",
       "    text-align: left;\n",
       "  }\n",
       "</style><div class='table-result-container'><table class='table-result'><thead style='background-color: white'><tr><th>payercode</th><th>payer_name</th><th>payer_bu_code</th><th>payer_bu_name</th><th>payer_region_code</th><th>payer_region_name</th><th>sub_payercode</th><th>sub_payer_name</th><th>month</th><th>Brand_Family_ComDB</th><th>wccs_sku_name</th><th>sale_type</th><th>skucode</th><th>str_qty</th><th>dmt_ins_ts</th><th>dmt_upd_ts</th><th>deleted</th></tr></thead><tbody><tr><td>0030017642</td><td>福建瑞福祥实业有限责任公司</td><td>0000100004</td><td>东南区|BU_SE</td><td>0000105646</td><td>福建泉州|Region_Fujian_Quanzhou</td><td>0030017642</td><td>福建瑞福祥实业有限责任公司</td><td>202304</td><td>BUD</td><td>百威9.7度330ML1X24纸箱听装</td><td>1</td><td>25247</td><td>9954</td><td>2024-12-19T18:35:21.935Z</td><td>2024-12-19T18:35:21.935Z</td><td>0</td></tr><tr><td>0030014908</td><td>大连虹拓贸易有限公司</td><td>0000102688</td><td>东北|BU_NE</td><td>0000105939</td><td>辽西南区|Region_Liaoning_Southwest</td><td>0030014908</td><td>大连虹拓贸易有限公司</td><td>202104</td><td>HBO</td><td>哈尔滨醇爽10度500ML1X12 塑包听装</td><td>1</td><td>50276</td><td>9594</td><td>2024-12-19T18:35:21.935Z</td><td>2024-12-19T18:35:21.935Z</td><td>0</td></tr><tr><td>0030019043</td><td>汕头市潮联优品贸易有限公司</td><td>0000104652</td><td>南区|BU_S</td><td>0000105639</td><td>广东东区|Region_Guangdong_East</td><td>0030019043</td><td>汕头市潮联优品贸易有限公司</td><td>202110</td><td>HKOW</td><td>哈尔滨小麦王10度330ML4X6纸箱听装(塑膜内包)</td><td>1</td><td>55971</td><td>59000</td><td>2024-12-19T18:35:21.935Z</td><td>2024-12-19T18:35:21.935Z</td><td>0</td></tr><tr><td>0030016392</td><td>梅州市金乐丰贸易有限公司</td><td>0000104652</td><td>南区|BU_S</td><td>0000105639</td><td>广东东区|Region_Guangdong_East</td><td>0030016392</td><td>梅州市金乐丰贸易有限公司</td><td>202204</td><td>BUD</td><td>百威9.7度330ML2X9塑包听装-促销版A</td><td>1</td><td>91791</td><td>5865</td><td>2024-12-19T18:35:21.935Z</td><td>2024-12-19T18:35:21.935Z</td><td>0</td></tr><tr><td>0030011177</td><td>广昌县鹏兴商行</td><td>0000100004</td><td>东南区|BU_SE</td><td>0000105990</td><td>江西东部|Region_Jiangxi_East</td><td>0030011177</td><td>广昌县鹏兴商行</td><td>202105</td><td>BUD</td><td>百威9.7度330ML1X24纸箱OW瓶装</td><td>1</td><td>25141</td><td>2693</td><td>2024-12-19T18:35:21.935Z</td><td>2024-12-19T18:35:21.935Z</td><td>0</td></tr><tr><td>0030016321</td><td>天元区联达商行</td><td>0000100004</td><td>东南区|BU_SE</td><td>0000105135</td><td>湖南|Region_Hunan</td><td>0030016321</td><td>天元区联达商行</td><td>202312</td><td>HBI</td><td>哈尔滨冰纯9.1度500ML1X12纸箱听装（带提手）-促销版A</td><td>1</td><td>87855</td><td>2000</td><td>2024-12-19T18:35:21.935Z</td><td>2024-12-19T18:35:21.935Z</td><td>0</td></tr><tr><td>0030016392</td><td>梅州市金乐丰贸易有限公司</td><td>0000104652</td><td>南区|BU_S</td><td>0000105639</td><td>广东东区|Region_Guangdong_East</td><td>0030016392</td><td>梅州市金乐丰贸易有限公司</td><td>202105</td><td>BUD</td><td>百威9.7度500ML1X12纸箱回瓶装(广东特供)</td><td>1</td><td>87711</td><td>44062</td><td>2024-12-19T18:35:21.935Z</td><td>2024-12-19T18:35:21.935Z</td><td>0</td></tr><tr><td>0030008740</td><td>科尔沁右翼前旗乾润商贸有限责任公司</td><td>0000102688</td><td>东北|BU_NE</td><td>0000106041</td><td>吉林西区|Region_Jilin_West</td><td>0030008740</td><td>科尔沁右翼前旗乾润商贸有限责任公司</td><td>202206</td><td>HBI</td><td>哈尔滨冰纯9.1度500ML1X12纸箱回瓶装-促销版D</td><td>1</td><td>43416</td><td>128937</td><td>2024-12-19T18:35:21.935Z</td><td>2024-12-19T18:35:21.935Z</td><td>0</td></tr><tr><td>0030002987</td><td>重庆高美食品酒业有限责任公司</td><td>0000104662</td><td>中区|BU_C</td><td>0000105122</td><td>重庆市|Region_Chongqing</td><td>0030002987</td><td>重庆高美食品酒业有限责任公司</td><td>202306</td><td>HBO</td><td>哈尔滨清爽8度330ML1X24纸箱回瓶装(无格挡)-白瓶</td><td>1</td><td>71301</td><td>4225</td><td>2024-12-19T18:35:21.935Z</td><td>2024-12-19T18:35:21.935Z</td><td>0</td></tr><tr><td>0030002987</td><td>重庆高美食品酒业有限责任公司</td><td>0000104662</td><td>中区|BU_C</td><td>0000105122</td><td>重庆市|Region_Chongqing</td><td>0030002987</td><td>重庆高美食品酒业有限责任公司</td><td>202405</td><td>BUD</td><td>CT_百威9.7度330ML1X24纸箱OW铝瓶装(C2C)</td><td>1</td><td>67235</td><td>10149</td><td>2024-12-19T18:35:21.935Z</td><td>2024-12-19T18:35:21.935Z</td><td>0</td></tr></tbody></table></div>"
      ]
     },
     "metadata": {
      "application/vnd.databricks.v1+output": {
       "addedWidgets": {},
       "aggData": [],
       "aggError": "",
       "aggOverflow": false,
       "aggSchema": [],
       "aggSeriesLimitReached": false,
       "aggType": "",
       "arguments": {},
       "columnCustomDisplayInfos": {},
       "data": [
        [
         "0030017642",
         "福建瑞福祥实业有限责任公司",
         "0000100004",
         "东南区|BU_SE",
         "0000105646",
         "福建泉州|Region_Fujian_Quanzhou",
         "0030017642",
         "福建瑞福祥实业有限责任公司",
         "202304",
         "BUD",
         "百威9.7度330ML1X24纸箱听装",
         1,
         25247,
         9954,
         "2024-12-19T18:35:21.935Z",
         "2024-12-19T18:35:21.935Z",
         0
        ],
        [
         "0030014908",
         "大连虹拓贸易有限公司",
         "0000102688",
         "东北|BU_NE",
         "0000105939",
         "辽西南区|Region_Liaoning_Southwest",
         "0030014908",
         "大连虹拓贸易有限公司",
         "202104",
         "HBO",
         "哈尔滨醇爽10度500ML1X12 塑包听装",
         1,
         50276,
         9594,
         "2024-12-19T18:35:21.935Z",
         "2024-12-19T18:35:21.935Z",
         0
        ],
        [
         "0030019043",
         "汕头市潮联优品贸易有限公司",
         "0000104652",
         "南区|BU_S",
         "0000105639",
         "广东东区|Region_Guangdong_East",
         "0030019043",
         "汕头市潮联优品贸易有限公司",
         "202110",
         "HKOW",
         "哈尔滨小麦王10度330ML4X6纸箱听装(塑膜内包)",
         1,
         55971,
         59000,
         "2024-12-19T18:35:21.935Z",
         "2024-12-19T18:35:21.935Z",
         0
        ],
        [
         "0030016392",
         "梅州市金乐丰贸易有限公司",
         "0000104652",
         "南区|BU_S",
         "0000105639",
         "广东东区|Region_Guangdong_East",
         "0030016392",
         "梅州市金乐丰贸易有限公司",
         "202204",
         "BUD",
         "百威9.7度330ML2X9塑包听装-促销版A",
         1,
         91791,
         5865,
         "2024-12-19T18:35:21.935Z",
         "2024-12-19T18:35:21.935Z",
         0
        ],
        [
         "0030011177",
         "广昌县鹏兴商行",
         "0000100004",
         "东南区|BU_SE",
         "0000105990",
         "江西东部|Region_Jiangxi_East",
         "0030011177",
         "广昌县鹏兴商行",
         "202105",
         "BUD",
         "百威9.7度330ML1X24纸箱OW瓶装",
         1,
         25141,
         2693,
         "2024-12-19T18:35:21.935Z",
         "2024-12-19T18:35:21.935Z",
         0
        ],
        [
         "0030016321",
         "天元区联达商行",
         "0000100004",
         "东南区|BU_SE",
         "0000105135",
         "湖南|Region_Hunan",
         "0030016321",
         "天元区联达商行",
         "202312",
         "HBI",
         "哈尔滨冰纯9.1度500ML1X12纸箱听装（带提手）-促销版A",
         1,
         87855,
         2000,
         "2024-12-19T18:35:21.935Z",
         "2024-12-19T18:35:21.935Z",
         0
        ],
        [
         "0030016392",
         "梅州市金乐丰贸易有限公司",
         "0000104652",
         "南区|BU_S",
         "0000105639",
         "广东东区|Region_Guangdong_East",
         "0030016392",
         "梅州市金乐丰贸易有限公司",
         "202105",
         "BUD",
         "百威9.7度500ML1X12纸箱回瓶装(广东特供)",
         1,
         87711,
         44062,
         "2024-12-19T18:35:21.935Z",
         "2024-12-19T18:35:21.935Z",
         0
        ],
        [
         "0030008740",
         "科尔沁右翼前旗乾润商贸有限责任公司",
         "0000102688",
         "东北|BU_NE",
         "0000106041",
         "吉林西区|Region_Jilin_West",
         "0030008740",
         "科尔沁右翼前旗乾润商贸有限责任公司",
         "202206",
         "HBI",
         "哈尔滨冰纯9.1度500ML1X12纸箱回瓶装-促销版D",
         1,
         43416,
         128937,
         "2024-12-19T18:35:21.935Z",
         "2024-12-19T18:35:21.935Z",
         0
        ],
        [
         "0030002987",
         "重庆高美食品酒业有限责任公司",
         "0000104662",
         "中区|BU_C",
         "0000105122",
         "重庆市|Region_Chongqing",
         "0030002987",
         "重庆高美食品酒业有限责任公司",
         "202306",
         "HBO",
         "哈尔滨清爽8度330ML1X24纸箱回瓶装(无格挡)-白瓶",
         1,
         71301,
         4225,
         "2024-12-19T18:35:21.935Z",
         "2024-12-19T18:35:21.935Z",
         0
        ],
        [
         "0030002987",
         "重庆高美食品酒业有限责任公司",
         "0000104662",
         "中区|BU_C",
         "0000105122",
         "重庆市|Region_Chongqing",
         "0030002987",
         "重庆高美食品酒业有限责任公司",
         "202405",
         "BUD",
         "CT_百威9.7度330ML1X24纸箱OW铝瓶装(C2C)",
         1,
         67235,
         10149,
         "2024-12-19T18:35:21.935Z",
         "2024-12-19T18:35:21.935Z",
         0
        ]
       ],
       "datasetInfos": [],
       "dbfsResultPath": null,
       "isJsonSchema": true,
       "metadata": {
        "dataframeName": "_sqldf",
        "executionCount": 5
       },
       "overflow": false,
       "plotOptions": {
        "customPlotOptions": {},
        "displayType": "table",
        "pivotAggregation": null,
        "pivotColumns": null,
        "xColumns": null,
        "yColumns": null
       },
       "removedWidgets": [],
       "schema": [
        {
         "metadata": "{}",
         "name": "payercode",
         "type": "\"string\""
        },
        {
         "metadata": "{}",
         "name": "payer_name",
         "type": "\"string\""
        },
        {
         "metadata": "{}",
         "name": "payer_bu_code",
         "type": "\"string\""
        },
        {
         "metadata": "{}",
         "name": "payer_bu_name",
         "type": "\"string\""
        },
        {
         "metadata": "{}",
         "name": "payer_region_code",
         "type": "\"string\""
        },
        {
         "metadata": "{}",
         "name": "payer_region_name",
         "type": "\"string\""
        },
        {
         "metadata": "{}",
         "name": "sub_payercode",
         "type": "\"string\""
        },
        {
         "metadata": "{}",
         "name": "sub_payer_name",
         "type": "\"string\""
        },
        {
         "metadata": "{}",
         "name": "month",
         "type": "\"string\""
        },
        {
         "metadata": "{}",
         "name": "Brand_Family_ComDB",
         "type": "\"string\""
        },
        {
         "metadata": "{}",
         "name": "wccs_sku_name",
         "type": "\"string\""
        },
        {
         "metadata": "{}",
         "name": "sale_type",
         "type": "\"integer\""
        },
        {
         "metadata": "{}",
         "name": "skucode",
         "type": "\"integer\""
        },
        {
         "metadata": "{}",
         "name": "str_qty",
         "type": "\"integer\""
        },
        {
         "metadata": "{}",
         "name": "dmt_ins_ts",
         "type": "\"timestamp\""
        },
        {
         "metadata": "{}",
         "name": "dmt_upd_ts",
         "type": "\"timestamp\""
        },
        {
         "metadata": "{}",
         "name": "deleted",
         "type": "\"integer\""
        }
       ],
       "type": "table"
      }
     },
     "output_type": "display_data"
    }
   ],
   "source": [
    "# %sql\n",
    "# -- select * from finance_ds_inventory_dmt.finance_poc_datahub_t1ws_wccs_str limit 10"
   ]
  },
  {
   "cell_type": "code",
   "execution_count": 0,
   "metadata": {
    "application/vnd.databricks.v1+cell": {
     "cellMetadata": {
      "byteLimit": 2048000,
      "implicitDf": true,
      "rowLimit": 10000
     },
     "inputWidgets": {},
     "nuid": "a7d04de5-c94d-4ee6-b56a-ac5b9823a293",
     "showTitle": false,
     "tableResultSettingsMap": {},
     "title": ""
    }
   },
   "outputs": [
    {
     "output_type": "display_data",
     "data": {
      "text/html": [
       "<style scoped>\n",
       "  .table-result-container {\n",
       "    max-height: 300px;\n",
       "    overflow: auto;\n",
       "  }\n",
       "  table, th, td {\n",
       "    border: 1px solid black;\n",
       "    border-collapse: collapse;\n",
       "  }\n",
       "  th, td {\n",
       "    padding: 5px;\n",
       "  }\n",
       "  th {\n",
       "    text-align: left;\n",
       "  }\n",
       "</style><div class='table-result-container'><table class='table-result'><thead style='background-color: white'><tr><th>SoldToCode</th><th>SoldToName</th><th>PayerCode</th><th>PayerName</th><th>payer_bu_code</th><th>payer_bu_name</th><th>payer_region_code</th><th>payer_region_name</th><th>BillingYearMonth</th><th>Brand_Family_ComDB</th><th>SKUCode</th><th>SKUName</th><th>stw_hl</th><th>stw_qty</th><th>dmt_ins_ts</th><th>dmt_upd_ts</th><th>deleted</th></tr></thead><tbody><tr><td>10047076</td><td>鄂伦春自治旗大杨树镇华奕佳丰酒业</td><td>30019511</td><td>鄂伦春自治旗大杨树镇华奕佳丰酒业</td><td>0000102688</td><td>东北|BU_NE</td><td>0000105627</td><td>黑龙江东区|Region_Heilongjiang_East</td><td>202311</td><td>BUD</td><td>100945</td><td>百威9.7度460ML1X12纸箱回瓶装-钻石标-促销版A</td><td>132.15</td><td>2394</td><td>2024-12-16T08:01:25.961Z</td><td>2024-12-16T08:01:25.961Z</td><td>0</td></tr><tr><td>10032225</td><td>广州韶记贸易有限公司</td><td>30016284</td><td>广州韶记贸易有限公司</td><td>0000104652</td><td>南区|BU_S</td><td>0000105642</td><td>广东大广州|Region_Guangdong_Greater Guan</td><td>202311</td><td>BUD</td><td>37995</td><td>百威纯生8度500ML1X12纸箱回瓶装(无格挡)</td><td>45.36</td><td>756</td><td>2024-12-16T08:01:25.961Z</td><td>2024-12-16T08:01:25.961Z</td><td>0</td></tr><tr><td>10027311</td><td>海南明峰贸易有限公司</td><td>30014760</td><td>海南明峰贸易有限公司</td><td>0000104652</td><td>南区|BU_S</td><td>0000105644</td><td>海南|Region_Hainan</td><td>202311</td><td>ISP</td><td>76353</td><td>福佳白11.7度275ML1X24纸箱OW瓶装</td><td>12.01</td><td>182</td><td>2024-12-16T08:01:25.961Z</td><td>2024-12-16T08:01:25.961Z</td><td>0</td></tr><tr><td>10021938</td><td>北京京东世纪贸易有限公司(广州DC)</td><td>30011727</td><td>北京京东世纪信息技术有限公司（广州DC）</td><td>0000104652</td><td>南区|BU_S</td><td>0000105642</td><td>广东大广州|Region_Guangdong_Greater Guan</td><td>202311</td><td>ISP</td><td>82204</td><td>三宝乐11度350ML1X24纸箱听装</td><td>29.40</td><td>350</td><td>2024-12-16T08:01:25.961Z</td><td>2024-12-16T08:01:25.961Z</td><td>0</td></tr><tr><td>10043304</td><td>成都红照天商贸有限公司(宏鑫)</td><td>30015767</td><td>成都红照天商贸有限公司</td><td>0000104649</td><td>西区|BU_W</td><td>0000105637</td><td>四川成都|Region_Sichuan_Chengdu</td><td>202311</td><td>BUD</td><td>63259</td><td>百威9.7度500ML1X12纸箱听装-促销版A(带提手)</td><td>43.20</td><td>720</td><td>2024-12-16T08:01:25.961Z</td><td>2024-12-16T08:01:25.961Z</td><td>0</td></tr><tr><td>10036493</td><td>凤城市金叶商贸有限公司</td><td>30017693</td><td>凤城市金叶商贸有限公司</td><td>0000102688</td><td>东北|BU_NE</td><td>0000105630</td><td>辽宁北区|Region_Liaoning_North</td><td>202311</td><td>HBO</td><td>25503</td><td>哈尔滨冰爽8度330ML1X24纸箱回瓶装</td><td>37.07</td><td>468</td><td>2024-12-16T08:01:25.961Z</td><td>2024-12-16T08:01:25.961Z</td><td>0</td></tr><tr><td>10044345</td><td>泸州市龙马潭区黄前彩副食经营部(叙永分仓)</td><td>30019052</td><td>泸州市龙马潭区黄前彩副食经营部</td><td>0000104649</td><td>西区|BU_W</td><td>0000105635</td><td>四川南区|Region_Sichuan_South</td><td>202310</td><td>HBO</td><td>91504</td><td>哈尔滨清爽8度500ML1X12纸箱回瓶装-新VI版</td><td>64.80</td><td>1080</td><td>2024-12-16T08:01:25.961Z</td><td>2024-12-16T08:01:25.961Z</td><td>0</td></tr><tr><td>10046689</td><td>绥芬河市禹翔百威啤酒经销处</td><td>30019425</td><td>绥芬河市禹翔百威啤酒经销处</td><td>0000102688</td><td>东北|BU_NE</td><td>0000105780</td><td>黑龙江南区|Region_Heilongjiang_South</td><td>202312</td><td>BUD</td><td>100945</td><td>百威9.7度460ML1X12纸箱回瓶装-钻石标-促销版A</td><td>111.28</td><td>2016</td><td>2024-12-16T08:01:25.961Z</td><td>2024-12-16T08:01:25.961Z</td><td>0</td></tr><tr><td>10027839</td><td>广州吉瀚丰翔商贸有限公司</td><td>30014955</td><td>广州吉瀚丰翔商贸有限公司</td><td>0000104652</td><td>南区|BU_S</td><td>0000105642</td><td>广东大广州|Region_Guangdong_Greater Guan</td><td>202311</td><td>BUD</td><td>95798</td><td>百威昕蓝7.5度500ML1X12纸箱听装-常规版</td><td>442.26</td><td>7371</td><td>2024-12-16T08:01:25.961Z</td><td>2024-12-16T08:01:25.961Z</td><td>0</td></tr><tr><td>10054156</td><td>望奎县君威食品有限公司</td><td>30020449</td><td>望奎县君威食品有限公司</td><td>0000102688</td><td>东北|BU_NE</td><td>0000105627</td><td>黑龙江东区|Region_Heilongjiang_East</td><td>202311</td><td>BUD</td><td>25162</td><td>百威纯生8度500ML1X12纸箱回瓶装</td><td>233.28</td><td>3888</td><td>2024-12-16T08:01:25.961Z</td><td>2024-12-16T08:01:25.961Z</td><td>0</td></tr></tbody></table></div>"
      ]
     },
     "metadata": {
      "application/vnd.databricks.v1+output": {
       "addedWidgets": {},
       "aggData": [],
       "aggError": "",
       "aggOverflow": false,
       "aggSchema": [],
       "aggSeriesLimitReached": false,
       "aggType": "",
       "arguments": {},
       "columnCustomDisplayInfos": {},
       "data": [
        [
         10047076,
         "鄂伦春自治旗大杨树镇华奕佳丰酒业",
         30019511,
         "鄂伦春自治旗大杨树镇华奕佳丰酒业",
         "0000102688",
         "东北|BU_NE",
         "0000105627",
         "黑龙江东区|Region_Heilongjiang_East",
         "202311",
         "BUD",
         100945,
         "百威9.7度460ML1X12纸箱回瓶装-钻石标-促销版A",
         "132.15",
         2394,
         "2024-12-16T08:01:25.961Z",
         "2024-12-16T08:01:25.961Z",
         0
        ],
        [
         10032225,
         "广州韶记贸易有限公司",
         30016284,
         "广州韶记贸易有限公司",
         "0000104652",
         "南区|BU_S",
         "0000105642",
         "广东大广州|Region_Guangdong_Greater Guan",
         "202311",
         "BUD",
         37995,
         "百威纯生8度500ML1X12纸箱回瓶装(无格挡)",
         "45.36",
         756,
         "2024-12-16T08:01:25.961Z",
         "2024-12-16T08:01:25.961Z",
         0
        ],
        [
         10027311,
         "海南明峰贸易有限公司",
         30014760,
         "海南明峰贸易有限公司",
         "0000104652",
         "南区|BU_S",
         "0000105644",
         "海南|Region_Hainan",
         "202311",
         "ISP",
         76353,
         "福佳白11.7度275ML1X24纸箱OW瓶装",
         "12.01",
         182,
         "2024-12-16T08:01:25.961Z",
         "2024-12-16T08:01:25.961Z",
         0
        ],
        [
         10021938,
         "北京京东世纪贸易有限公司(广州DC)",
         30011727,
         "北京京东世纪信息技术有限公司（广州DC）",
         "0000104652",
         "南区|BU_S",
         "0000105642",
         "广东大广州|Region_Guangdong_Greater Guan",
         "202311",
         "ISP",
         82204,
         "三宝乐11度350ML1X24纸箱听装",
         "29.40",
         350,
         "2024-12-16T08:01:25.961Z",
         "2024-12-16T08:01:25.961Z",
         0
        ],
        [
         10043304,
         "成都红照天商贸有限公司(宏鑫)",
         30015767,
         "成都红照天商贸有限公司",
         "0000104649",
         "西区|BU_W",
         "0000105637",
         "四川成都|Region_Sichuan_Chengdu",
         "202311",
         "BUD",
         63259,
         "百威9.7度500ML1X12纸箱听装-促销版A(带提手)",
         "43.20",
         720,
         "2024-12-16T08:01:25.961Z",
         "2024-12-16T08:01:25.961Z",
         0
        ],
        [
         10036493,
         "凤城市金叶商贸有限公司",
         30017693,
         "凤城市金叶商贸有限公司",
         "0000102688",
         "东北|BU_NE",
         "0000105630",
         "辽宁北区|Region_Liaoning_North",
         "202311",
         "HBO",
         25503,
         "哈尔滨冰爽8度330ML1X24纸箱回瓶装",
         "37.07",
         468,
         "2024-12-16T08:01:25.961Z",
         "2024-12-16T08:01:25.961Z",
         0
        ],
        [
         10044345,
         "泸州市龙马潭区黄前彩副食经营部(叙永分仓)",
         30019052,
         "泸州市龙马潭区黄前彩副食经营部",
         "0000104649",
         "西区|BU_W",
         "0000105635",
         "四川南区|Region_Sichuan_South",
         "202310",
         "HBO",
         91504,
         "哈尔滨清爽8度500ML1X12纸箱回瓶装-新VI版",
         "64.80",
         1080,
         "2024-12-16T08:01:25.961Z",
         "2024-12-16T08:01:25.961Z",
         0
        ],
        [
         10046689,
         "绥芬河市禹翔百威啤酒经销处",
         30019425,
         "绥芬河市禹翔百威啤酒经销处",
         "0000102688",
         "东北|BU_NE",
         "0000105780",
         "黑龙江南区|Region_Heilongjiang_South",
         "202312",
         "BUD",
         100945,
         "百威9.7度460ML1X12纸箱回瓶装-钻石标-促销版A",
         "111.28",
         2016,
         "2024-12-16T08:01:25.961Z",
         "2024-12-16T08:01:25.961Z",
         0
        ],
        [
         10027839,
         "广州吉瀚丰翔商贸有限公司",
         30014955,
         "广州吉瀚丰翔商贸有限公司",
         "0000104652",
         "南区|BU_S",
         "0000105642",
         "广东大广州|Region_Guangdong_Greater Guan",
         "202311",
         "BUD",
         95798,
         "百威昕蓝7.5度500ML1X12纸箱听装-常规版",
         "442.26",
         7371,
         "2024-12-16T08:01:25.961Z",
         "2024-12-16T08:01:25.961Z",
         0
        ],
        [
         10054156,
         "望奎县君威食品有限公司",
         30020449,
         "望奎县君威食品有限公司",
         "0000102688",
         "东北|BU_NE",
         "0000105627",
         "黑龙江东区|Region_Heilongjiang_East",
         "202311",
         "BUD",
         25162,
         "百威纯生8度500ML1X12纸箱回瓶装",
         "233.28",
         3888,
         "2024-12-16T08:01:25.961Z",
         "2024-12-16T08:01:25.961Z",
         0
        ]
       ],
       "datasetInfos": [],
       "dbfsResultPath": null,
       "isJsonSchema": true,
       "metadata": {
        "dataframeName": "_sqldf",
        "executionCount": 1
       },
       "overflow": false,
       "plotOptions": {
        "customPlotOptions": {},
        "displayType": "table",
        "pivotAggregation": null,
        "pivotColumns": null,
        "xColumns": null,
        "yColumns": null
       },
       "removedWidgets": [],
       "schema": [
        {
         "metadata": "{}",
         "name": "SoldToCode",
         "type": "\"integer\""
        },
        {
         "metadata": "{}",
         "name": "SoldToName",
         "type": "\"string\""
        },
        {
         "metadata": "{}",
         "name": "PayerCode",
         "type": "\"integer\""
        },
        {
         "metadata": "{}",
         "name": "PayerName",
         "type": "\"string\""
        },
        {
         "metadata": "{}",
         "name": "payer_bu_code",
         "type": "\"string\""
        },
        {
         "metadata": "{}",
         "name": "payer_bu_name",
         "type": "\"string\""
        },
        {
         "metadata": "{}",
         "name": "payer_region_code",
         "type": "\"string\""
        },
        {
         "metadata": "{}",
         "name": "payer_region_name",
         "type": "\"string\""
        },
        {
         "metadata": "{}",
         "name": "BillingYearMonth",
         "type": "\"string\""
        },
        {
         "metadata": "{}",
         "name": "Brand_Family_ComDB",
         "type": "\"string\""
        },
        {
         "metadata": "{}",
         "name": "SKUCode",
         "type": "\"integer\""
        },
        {
         "metadata": "{}",
         "name": "SKUName",
         "type": "\"string\""
        },
        {
         "metadata": "{}",
         "name": "stw_hl",
         "type": "\"decimal(38,2)\""
        },
        {
         "metadata": "{}",
         "name": "stw_qty",
         "type": "\"integer\""
        },
        {
         "metadata": "{}",
         "name": "dmt_ins_ts",
         "type": "\"timestamp\""
        },
        {
         "metadata": "{}",
         "name": "dmt_upd_ts",
         "type": "\"timestamp\""
        },
        {
         "metadata": "{}",
         "name": "deleted",
         "type": "\"integer\""
        }
       ],
       "type": "table"
      }
     },
     "output_type": "display_data"
    }
   ],
   "source": [
    "# %sql\n",
    "# select * from finance_ds_inventory_dmt.info_order_database_finance_stw limit 10"
   ]
  },
  {
   "cell_type": "code",
   "execution_count": 0,
   "metadata": {
    "application/vnd.databricks.v1+cell": {
     "cellMetadata": {
      "byteLimit": 2048000,
      "implicitDf": true,
      "rowLimit": 10000
     },
     "inputWidgets": {},
     "nuid": "a761e9cb-7850-48c9-8bbb-6c7bc11736ec",
     "showTitle": false,
     "tableResultSettingsMap": {},
     "title": ""
    }
   },
   "outputs": [
    {
     "output_type": "display_data",
     "data": {
      "text/html": [
       "<style scoped>\n",
       "  .table-result-container {\n",
       "    max-height: 300px;\n",
       "    overflow: auto;\n",
       "  }\n",
       "  table, th, td {\n",
       "    border: 1px solid black;\n",
       "    border-collapse: collapse;\n",
       "  }\n",
       "  th, td {\n",
       "    padding: 5px;\n",
       "  }\n",
       "  th {\n",
       "    text-align: left;\n",
       "  }\n",
       "</style><div class='table-result-container'><table class='table-result'><thead style='background-color: white'><tr><th>payercode</th></tr></thead><tbody><tr><td>30008459</td></tr><tr><td>30008069</td></tr><tr><td>30007994</td></tr><tr><td>30019302</td></tr><tr><td>30017547</td></tr><tr><td>30003451</td></tr><tr><td>30020672</td></tr><tr><td>30015517</td></tr><tr><td>30009765</td></tr><tr><td>30015950</td></tr><tr><td>30008439</td></tr><tr><td>30019349</td></tr><tr><td>30009730</td></tr><tr><td>30020591</td></tr><tr><td>30012616</td></tr><tr><td>30019280</td></tr><tr><td>30017516</td></tr><tr><td>30009336</td></tr><tr><td>30018195</td></tr><tr><td>30013585</td></tr><tr><td>30018802</td></tr><tr><td>30008643</td></tr><tr><td>30018867</td></tr><tr><td>30016131</td></tr><tr><td>30018394</td></tr><tr><td>30012413</td></tr><tr><td>30020023</td></tr><tr><td>30011246</td></tr><tr><td>30015946</td></tr><tr><td>30001658</td></tr><tr><td>30017133</td></tr><tr><td>30018819</td></tr><tr><td>30019459</td></tr><tr><td>30015765</td></tr><tr><td>30009126</td></tr><tr><td>30012056</td></tr><tr><td>30017868</td></tr><tr><td>30003169</td></tr><tr><td>30008670</td></tr><tr><td>30019536</td></tr><tr><td>30008718</td></tr><tr><td>30020586</td></tr><tr><td>30008130</td></tr><tr><td>30020938</td></tr><tr><td>30020533</td></tr><tr><td>30019216</td></tr><tr><td>30019512</td></tr><tr><td>30013321</td></tr><tr><td>30020159</td></tr><tr><td>30020813</td></tr><tr><td>30002190</td></tr><tr><td>30019683</td></tr><tr><td>30019518</td></tr><tr><td>30001666</td></tr><tr><td>30018221</td></tr><tr><td>30017557</td></tr><tr><td>30020379</td></tr><tr><td>30012439</td></tr><tr><td>30017545</td></tr><tr><td>30018610</td></tr><tr><td>30004269</td></tr><tr><td>30008426</td></tr><tr><td>30014649</td></tr><tr><td>30020902</td></tr><tr><td>30018200</td></tr><tr><td>30019415</td></tr><tr><td>30008561</td></tr><tr><td>30018989</td></tr><tr><td>30002210</td></tr><tr><td>30019982</td></tr><tr><td>30007099</td></tr><tr><td>30019431</td></tr><tr><td>30016998</td></tr><tr><td>30008041</td></tr><tr><td>30003192</td></tr><tr><td>30016199</td></tr><tr><td>30008814</td></tr><tr><td>30020100</td></tr><tr><td>30017833</td></tr><tr><td>30008525</td></tr><tr><td>30020392</td></tr><tr><td>30012658</td></tr><tr><td>30019853</td></tr><tr><td>30018281</td></tr><tr><td>30002283</td></tr><tr><td>30012986</td></tr><tr><td>30018662</td></tr><tr><td>30018863</td></tr><tr><td>30015987</td></tr><tr><td>30020787</td></tr><tr><td>30013122</td></tr><tr><td>30009782</td></tr><tr><td>30002639</td></tr><tr><td>30017309</td></tr><tr><td>30001709</td></tr><tr><td>30019460</td></tr><tr><td>30007014</td></tr><tr><td>30015702</td></tr><tr><td>30008818</td></tr><tr><td>30009867</td></tr><tr><td>30017130</td></tr><tr><td>30009239</td></tr><tr><td>30019788</td></tr><tr><td>30011504</td></tr><tr><td>30011312</td></tr><tr><td>30018213</td></tr><tr><td>30019183</td></tr><tr><td>30009127</td></tr><tr><td>30001669</td></tr><tr><td>30017308</td></tr><tr><td>30020487</td></tr><tr><td>30019060</td></tr><tr><td>30011561</td></tr><tr><td>30012477</td></tr><tr><td>30009297</td></tr><tr><td>30019509</td></tr><tr><td>30008837</td></tr><tr><td>30011565</td></tr><tr><td>30012469</td></tr><tr><td>30019768</td></tr><tr><td>30013576</td></tr><tr><td>30018765</td></tr><tr><td>30017226</td></tr><tr><td>30012447</td></tr><tr><td>30019255</td></tr><tr><td>30009703</td></tr><tr><td>30013284</td></tr><tr><td>30010183</td></tr><tr><td>30020940</td></tr><tr><td>30019435</td></tr><tr><td>30009718</td></tr><tr><td>30017247</td></tr><tr><td>30009724</td></tr><tr><td>30017419</td></tr><tr><td>30002916</td></tr><tr><td>30002397</td></tr><tr><td>30011314</td></tr><tr><td>30013235</td></tr><tr><td>30020388</td></tr><tr><td>30020684</td></tr><tr><td>30017667</td></tr><tr><td>30017471</td></tr><tr><td>30019508</td></tr><tr><td>30012693</td></tr><tr><td>30013038</td></tr><tr><td>30020718</td></tr><tr><td>30020831</td></tr><tr><td>30000514</td></tr><tr><td>30018839</td></tr><tr><td>30020226</td></tr><tr><td>30008407</td></tr><tr><td>30021038</td></tr><tr><td>30016339</td></tr><tr><td>30012642</td></tr><tr><td>30012403</td></tr><tr><td>30017504</td></tr><tr><td>30015722</td></tr><tr><td>30000578</td></tr><tr><td>30009279</td></tr><tr><td>30007890</td></tr><tr><td>30005313</td></tr><tr><td>30008774</td></tr><tr><td>30008854</td></tr><tr><td>30012487</td></tr><tr><td>30003182</td></tr><tr><td>30019054</td></tr><tr><td>30008797</td></tr><tr><td>30018636</td></tr><tr><td>30019972</td></tr><tr><td>30019376</td></tr><tr><td>30019793</td></tr><tr><td>30009319</td></tr><tr><td>30004297</td></tr><tr><td>30019443</td></tr><tr><td>30019249</td></tr><tr><td>30016371</td></tr><tr><td>30012451</td></tr><tr><td>30018890</td></tr><tr><td>30017326</td></tr><tr><td>30009812</td></tr><tr><td>30018482</td></tr><tr><td>30019253</td></tr><tr><td>30002036</td></tr><tr><td>30017742</td></tr><tr><td>30001811</td></tr><tr><td>30012144</td></tr><tr><td>30017616</td></tr><tr><td>30019295</td></tr><tr><td>30019056</td></tr><tr><td>30018201</td></tr><tr><td>30019395</td></tr><tr><td>30020230</td></tr><tr><td>30010273</td></tr><tr><td>30019084</td></tr><tr><td>30012866</td></tr><tr><td>30019138</td></tr><tr><td>30008717</td></tr><tr><td>30019264</td></tr><tr><td>30019907</td></tr><tr><td>30020489</td></tr><tr><td>30019324</td></tr><tr><td>30019520</td></tr><tr><td>30011367</td></tr><tr><td>30019656</td></tr><tr><td>30014904</td></tr><tr><td>30019015</td></tr><tr><td>30015723</td></tr><tr><td>30019308</td></tr><tr><td>30012120</td></tr><tr><td>30011586</td></tr><tr><td>30009715</td></tr><tr><td>30020686</td></tr><tr><td>30003214</td></tr><tr><td>30013101</td></tr><tr><td>30012482</td></tr><tr><td>30018262</td></tr><tr><td>30009579</td></tr><tr><td>30019494</td></tr><tr><td>30005408</td></tr><tr><td>30003514</td></tr><tr><td>30001787</td></tr><tr><td>30019161</td></tr><tr><td>30019961</td></tr><tr><td>30009628</td></tr><tr><td>30018618</td></tr><tr><td>30019719</td></tr><tr><td>30020912</td></tr><tr><td>30018864</td></tr><tr><td>30003161</td></tr><tr><td>30001731</td></tr><tr><td>30014806</td></tr><tr><td>30020576</td></tr><tr><td>30020812</td></tr><tr><td>30018909</td></tr><tr><td>30011560</td></tr><tr><td>30020803</td></tr><tr><td>30001664</td></tr><tr><td>30006750</td></tr><tr><td>30016221</td></tr><tr><td>30019239</td></tr><tr><td>30008677</td></tr><tr><td>30018980</td></tr><tr><td>30010287</td></tr><tr><td>30019238</td></tr><tr><td>30018803</td></tr><tr><td>30003438</td></tr><tr><td>30010731</td></tr><tr><td>30009800</td></tr><tr><td>30019516</td></tr><tr><td>30016226</td></tr><tr><td>30016289</td></tr><tr><td>30018489</td></tr><tr><td>30019247</td></tr><tr><td>30019351</td></tr><tr><td>30018269</td></tr><tr><td>30017789</td></tr><tr><td>30016402</td></tr><tr><td>30009880</td></tr><tr><td>30012506</td></tr><tr><td>30019213</td></tr><tr><td>30017152</td></tr><tr><td>30007792</td></tr><tr><td>30016346</td></tr><tr><td>30001886</td></tr><tr><td>30012448</td></tr><tr><td>30008316</td></tr><tr><td>30012500</td></tr><tr><td>30019215</td></tr><tr><td>30012674</td></tr><tr><td>30019329</td></tr><tr><td>30019313</td></tr><tr><td>30008791</td></tr><tr><td>30020557</td></tr><tr><td>30008424</td></tr><tr><td>30019390</td></tr><tr><td>30002347</td></tr><tr><td>30017048</td></tr><tr><td>30012503</td></tr><tr><td>30002931</td></tr><tr><td>30020793</td></tr><tr><td>30012969</td></tr><tr><td>30001667</td></tr><tr><td>30001874</td></tr><tr><td>30019195</td></tr><tr><td>30019105</td></tr><tr><td>30020650</td></tr><tr><td>30012498</td></tr><tr><td>30017874</td></tr><tr><td>30009772</td></tr><tr><td>30020627</td></tr><tr><td>30019479</td></tr><tr><td>30017681</td></tr><tr><td>30019627</td></tr><tr><td>30019594</td></tr><tr><td>30018214</td></tr><tr><td>30020986</td></tr><tr><td>30017241</td></tr><tr><td>30008531</td></tr><tr><td>30018901</td></tr><tr><td>30018708</td></tr><tr><td>30017866</td></tr><tr><td>30020154</td></tr><tr><td>30008619</td></tr><tr><td>30020988</td></tr><tr><td>30013238</td></tr><tr><td>30002189</td></tr><tr><td>30008637</td></tr><tr><td>30020653</td></tr><tr><td>30009826</td></tr><tr><td>30019167</td></tr><tr><td>30014841</td></tr><tr><td>30017664</td></tr><tr><td>30002905</td></tr><tr><td>30020103</td></tr><tr><td>30018773</td></tr><tr><td>30019171</td></tr><tr><td>30018829</td></tr><tr><td>30001765</td></tr><tr><td>30018570</td></tr><tr><td>30010482</td></tr><tr><td>30009877</td></tr><tr><td>30010129</td></tr><tr><td>30008466</td></tr><tr><td>30016181</td></tr><tr><td>30012510</td></tr><tr><td>30017846</td></tr><tr><td>30012495</td></tr><tr><td>30007565</td></tr><tr><td>30019133</td></tr><tr><td>30018787</td></tr><tr><td>30017836</td></tr><tr><td>30016372</td></tr><tr><td>30018831</td></tr><tr><td>30006388</td></tr><tr><td>30018801</td></tr><tr><td>30008841</td></tr><tr><td>30008398</td></tr><tr><td>30008313</td></tr><tr><td>30018995</td></tr><tr><td>30019923</td></tr><tr><td>30011502</td></tr><tr><td>30020538</td></tr><tr><td>30019469</td></tr><tr><td>30020417</td></tr><tr><td>30020241</td></tr><tr><td>30016354</td></tr><tr><td>30018650</td></tr><tr><td>30013093</td></tr><tr><td>30019722</td></tr><tr><td>30002301</td></tr><tr><td>30019527</td></tr><tr><td>30019259</td></tr><tr><td>30012428</td></tr><tr><td>30013528</td></tr><tr><td>30009843</td></tr><tr><td>30007681</td></tr><tr><td>30019525</td></tr><tr><td>30004312</td></tr><tr><td>30019403</td></tr><tr><td>30012552</td></tr><tr><td>30020917</td></tr><tr><td>30009338</td></tr><tr><td>30009817</td></tr><tr><td>30018375</td></tr><tr><td>30017685</td></tr><tr><td>30016082</td></tr><tr><td>30019976</td></tr><tr><td>30007455</td></tr><tr><td>30001790</td></tr><tr><td>30008388</td></tr><tr><td>30010122</td></tr><tr><td>30017405</td></tr><tr><td>30020246</td></tr><tr><td>30009181</td></tr><tr><td>30007569</td></tr><tr><td>30000662</td></tr><tr><td>30016394</td></tr><tr><td>30014994</td></tr><tr><td>30019929</td></tr><tr><td>30008522</td></tr><tr><td>30009451</td></tr><tr><td>30009775</td></tr><tr><td>30020652</td></tr><tr><td>30015898</td></tr><tr><td>30016450</td></tr><tr><td>30018896</td></tr><tr><td>30015964</td></tr><tr><td>30019463</td></tr><tr><td>30007757</td></tr><tr><td>30004861</td></tr><tr><td>30017632</td></tr><tr><td>30012676</td></tr><tr><td>30019515</td></tr><tr><td>30009300</td></tr><tr><td>30019716</td></tr><tr><td>30020700</td></tr><tr><td>30002860</td></tr><tr><td>30016008</td></tr><tr><td>30014854</td></tr><tr><td>30018666</td></tr><tr><td>30004938</td></tr><tr><td>30019437</td></tr><tr><td>30009929</td></tr><tr><td>30016434</td></tr><tr><td>30018795</td></tr><tr><td>30019223</td></tr><tr><td>30019548</td></tr><tr><td>30017904</td></tr><tr><td>30020214</td></tr><tr><td>30020897</td></tr><tr><td>30019128</td></tr><tr><td>30009820</td></tr><tr><td>30019805</td></tr><tr><td>30019039</td></tr><tr><td>30004856</td></tr><tr><td>30019831</td></tr><tr><td>30002933</td></tr><tr><td>30019237</td></tr><tr><td>30008713</td></tr><tr><td>30017535</td></tr><tr><td>30013381</td></tr><tr><td>30017811</td></tr><tr><td>30018855</td></tr><tr><td>30019490</td></tr><tr><td>30020529</td></tr><tr><td>30010146</td></tr><tr><td>30009992</td></tr><tr><td>30009801</td></tr><tr><td>30008779</td></tr><tr><td>30008422</td></tr><tr><td>30012617</td></tr><tr><td>30016129</td></tr><tr><td>30009708</td></tr><tr><td>30016449</td></tr><tr><td>30008822</td></tr><tr><td>30020088</td></tr><tr><td>30019553</td></tr><tr><td>30012923</td></tr><tr><td>30004440</td></tr><tr><td>30018721</td></tr><tr><td>30020056</td></tr><tr><td>30012892</td></tr><tr><td>30008633</td></tr><tr><td>30019629</td></tr><tr><td>30021043</td></tr><tr><td>30008320</td></tr><tr><td>30015768</td></tr><tr><td>30009595</td></tr><tr><td>30007093</td></tr><tr><td>30020679</td></tr><tr><td>30002601</td></tr><tr><td>30015906</td></tr><tr><td>30019977</td></tr><tr><td>30004874</td></tr><tr><td>30018755</td></tr><tr><td>30008520</td></tr><tr><td>30019053</td></tr><tr><td>30004529</td></tr><tr><td>30018437</td></tr><tr><td>30009700</td></tr><tr><td>30019342</td></tr><tr><td>30015545</td></tr><tr><td>30008842</td></tr><tr><td>30012018</td></tr><tr><td>30004682</td></tr><tr><td>30016409</td></tr><tr><td>30017227</td></tr><tr><td>30011295</td></tr><tr><td>30008486</td></tr><tr><td>30020420</td></tr><tr><td>30007142</td></tr><tr><td>30011695</td></tr><tr><td>30019296</td></tr><tr><td>30015875</td></tr><tr><td>30015896</td></tr><tr><td>30008605</td></tr><tr><td>30014612</td></tr><tr><td>30016275</td></tr><tr><td>30008131</td></tr><tr><td>30017869</td></tr><tr><td>30008475</td></tr><tr><td>30015839</td></tr><tr><td>30011557</td></tr><tr><td>30011721</td></tr><tr><td>30002502</td></tr><tr><td>30017391</td></tr><tr><td>30014721</td></tr><tr><td>30009697</td></tr><tr><td>30019373</td></tr><tr><td>30016132</td></tr><tr><td>30009266</td></tr><tr><td>30017422</td></tr><tr><td>30006370</td></tr><tr><td>30019318</td></tr><tr><td>30020285</td></tr><tr><td>30019218</td></tr><tr><td>30020401</td></tr><tr><td>30008468</td></tr><tr><td>30019328</td></tr><tr><td>30020336</td></tr><tr><td>30015621</td></tr><tr><td>30009672</td></tr><tr><td>30018441</td></tr><tr><td>30018371</td></tr><tr><td>30020527</td></tr><tr><td>30019936</td></tr><tr><td>30020459</td></tr><tr><td>30020058</td></tr><tr><td>30018853</td></tr><tr><td>30018794</td></tr><tr><td>30019224</td></tr><tr><td>30008433</td></tr><tr><td>30008765</td></tr><tr><td>30020195</td></tr><tr><td>30019225</td></tr><tr><td>30020371</td></tr><tr><td>30008739</td></tr><tr><td>30019924</td></tr><tr><td>30004420</td></tr><tr><td>30018775</td></tr><tr><td>30003938</td></tr><tr><td>30015023</td></tr><tr><td>30004864</td></tr><tr><td>30005104</td></tr><tr><td>30008764</td></tr><tr><td>30013318</td></tr><tr><td>30017841</td></tr><tr><td>30002971</td></tr><tr><td>30018873</td></tr><tr><td>30020108</td></tr><tr><td>30008478</td></tr><tr><td>30008801</td></tr><tr><td>30017474</td></tr><tr><td>30011577</td></tr><tr><td>30012486</td></tr><tr><td>30009860</td></tr><tr><td>30003848</td></tr><tr><td>30014689</td></tr><tr><td>30019573</td></tr><tr><td>30018355</td></tr><tr><td>30010366</td></tr><tr><td>30019731</td></tr><tr><td>30003474</td></tr><tr><td>30013502</td></tr><tr><td>30012648</td></tr><tr><td>30020711</td></tr><tr><td>30018435</td></tr><tr><td>30010061</td></tr><tr><td>30016415</td></tr><tr><td>30019240</td></tr><tr><td>30016329</td></tr><tr><td>30011924</td></tr><tr><td>30009293</td></tr><tr><td>30018476</td></tr><tr><td>30017371</td></tr><tr><td>30009766</td></tr><tr><td>30008590</td></tr><tr><td>30020404</td></tr><tr><td>30001747</td></tr><tr><td>30012681</td></tr><tr><td>30005079</td></tr><tr><td>30009719</td></tr><tr><td>30018462</td></tr><tr><td>30016086</td></tr><tr><td>30009275</td></tr><tr><td>30018461</td></tr><tr><td>30020251</td></tr><tr><td>30018931</td></tr><tr><td>30016260</td></tr><tr><td>30013111</td></tr><tr><td>30018917</td></tr><tr><td>30020601</td></tr><tr><td>30008519</td></tr><tr><td>30009609</td></tr><tr><td>30017428</td></tr><tr><td>30019421</td></tr><tr><td>30001684</td></tr><tr><td>30019354</td></tr><tr><td>30007466</td></tr><tr><td>30020575</td></tr><tr><td>30009249</td></tr><tr><td>30012515</td></tr><tr><td>30020165</td></tr><tr><td>30019514</td></tr><tr><td>30019004</td></tr><tr><td>30020047</td></tr><tr><td>30015928</td></tr><tr><td>30013103</td></tr><tr><td>30019876</td></tr><tr><td>30020607</td></tr><tr><td>30020777</td></tr><tr><td>30014897</td></tr><tr><td>30001665</td></tr><tr><td>30017934</td></tr><tr><td>30004171</td></tr><tr><td>30017127</td></tr><tr><td>30018587</td></tr><tr><td>30012475</td></tr><tr><td>30004613</td></tr><tr><td>30015691</td></tr><tr><td>30009479</td></tr><tr><td>30013798</td></tr><tr><td>30017514</td></tr><tr><td>30020564</td></tr><tr><td>30020409</td></tr><tr><td>30015891</td></tr><tr><td>30020534</td></tr><tr><td>30009988</td></tr><tr><td>30008383</td></tr><tr><td>30019634</td></tr><tr><td>30009493</td></tr><tr><td>30011929</td></tr><tr><td>30003107</td></tr><tr><td>30006731</td></tr><tr><td>30009534</td></tr><tr><td>30004960</td></tr><tr><td>30019461</td></tr><tr><td>30015705</td></tr><tr><td>30012450</td></tr><tr><td>30018255</td></tr><tr><td>30012938</td></tr><tr><td>30017687</td></tr><tr><td>30008611</td></tr><tr><td>30016248</td></tr><tr><td>30008277</td></tr><tr><td>30018683</td></tr><tr><td>30017165</td></tr><tr><td>30012835</td></tr><tr><td>30016318</td></tr><tr><td>30005282</td></tr><tr><td>30019061</td></tr><tr><td>30018021</td></tr><tr><td>30020480</td></tr><tr><td>30007096</td></tr><tr><td>30020054</td></tr><tr><td>30018655</td></tr><tr><td>30002239</td></tr><tr><td>30001705</td></tr><tr><td>30007076</td></tr><tr><td>30010336</td></tr><tr><td>30020310</td></tr><tr><td>30000429</td></tr><tr><td>30006208</td></tr><tr><td>30012204</td></tr><tr><td>30020848</td></tr><tr><td>30014824</td></tr><tr><td>30019992</td></tr><tr><td>30002023</td></tr><tr><td>30017748</td></tr><tr><td>30018405</td></tr><tr><td>30019453</td></tr><tr><td>30019055</td></tr><tr><td>30017781</td></tr><tr><td>30020240</td></tr><tr><td>30018217</td></tr><tr><td>30008602</td></tr><tr><td>30016085</td></tr><tr><td>30009321</td></tr><tr><td>30018965</td></tr><tr><td>30016355</td></tr><tr><td>30009809</td></tr><tr><td>30018997</td></tr><tr><td>30002840</td></tr><tr><td>30008614</td></tr><tr><td>30011621</td></tr><tr><td>30019789</td></tr><tr><td>30015016</td></tr><tr><td>30014628</td></tr><tr><td>30014610</td></tr><tr><td>30002262</td></tr><tr><td>30011952</td></tr><tr><td>30014618</td></tr><tr><td>30007761</td></tr><tr><td>30009670</td></tr><tr><td>30017918</td></tr><tr><td>30009415</td></tr><tr><td>30002866</td></tr><tr><td>30018861</td></tr><tr><td>30020038</td></tr><tr><td>30019710</td></tr><tr><td>30009101</td></tr><tr><td>30008460</td></tr><tr><td>30017042</td></tr><tr><td>30012655</td></tr><tr><td>30003266</td></tr><tr><td>30019232</td></tr><tr><td>30011965</td></tr><tr><td>30020411</td></tr><tr><td>30014584</td></tr><tr><td>30018359</td></tr><tr><td>30012400</td></tr><tr><td>30007377</td></tr><tr><td>30008660</td></tr><tr><td>30006245</td></tr><tr><td>30002995</td></tr><tr><td>30004234</td></tr><tr><td>30018883</td></tr><tr><td>30017610</td></tr><tr><td>30017022</td></tr><tr><td>30015510</td></tr><tr><td>30019484</td></tr><tr><td>30001679</td></tr><tr><td>30009329</td></tr><tr><td>30008293</td></tr><tr><td>30010342</td></tr><tr><td>30008489</td></tr><tr><td>30008697</td></tr><tr><td>30017069</td></tr><tr><td>30020191</td></tr><tr><td>30015521</td></tr><tr><td>30019850</td></tr><tr><td>30008698</td></tr><tr><td>30002046</td></tr><tr><td>30019003</td></tr><tr><td>30009270</td></tr><tr><td>30002062</td></tr><tr><td>30016403</td></tr><tr><td>30018955</td></tr><tr><td>30018308</td></tr><tr><td>30001789</td></tr><tr><td>30013517</td></tr><tr><td>30012015</td></tr><tr><td>30001741</td></tr><tr><td>30002044</td></tr><tr><td>30012139</td></tr><tr><td>30019316</td></tr><tr><td>30017408</td></tr><tr><td>30016351</td></tr><tr><td>30008656</td></tr><tr><td>30002364</td></tr><tr><td>30002031</td></tr><tr><td>30015887</td></tr><tr><td>30019565</td></tr><tr><td>30007363</td></tr><tr><td>30018416</td></tr><tr><td>30018838</td></tr><tr><td>30011689</td></tr><tr><td>30004581</td></tr><tr><td>30019534</td></tr><tr><td>30019896</td></tr><tr><td>30009669</td></tr><tr><td>30019951</td></tr><tr><td>30019097</td></tr><tr><td>30010619</td></tr><tr><td>30002073</td></tr><tr><td>30006334</td></tr><tr><td>30020110</td></tr><tr><td>30004920</td></tr><tr><td>30012397</td></tr><tr><td>30012822</td></tr><tr><td>30016128</td></tr><tr><td>30010101</td></tr><tr><td>30012017</td></tr><tr><td>30012497</td></tr><tr><td>30008700</td></tr><tr><td>30011905</td></tr><tr><td>30007172</td></tr><tr><td>30008443</td></tr><tr><td>30018969</td></tr><tr><td>30010219</td></tr><tr><td>30018663</td></tr><tr><td>30014793</td></tr><tr><td>30014912</td></tr><tr><td>30012022</td></tr><tr><td>30019875</td></tr><tr><td>30020419</td></tr><tr><td>30018878</td></tr><tr><td>30018340</td></tr><tr><td>30020798</td></tr><tr><td>30017916</td></tr><tr><td>30020647</td></tr><tr><td>30019311</td></tr><tr><td>30019657</td></tr><tr><td>30009497</td></tr><tr><td>30020843</td></tr><tr><td>30016170</td></tr><tr><td>30012443</td></tr><tr><td>30017736</td></tr><tr><td>30020753</td></tr><tr><td>30008391</td></tr><tr><td>30019522</td></tr><tr><td>30001681</td></tr><tr><td>30017579</td></tr><tr><td>30012950</td></tr><tr><td>30020936</td></tr><tr><td>30020111</td></tr><tr><td>30018616</td></tr><tr><td>30013322</td></tr><tr><td>30019360</td></tr><tr><td>30018843</td></tr><tr><td>30020370</td></tr><tr><td>30013137</td></tr><tr><td>30008710</td></tr><tr><td>30017719</td></tr><tr><td>30011381</td></tr><tr><td>30019559</td></tr><tr><td>30015903</td></tr><tr><td>30019456</td></tr><tr><td>30012058</td></tr><tr><td>30002865</td></tr><tr><td>30001804</td></tr><tr><td>30019893</td></tr><tr><td>30020090</td></tr><tr><td>30016360</td></tr><tr><td>30002835</td></tr><tr><td>30018369</td></tr><tr><td>30016338</td></tr><tr><td>30008518</td></tr><tr><td>30007794</td></tr><tr><td>30002713</td></tr><tr><td>30020449</td></tr><tr><td>30019540</td></tr><tr><td>30019025</td></tr><tr><td>30019700</td></tr><tr><td>30009278</td></tr><tr><td>30018659</td></tr><tr><td>30008955</td></tr><tr><td>30008467</td></tr><tr><td>30019602</td></tr><tr><td>30017246</td></tr><tr><td>30016111</td></tr><tr><td>30020740</td></tr><tr><td>30012391</td></tr><tr><td>30019210</td></tr><tr><td>30018479</td></tr><tr><td>30018292</td></tr><tr><td>30011578</td></tr><tr><td>30020935</td></tr><tr><td>30018597</td></tr><tr><td>30003709</td></tr><tr><td>30019762</td></tr><tr><td>30013433</td></tr><tr><td>30021020</td></tr><tr><td>30019248</td></tr><tr><td>30007635</td></tr><tr><td>30003118</td></tr><tr><td>30013555</td></tr><tr><td>30018660</td></tr><tr><td>30008465</td></tr><tr><td>30014637</td></tr><tr><td>30011286</td></tr><tr><td>30016094</td></tr><tr><td>30009822</td></tr><tr><td>30020369</td></tr><tr><td>30009815</td></tr><tr><td>30019285</td></tr><tr><td>30014706</td></tr><tr><td>30002983</td></tr><tr><td>30020256</td></tr><tr><td>30020373</td></tr><tr><td>30017627</td></tr><tr><td>30018790</td></tr><tr><td>30018239</td></tr><tr><td>30012496</td></tr><tr><td>30020394</td></tr><tr><td>30020933</td></tr><tr><td>30019147</td></tr><tr><td>30017049</td></tr><tr><td>30013129</td></tr><tr><td>30020698</td></tr><tr><td>30011341</td></tr><tr><td>30007016</td></tr><tr><td>30012452</td></tr><tr><td>30013127</td></tr><tr><td>30009255</td></tr><tr><td>30015965</td></tr><tr><td>30007500</td></tr><tr><td>30009617</td></tr><tr><td>30018027</td></tr><tr><td>30009876</td></tr><tr><td>30004583</td></tr><tr><td>30012893</td></tr><tr><td>30019783</td></tr><tr><td>30011908</td></tr><tr><td>30019287</td></tr><tr><td>30019123</td></tr><tr><td>30015929</td></tr><tr><td>30015018</td></tr><tr><td>30009548</td></tr><tr><td>30012479</td></tr><tr><td>30017404</td></tr><tr><td>30017576</td></tr><tr><td>30012499</td></tr><tr><td>30017942</td></tr><tr><td>30009261</td></tr><tr><td>30009755</td></tr><tr><td>30017693</td></tr><tr><td>30019471</td></tr><tr><td>30008905</td></tr><tr><td>30009248</td></tr><tr><td>30012435</td></tr><tr><td>30017248</td></tr><tr><td>30008591</td></tr><tr><td>30019941</td></tr><tr><td>30020471</td></tr><tr><td>30009781</td></tr><tr><td>30012832</td></tr><tr><td>30011157</td></tr><tr><td>30008727</td></tr><tr><td>30009824</td></tr><tr><td>30018840</td></tr><tr><td>30012551</td></tr><tr><td>30018423</td></tr><tr><td>30002906</td></tr><tr><td>30002932</td></tr><tr><td>30019697</td></tr><tr><td>30001647</td></tr><tr><td>30019246</td></tr><tr><td>30020563</td></tr><tr><td>30019330</td></tr><tr><td>30008392</td></tr><tr><td>30013368</td></tr><tr><td>30019529</td></tr><tr><td>30020432</td></tr><tr><td>30019501</td></tr><tr><td>30009760</td></tr><tr><td>30019129</td></tr><tr><td>30017933</td></tr><tr><td>30006371</td></tr><tr><td>30009501</td></tr><tr><td>30019256</td></tr><tr><td>30020398</td></tr><tr><td>30017919</td></tr><tr><td>30019690</td></tr><tr><td>30012761</td></tr><tr><td>30002687</td></tr><tr><td>30020549</td></tr><tr><td>30001766</td></tr><tr><td>30020450</td></tr><tr><td>30017735</td></tr><tr><td>30003186</td></tr><tr><td>30008463</td></tr><tr><td>30012471</td></tr><tr><td>30014626</td></tr><tr><td>30020815</td></tr><tr><td>30020833</td></tr><tr><td>30009359</td></tr><tr><td>30005566</td></tr><tr><td>30021091</td></tr><tr><td>30019438</td></tr><tr><td>30019040</td></tr><tr><td>30019705</td></tr><tr><td>30019535</td></tr><tr><td>30016197</td></tr><tr><td>30004585</td></tr><tr><td>30015784</td></tr><tr><td>30012162</td></tr><tr><td>30011928</td></tr><tr><td>30019212</td></tr><tr><td>30016411</td></tr><tr><td>30015767</td></tr><tr><td>30020499</td></tr><tr><td>30015734</td></tr><tr><td>30019243</td></tr><tr><td>30002685</td></tr><tr><td>30008685</td></tr><tr><td>30018560</td></tr><tr><td>30019523</td></tr><tr><td>30007264</td></tr><tr><td>30009318</td></tr><tr><td>30017900</td></tr><tr><td>30015588</td></tr><tr><td>30020958</td></tr><tr><td>30015706</td></tr><tr><td>30019545</td></tr><tr><td>30001780</td></tr><tr><td>30009762</td></tr><tr><td>30003164</td></tr><tr><td>30015501</td></tr><tr><td>30009810</td></tr><tr><td>30018541</td></tr><tr><td>30020488</td></tr><tr><td>30012838</td></tr><tr><td>30019236</td></tr><tr><td>30017229</td></tr><tr><td>30014879</td></tr><tr><td>30017692</td></tr><tr><td>30018319</td></tr><tr><td>30011243</td></tr><tr><td>30011285</td></tr><tr><td>30019892</td></tr><tr><td>30013109</td></tr><tr><td>30006409</td></tr><tr><td>30016281</td></tr><tr><td>30020166</td></tr><tr><td>30012414</td></tr><tr><td>30019639</td></tr><tr><td>30018966</td></tr><tr><td>30020614</td></tr><tr><td>30012873</td></tr><tr><td>30018762</td></tr><tr><td>30020357</td></tr><tr><td>30009605</td></tr><tr><td>30019487</td></tr><tr><td>30009328</td></tr><tr><td>30019704</td></tr><tr><td>30019297</td></tr><tr><td>30011290</td></tr><tr><td>30019326</td></tr><tr><td>30008410</td></tr><tr><td>30009362</td></tr><tr><td>30001775</td></tr><tr><td>30015959</td></tr><tr><td>30016081</td></tr><tr><td>30021001</td></tr><tr><td>30020170</td></tr><tr><td>30002005</td></tr><tr><td>30020898</td></tr><tr><td>30020658</td></tr><tr><td>30002034</td></tr><tr><td>30002059</td></tr><tr><td>30015947</td></tr><tr><td>30014892</td></tr><tr><td>30002861</td></tr><tr><td>30001998</td></tr><tr><td>30012931</td></tr><tr><td>30016258</td></tr><tr><td>30015526</td></tr><tr><td>30020701</td></tr><tr><td>30019447</td></tr><tr><td>30018653</td></tr><tr><td>30020667</td></tr><tr><td>30000010</td></tr><tr><td>30010367</td></tr><tr><td>30013115</td></tr><tr><td>30013453</td></tr><tr><td>30017138</td></tr><tr><td>30001808</td></tr><tr><td>30020606</td></tr><tr><td>30002911</td></tr><tr><td>30020158</td></tr><tr><td>30013593</td></tr><tr><td>30020905</td></tr><tr><td>30019671</td></tr><tr><td>30011679</td></tr><tr><td>30019394</td></tr><tr><td>30014724</td></tr><tr><td>30013427</td></tr><tr><td>30017409</td></tr><tr><td>30001768</td></tr><tr><td>30017540</td></tr><tr><td>30001806</td></tr><tr><td>30019404</td></tr><tr><td>30020926</td></tr><tr><td>30010114</td></tr><tr><td>30004304</td></tr><tr><td>30002028</td></tr><tr><td>30001980</td></tr><tr><td>30012430</td></tr><tr><td>30013189</td></tr><tr><td>30018004</td></tr><tr><td>30018871</td></tr><tr><td>30010492</td></tr><tr><td>30012390</td></tr><tr><td>30001890</td></tr><tr><td>30001767</td></tr><tr><td>30020298</td></tr><tr><td>30018190</td></tr><tr><td>30015528</td></tr><tr><td>30020852</td></tr><tr><td>30001885</td></tr><tr><td>30015009</td></tr><tr><td>30001883</td></tr><tr><td>30001683</td></tr><tr><td>30012416</td></tr><tr><td>30017822</td></tr><tr><td>30015939</td></tr><tr><td>30001730</td></tr><tr><td>30020880</td></tr><tr><td>30019096</td></tr><tr><td>30001888</td></tr></tbody></table></div>"
      ]
     },
     "metadata": {
      "application/vnd.databricks.v1+output": {
       "addedWidgets": {},
       "aggData": [],
       "aggError": "",
       "aggOverflow": false,
       "aggSchema": [],
       "aggSeriesLimitReached": false,
       "aggType": "",
       "arguments": {},
       "columnCustomDisplayInfos": {},
       "data": [
        [
         30008459
        ],
        [
         30008069
        ],
        [
         30007994
        ],
        [
         30019302
        ],
        [
         30017547
        ],
        [
         30003451
        ],
        [
         30020672
        ],
        [
         30015517
        ],
        [
         30009765
        ],
        [
         30015950
        ],
        [
         30008439
        ],
        [
         30019349
        ],
        [
         30009730
        ],
        [
         30020591
        ],
        [
         30012616
        ],
        [
         30019280
        ],
        [
         30017516
        ],
        [
         30009336
        ],
        [
         30018195
        ],
        [
         30013585
        ],
        [
         30018802
        ],
        [
         30008643
        ],
        [
         30018867
        ],
        [
         30016131
        ],
        [
         30018394
        ],
        [
         30012413
        ],
        [
         30020023
        ],
        [
         30011246
        ],
        [
         30015946
        ],
        [
         30001658
        ],
        [
         30017133
        ],
        [
         30018819
        ],
        [
         30019459
        ],
        [
         30015765
        ],
        [
         30009126
        ],
        [
         30012056
        ],
        [
         30017868
        ],
        [
         30003169
        ],
        [
         30008670
        ],
        [
         30019536
        ],
        [
         30008718
        ],
        [
         30020586
        ],
        [
         30008130
        ],
        [
         30020938
        ],
        [
         30020533
        ],
        [
         30019216
        ],
        [
         30019512
        ],
        [
         30013321
        ],
        [
         30020159
        ],
        [
         30020813
        ],
        [
         30002190
        ],
        [
         30019683
        ],
        [
         30019518
        ],
        [
         30001666
        ],
        [
         30018221
        ],
        [
         30017557
        ],
        [
         30020379
        ],
        [
         30012439
        ],
        [
         30017545
        ],
        [
         30018610
        ],
        [
         30004269
        ],
        [
         30008426
        ],
        [
         30014649
        ],
        [
         30020902
        ],
        [
         30018200
        ],
        [
         30019415
        ],
        [
         30008561
        ],
        [
         30018989
        ],
        [
         30002210
        ],
        [
         30019982
        ],
        [
         30007099
        ],
        [
         30019431
        ],
        [
         30016998
        ],
        [
         30008041
        ],
        [
         30003192
        ],
        [
         30016199
        ],
        [
         30008814
        ],
        [
         30020100
        ],
        [
         30017833
        ],
        [
         30008525
        ],
        [
         30020392
        ],
        [
         30012658
        ],
        [
         30019853
        ],
        [
         30018281
        ],
        [
         30002283
        ],
        [
         30012986
        ],
        [
         30018662
        ],
        [
         30018863
        ],
        [
         30015987
        ],
        [
         30020787
        ],
        [
         30013122
        ],
        [
         30009782
        ],
        [
         30002639
        ],
        [
         30017309
        ],
        [
         30001709
        ],
        [
         30019460
        ],
        [
         30007014
        ],
        [
         30015702
        ],
        [
         30008818
        ],
        [
         30009867
        ],
        [
         30017130
        ],
        [
         30009239
        ],
        [
         30019788
        ],
        [
         30011504
        ],
        [
         30011312
        ],
        [
         30018213
        ],
        [
         30019183
        ],
        [
         30009127
        ],
        [
         30001669
        ],
        [
         30017308
        ],
        [
         30020487
        ],
        [
         30019060
        ],
        [
         30011561
        ],
        [
         30012477
        ],
        [
         30009297
        ],
        [
         30019509
        ],
        [
         30008837
        ],
        [
         30011565
        ],
        [
         30012469
        ],
        [
         30019768
        ],
        [
         30013576
        ],
        [
         30018765
        ],
        [
         30017226
        ],
        [
         30012447
        ],
        [
         30019255
        ],
        [
         30009703
        ],
        [
         30013284
        ],
        [
         30010183
        ],
        [
         30020940
        ],
        [
         30019435
        ],
        [
         30009718
        ],
        [
         30017247
        ],
        [
         30009724
        ],
        [
         30017419
        ],
        [
         30002916
        ],
        [
         30002397
        ],
        [
         30011314
        ],
        [
         30013235
        ],
        [
         30020388
        ],
        [
         30020684
        ],
        [
         30017667
        ],
        [
         30017471
        ],
        [
         30019508
        ],
        [
         30012693
        ],
        [
         30013038
        ],
        [
         30020718
        ],
        [
         30020831
        ],
        [
         30000514
        ],
        [
         30018839
        ],
        [
         30020226
        ],
        [
         30008407
        ],
        [
         30021038
        ],
        [
         30016339
        ],
        [
         30012642
        ],
        [
         30012403
        ],
        [
         30017504
        ],
        [
         30015722
        ],
        [
         30000578
        ],
        [
         30009279
        ],
        [
         30007890
        ],
        [
         30005313
        ],
        [
         30008774
        ],
        [
         30008854
        ],
        [
         30012487
        ],
        [
         30003182
        ],
        [
         30019054
        ],
        [
         30008797
        ],
        [
         30018636
        ],
        [
         30019972
        ],
        [
         30019376
        ],
        [
         30019793
        ],
        [
         30009319
        ],
        [
         30004297
        ],
        [
         30019443
        ],
        [
         30019249
        ],
        [
         30016371
        ],
        [
         30012451
        ],
        [
         30018890
        ],
        [
         30017326
        ],
        [
         30009812
        ],
        [
         30018482
        ],
        [
         30019253
        ],
        [
         30002036
        ],
        [
         30017742
        ],
        [
         30001811
        ],
        [
         30012144
        ],
        [
         30017616
        ],
        [
         30019295
        ],
        [
         30019056
        ],
        [
         30018201
        ],
        [
         30019395
        ],
        [
         30020230
        ],
        [
         30010273
        ],
        [
         30019084
        ],
        [
         30012866
        ],
        [
         30019138
        ],
        [
         30008717
        ],
        [
         30019264
        ],
        [
         30019907
        ],
        [
         30020489
        ],
        [
         30019324
        ],
        [
         30019520
        ],
        [
         30011367
        ],
        [
         30019656
        ],
        [
         30014904
        ],
        [
         30019015
        ],
        [
         30015723
        ],
        [
         30019308
        ],
        [
         30012120
        ],
        [
         30011586
        ],
        [
         30009715
        ],
        [
         30020686
        ],
        [
         30003214
        ],
        [
         30013101
        ],
        [
         30012482
        ],
        [
         30018262
        ],
        [
         30009579
        ],
        [
         30019494
        ],
        [
         30005408
        ],
        [
         30003514
        ],
        [
         30001787
        ],
        [
         30019161
        ],
        [
         30019961
        ],
        [
         30009628
        ],
        [
         30018618
        ],
        [
         30019719
        ],
        [
         30020912
        ],
        [
         30018864
        ],
        [
         30003161
        ],
        [
         30001731
        ],
        [
         30014806
        ],
        [
         30020576
        ],
        [
         30020812
        ],
        [
         30018909
        ],
        [
         30011560
        ],
        [
         30020803
        ],
        [
         30001664
        ],
        [
         30006750
        ],
        [
         30016221
        ],
        [
         30019239
        ],
        [
         30008677
        ],
        [
         30018980
        ],
        [
         30010287
        ],
        [
         30019238
        ],
        [
         30018803
        ],
        [
         30003438
        ],
        [
         30010731
        ],
        [
         30009800
        ],
        [
         30019516
        ],
        [
         30016226
        ],
        [
         30016289
        ],
        [
         30018489
        ],
        [
         30019247
        ],
        [
         30019351
        ],
        [
         30018269
        ],
        [
         30017789
        ],
        [
         30016402
        ],
        [
         30009880
        ],
        [
         30012506
        ],
        [
         30019213
        ],
        [
         30017152
        ],
        [
         30007792
        ],
        [
         30016346
        ],
        [
         30001886
        ],
        [
         30012448
        ],
        [
         30008316
        ],
        [
         30012500
        ],
        [
         30019215
        ],
        [
         30012674
        ],
        [
         30019329
        ],
        [
         30019313
        ],
        [
         30008791
        ],
        [
         30020557
        ],
        [
         30008424
        ],
        [
         30019390
        ],
        [
         30002347
        ],
        [
         30017048
        ],
        [
         30012503
        ],
        [
         30002931
        ],
        [
         30020793
        ],
        [
         30012969
        ],
        [
         30001667
        ],
        [
         30001874
        ],
        [
         30019195
        ],
        [
         30019105
        ],
        [
         30020650
        ],
        [
         30012498
        ],
        [
         30017874
        ],
        [
         30009772
        ],
        [
         30020627
        ],
        [
         30019479
        ],
        [
         30017681
        ],
        [
         30019627
        ],
        [
         30019594
        ],
        [
         30018214
        ],
        [
         30020986
        ],
        [
         30017241
        ],
        [
         30008531
        ],
        [
         30018901
        ],
        [
         30018708
        ],
        [
         30017866
        ],
        [
         30020154
        ],
        [
         30008619
        ],
        [
         30020988
        ],
        [
         30013238
        ],
        [
         30002189
        ],
        [
         30008637
        ],
        [
         30020653
        ],
        [
         30009826
        ],
        [
         30019167
        ],
        [
         30014841
        ],
        [
         30017664
        ],
        [
         30002905
        ],
        [
         30020103
        ],
        [
         30018773
        ],
        [
         30019171
        ],
        [
         30018829
        ],
        [
         30001765
        ],
        [
         30018570
        ],
        [
         30010482
        ],
        [
         30009877
        ],
        [
         30010129
        ],
        [
         30008466
        ],
        [
         30016181
        ],
        [
         30012510
        ],
        [
         30017846
        ],
        [
         30012495
        ],
        [
         30007565
        ],
        [
         30019133
        ],
        [
         30018787
        ],
        [
         30017836
        ],
        [
         30016372
        ],
        [
         30018831
        ],
        [
         30006388
        ],
        [
         30018801
        ],
        [
         30008841
        ],
        [
         30008398
        ],
        [
         30008313
        ],
        [
         30018995
        ],
        [
         30019923
        ],
        [
         30011502
        ],
        [
         30020538
        ],
        [
         30019469
        ],
        [
         30020417
        ],
        [
         30020241
        ],
        [
         30016354
        ],
        [
         30018650
        ],
        [
         30013093
        ],
        [
         30019722
        ],
        [
         30002301
        ],
        [
         30019527
        ],
        [
         30019259
        ],
        [
         30012428
        ],
        [
         30013528
        ],
        [
         30009843
        ],
        [
         30007681
        ],
        [
         30019525
        ],
        [
         30004312
        ],
        [
         30019403
        ],
        [
         30012552
        ],
        [
         30020917
        ],
        [
         30009338
        ],
        [
         30009817
        ],
        [
         30018375
        ],
        [
         30017685
        ],
        [
         30016082
        ],
        [
         30019976
        ],
        [
         30007455
        ],
        [
         30001790
        ],
        [
         30008388
        ],
        [
         30010122
        ],
        [
         30017405
        ],
        [
         30020246
        ],
        [
         30009181
        ],
        [
         30007569
        ],
        [
         30000662
        ],
        [
         30016394
        ],
        [
         30014994
        ],
        [
         30019929
        ],
        [
         30008522
        ],
        [
         30009451
        ],
        [
         30009775
        ],
        [
         30020652
        ],
        [
         30015898
        ],
        [
         30016450
        ],
        [
         30018896
        ],
        [
         30015964
        ],
        [
         30019463
        ],
        [
         30007757
        ],
        [
         30004861
        ],
        [
         30017632
        ],
        [
         30012676
        ],
        [
         30019515
        ],
        [
         30009300
        ],
        [
         30019716
        ],
        [
         30020700
        ],
        [
         30002860
        ],
        [
         30016008
        ],
        [
         30014854
        ],
        [
         30018666
        ],
        [
         30004938
        ],
        [
         30019437
        ],
        [
         30009929
        ],
        [
         30016434
        ],
        [
         30018795
        ],
        [
         30019223
        ],
        [
         30019548
        ],
        [
         30017904
        ],
        [
         30020214
        ],
        [
         30020897
        ],
        [
         30019128
        ],
        [
         30009820
        ],
        [
         30019805
        ],
        [
         30019039
        ],
        [
         30004856
        ],
        [
         30019831
        ],
        [
         30002933
        ],
        [
         30019237
        ],
        [
         30008713
        ],
        [
         30017535
        ],
        [
         30013381
        ],
        [
         30017811
        ],
        [
         30018855
        ],
        [
         30019490
        ],
        [
         30020529
        ],
        [
         30010146
        ],
        [
         30009992
        ],
        [
         30009801
        ],
        [
         30008779
        ],
        [
         30008422
        ],
        [
         30012617
        ],
        [
         30016129
        ],
        [
         30009708
        ],
        [
         30016449
        ],
        [
         30008822
        ],
        [
         30020088
        ],
        [
         30019553
        ],
        [
         30012923
        ],
        [
         30004440
        ],
        [
         30018721
        ],
        [
         30020056
        ],
        [
         30012892
        ],
        [
         30008633
        ],
        [
         30019629
        ],
        [
         30021043
        ],
        [
         30008320
        ],
        [
         30015768
        ],
        [
         30009595
        ],
        [
         30007093
        ],
        [
         30020679
        ],
        [
         30002601
        ],
        [
         30015906
        ],
        [
         30019977
        ],
        [
         30004874
        ],
        [
         30018755
        ],
        [
         30008520
        ],
        [
         30019053
        ],
        [
         30004529
        ],
        [
         30018437
        ],
        [
         30009700
        ],
        [
         30019342
        ],
        [
         30015545
        ],
        [
         30008842
        ],
        [
         30012018
        ],
        [
         30004682
        ],
        [
         30016409
        ],
        [
         30017227
        ],
        [
         30011295
        ],
        [
         30008486
        ],
        [
         30020420
        ],
        [
         30007142
        ],
        [
         30011695
        ],
        [
         30019296
        ],
        [
         30015875
        ],
        [
         30015896
        ],
        [
         30008605
        ],
        [
         30014612
        ],
        [
         30016275
        ],
        [
         30008131
        ],
        [
         30017869
        ],
        [
         30008475
        ],
        [
         30015839
        ],
        [
         30011557
        ],
        [
         30011721
        ],
        [
         30002502
        ],
        [
         30017391
        ],
        [
         30014721
        ],
        [
         30009697
        ],
        [
         30019373
        ],
        [
         30016132
        ],
        [
         30009266
        ],
        [
         30017422
        ],
        [
         30006370
        ],
        [
         30019318
        ],
        [
         30020285
        ],
        [
         30019218
        ],
        [
         30020401
        ],
        [
         30008468
        ],
        [
         30019328
        ],
        [
         30020336
        ],
        [
         30015621
        ],
        [
         30009672
        ],
        [
         30018441
        ],
        [
         30018371
        ],
        [
         30020527
        ],
        [
         30019936
        ],
        [
         30020459
        ],
        [
         30020058
        ],
        [
         30018853
        ],
        [
         30018794
        ],
        [
         30019224
        ],
        [
         30008433
        ],
        [
         30008765
        ],
        [
         30020195
        ],
        [
         30019225
        ],
        [
         30020371
        ],
        [
         30008739
        ],
        [
         30019924
        ],
        [
         30004420
        ],
        [
         30018775
        ],
        [
         30003938
        ],
        [
         30015023
        ],
        [
         30004864
        ],
        [
         30005104
        ],
        [
         30008764
        ],
        [
         30013318
        ],
        [
         30017841
        ],
        [
         30002971
        ],
        [
         30018873
        ],
        [
         30020108
        ],
        [
         30008478
        ],
        [
         30008801
        ],
        [
         30017474
        ],
        [
         30011577
        ],
        [
         30012486
        ],
        [
         30009860
        ],
        [
         30003848
        ],
        [
         30014689
        ],
        [
         30019573
        ],
        [
         30018355
        ],
        [
         30010366
        ],
        [
         30019731
        ],
        [
         30003474
        ],
        [
         30013502
        ],
        [
         30012648
        ],
        [
         30020711
        ],
        [
         30018435
        ],
        [
         30010061
        ],
        [
         30016415
        ],
        [
         30019240
        ],
        [
         30016329
        ],
        [
         30011924
        ],
        [
         30009293
        ],
        [
         30018476
        ],
        [
         30017371
        ],
        [
         30009766
        ],
        [
         30008590
        ],
        [
         30020404
        ],
        [
         30001747
        ],
        [
         30012681
        ],
        [
         30005079
        ],
        [
         30009719
        ],
        [
         30018462
        ],
        [
         30016086
        ],
        [
         30009275
        ],
        [
         30018461
        ],
        [
         30020251
        ],
        [
         30018931
        ],
        [
         30016260
        ],
        [
         30013111
        ],
        [
         30018917
        ],
        [
         30020601
        ],
        [
         30008519
        ],
        [
         30009609
        ],
        [
         30017428
        ],
        [
         30019421
        ],
        [
         30001684
        ],
        [
         30019354
        ],
        [
         30007466
        ],
        [
         30020575
        ],
        [
         30009249
        ],
        [
         30012515
        ],
        [
         30020165
        ],
        [
         30019514
        ],
        [
         30019004
        ],
        [
         30020047
        ],
        [
         30015928
        ],
        [
         30013103
        ],
        [
         30019876
        ],
        [
         30020607
        ],
        [
         30020777
        ],
        [
         30014897
        ],
        [
         30001665
        ],
        [
         30017934
        ],
        [
         30004171
        ],
        [
         30017127
        ],
        [
         30018587
        ],
        [
         30012475
        ],
        [
         30004613
        ],
        [
         30015691
        ],
        [
         30009479
        ],
        [
         30013798
        ],
        [
         30017514
        ],
        [
         30020564
        ],
        [
         30020409
        ],
        [
         30015891
        ],
        [
         30020534
        ],
        [
         30009988
        ],
        [
         30008383
        ],
        [
         30019634
        ],
        [
         30009493
        ],
        [
         30011929
        ],
        [
         30003107
        ],
        [
         30006731
        ],
        [
         30009534
        ],
        [
         30004960
        ],
        [
         30019461
        ],
        [
         30015705
        ],
        [
         30012450
        ],
        [
         30018255
        ],
        [
         30012938
        ],
        [
         30017687
        ],
        [
         30008611
        ],
        [
         30016248
        ],
        [
         30008277
        ],
        [
         30018683
        ],
        [
         30017165
        ],
        [
         30012835
        ],
        [
         30016318
        ],
        [
         30005282
        ],
        [
         30019061
        ],
        [
         30018021
        ],
        [
         30020480
        ],
        [
         30007096
        ],
        [
         30020054
        ],
        [
         30018655
        ],
        [
         30002239
        ],
        [
         30001705
        ],
        [
         30007076
        ],
        [
         30010336
        ],
        [
         30020310
        ],
        [
         30000429
        ],
        [
         30006208
        ],
        [
         30012204
        ],
        [
         30020848
        ],
        [
         30014824
        ],
        [
         30019992
        ],
        [
         30002023
        ],
        [
         30017748
        ],
        [
         30018405
        ],
        [
         30019453
        ],
        [
         30019055
        ],
        [
         30017781
        ],
        [
         30020240
        ],
        [
         30018217
        ],
        [
         30008602
        ],
        [
         30016085
        ],
        [
         30009321
        ],
        [
         30018965
        ],
        [
         30016355
        ],
        [
         30009809
        ],
        [
         30018997
        ],
        [
         30002840
        ],
        [
         30008614
        ],
        [
         30011621
        ],
        [
         30019789
        ],
        [
         30015016
        ],
        [
         30014628
        ],
        [
         30014610
        ],
        [
         30002262
        ],
        [
         30011952
        ],
        [
         30014618
        ],
        [
         30007761
        ],
        [
         30009670
        ],
        [
         30017918
        ],
        [
         30009415
        ],
        [
         30002866
        ],
        [
         30018861
        ],
        [
         30020038
        ],
        [
         30019710
        ],
        [
         30009101
        ],
        [
         30008460
        ],
        [
         30017042
        ],
        [
         30012655
        ],
        [
         30003266
        ],
        [
         30019232
        ],
        [
         30011965
        ],
        [
         30020411
        ],
        [
         30014584
        ],
        [
         30018359
        ],
        [
         30012400
        ],
        [
         30007377
        ],
        [
         30008660
        ],
        [
         30006245
        ],
        [
         30002995
        ],
        [
         30004234
        ],
        [
         30018883
        ],
        [
         30017610
        ],
        [
         30017022
        ],
        [
         30015510
        ],
        [
         30019484
        ],
        [
         30001679
        ],
        [
         30009329
        ],
        [
         30008293
        ],
        [
         30010342
        ],
        [
         30008489
        ],
        [
         30008697
        ],
        [
         30017069
        ],
        [
         30020191
        ],
        [
         30015521
        ],
        [
         30019850
        ],
        [
         30008698
        ],
        [
         30002046
        ],
        [
         30019003
        ],
        [
         30009270
        ],
        [
         30002062
        ],
        [
         30016403
        ],
        [
         30018955
        ],
        [
         30018308
        ],
        [
         30001789
        ],
        [
         30013517
        ],
        [
         30012015
        ],
        [
         30001741
        ],
        [
         30002044
        ],
        [
         30012139
        ],
        [
         30019316
        ],
        [
         30017408
        ],
        [
         30016351
        ],
        [
         30008656
        ],
        [
         30002364
        ],
        [
         30002031
        ],
        [
         30015887
        ],
        [
         30019565
        ],
        [
         30007363
        ],
        [
         30018416
        ],
        [
         30018838
        ],
        [
         30011689
        ],
        [
         30004581
        ],
        [
         30019534
        ],
        [
         30019896
        ],
        [
         30009669
        ],
        [
         30019951
        ],
        [
         30019097
        ],
        [
         30010619
        ],
        [
         30002073
        ],
        [
         30006334
        ],
        [
         30020110
        ],
        [
         30004920
        ],
        [
         30012397
        ],
        [
         30012822
        ],
        [
         30016128
        ],
        [
         30010101
        ],
        [
         30012017
        ],
        [
         30012497
        ],
        [
         30008700
        ],
        [
         30011905
        ],
        [
         30007172
        ],
        [
         30008443
        ],
        [
         30018969
        ],
        [
         30010219
        ],
        [
         30018663
        ],
        [
         30014793
        ],
        [
         30014912
        ],
        [
         30012022
        ],
        [
         30019875
        ],
        [
         30020419
        ],
        [
         30018878
        ],
        [
         30018340
        ],
        [
         30020798
        ],
        [
         30017916
        ],
        [
         30020647
        ],
        [
         30019311
        ],
        [
         30019657
        ],
        [
         30009497
        ],
        [
         30020843
        ],
        [
         30016170
        ],
        [
         30012443
        ],
        [
         30017736
        ],
        [
         30020753
        ],
        [
         30008391
        ],
        [
         30019522
        ],
        [
         30001681
        ],
        [
         30017579
        ],
        [
         30012950
        ],
        [
         30020936
        ],
        [
         30020111
        ],
        [
         30018616
        ],
        [
         30013322
        ],
        [
         30019360
        ],
        [
         30018843
        ],
        [
         30020370
        ],
        [
         30013137
        ],
        [
         30008710
        ],
        [
         30017719
        ],
        [
         30011381
        ],
        [
         30019559
        ],
        [
         30015903
        ],
        [
         30019456
        ],
        [
         30012058
        ],
        [
         30002865
        ],
        [
         30001804
        ],
        [
         30019893
        ],
        [
         30020090
        ],
        [
         30016360
        ],
        [
         30002835
        ],
        [
         30018369
        ],
        [
         30016338
        ],
        [
         30008518
        ],
        [
         30007794
        ],
        [
         30002713
        ],
        [
         30020449
        ],
        [
         30019540
        ],
        [
         30019025
        ],
        [
         30019700
        ],
        [
         30009278
        ],
        [
         30018659
        ],
        [
         30008955
        ],
        [
         30008467
        ],
        [
         30019602
        ],
        [
         30017246
        ],
        [
         30016111
        ],
        [
         30020740
        ],
        [
         30012391
        ],
        [
         30019210
        ],
        [
         30018479
        ],
        [
         30018292
        ],
        [
         30011578
        ],
        [
         30020935
        ],
        [
         30018597
        ],
        [
         30003709
        ],
        [
         30019762
        ],
        [
         30013433
        ],
        [
         30021020
        ],
        [
         30019248
        ],
        [
         30007635
        ],
        [
         30003118
        ],
        [
         30013555
        ],
        [
         30018660
        ],
        [
         30008465
        ],
        [
         30014637
        ],
        [
         30011286
        ],
        [
         30016094
        ],
        [
         30009822
        ],
        [
         30020369
        ],
        [
         30009815
        ],
        [
         30019285
        ],
        [
         30014706
        ],
        [
         30002983
        ],
        [
         30020256
        ],
        [
         30020373
        ],
        [
         30017627
        ],
        [
         30018790
        ],
        [
         30018239
        ],
        [
         30012496
        ],
        [
         30020394
        ],
        [
         30020933
        ],
        [
         30019147
        ],
        [
         30017049
        ],
        [
         30013129
        ],
        [
         30020698
        ],
        [
         30011341
        ],
        [
         30007016
        ],
        [
         30012452
        ],
        [
         30013127
        ],
        [
         30009255
        ],
        [
         30015965
        ],
        [
         30007500
        ],
        [
         30009617
        ],
        [
         30018027
        ],
        [
         30009876
        ],
        [
         30004583
        ],
        [
         30012893
        ],
        [
         30019783
        ],
        [
         30011908
        ],
        [
         30019287
        ],
        [
         30019123
        ],
        [
         30015929
        ],
        [
         30015018
        ],
        [
         30009548
        ],
        [
         30012479
        ],
        [
         30017404
        ],
        [
         30017576
        ],
        [
         30012499
        ],
        [
         30017942
        ],
        [
         30009261
        ],
        [
         30009755
        ],
        [
         30017693
        ],
        [
         30019471
        ],
        [
         30008905
        ],
        [
         30009248
        ],
        [
         30012435
        ],
        [
         30017248
        ],
        [
         30008591
        ],
        [
         30019941
        ],
        [
         30020471
        ],
        [
         30009781
        ],
        [
         30012832
        ],
        [
         30011157
        ],
        [
         30008727
        ],
        [
         30009824
        ],
        [
         30018840
        ],
        [
         30012551
        ],
        [
         30018423
        ],
        [
         30002906
        ],
        [
         30002932
        ],
        [
         30019697
        ],
        [
         30001647
        ],
        [
         30019246
        ],
        [
         30020563
        ],
        [
         30019330
        ],
        [
         30008392
        ],
        [
         30013368
        ],
        [
         30019529
        ],
        [
         30020432
        ],
        [
         30019501
        ],
        [
         30009760
        ],
        [
         30019129
        ],
        [
         30017933
        ],
        [
         30006371
        ],
        [
         30009501
        ],
        [
         30019256
        ],
        [
         30020398
        ],
        [
         30017919
        ],
        [
         30019690
        ],
        [
         30012761
        ],
        [
         30002687
        ],
        [
         30020549
        ],
        [
         30001766
        ],
        [
         30020450
        ],
        [
         30017735
        ],
        [
         30003186
        ],
        [
         30008463
        ],
        [
         30012471
        ],
        [
         30014626
        ],
        [
         30020815
        ],
        [
         30020833
        ],
        [
         30009359
        ],
        [
         30005566
        ],
        [
         30021091
        ],
        [
         30019438
        ],
        [
         30019040
        ],
        [
         30019705
        ],
        [
         30019535
        ],
        [
         30016197
        ],
        [
         30004585
        ],
        [
         30015784
        ],
        [
         30012162
        ],
        [
         30011928
        ],
        [
         30019212
        ],
        [
         30016411
        ],
        [
         30015767
        ],
        [
         30020499
        ],
        [
         30015734
        ],
        [
         30019243
        ],
        [
         30002685
        ],
        [
         30008685
        ],
        [
         30018560
        ],
        [
         30019523
        ],
        [
         30007264
        ],
        [
         30009318
        ],
        [
         30017900
        ],
        [
         30015588
        ],
        [
         30020958
        ],
        [
         30015706
        ],
        [
         30019545
        ],
        [
         30001780
        ],
        [
         30009762
        ],
        [
         30003164
        ],
        [
         30015501
        ],
        [
         30009810
        ],
        [
         30018541
        ],
        [
         30020488
        ],
        [
         30012838
        ],
        [
         30019236
        ],
        [
         30017229
        ],
        [
         30014879
        ],
        [
         30017692
        ],
        [
         30018319
        ],
        [
         30011243
        ],
        [
         30011285
        ],
        [
         30019892
        ],
        [
         30013109
        ],
        [
         30006409
        ],
        [
         30016281
        ],
        [
         30020166
        ],
        [
         30012414
        ],
        [
         30019639
        ],
        [
         30018966
        ],
        [
         30020614
        ],
        [
         30012873
        ],
        [
         30018762
        ],
        [
         30020357
        ],
        [
         30009605
        ],
        [
         30019487
        ],
        [
         30009328
        ],
        [
         30019704
        ],
        [
         30019297
        ],
        [
         30011290
        ],
        [
         30019326
        ],
        [
         30008410
        ],
        [
         30009362
        ],
        [
         30001775
        ],
        [
         30015959
        ],
        [
         30016081
        ],
        [
         30021001
        ],
        [
         30020170
        ],
        [
         30002005
        ],
        [
         30020898
        ],
        [
         30020658
        ],
        [
         30002034
        ],
        [
         30002059
        ],
        [
         30015947
        ],
        [
         30014892
        ],
        [
         30002861
        ],
        [
         30001998
        ],
        [
         30012931
        ],
        [
         30016258
        ],
        [
         30015526
        ],
        [
         30020701
        ],
        [
         30019447
        ],
        [
         30018653
        ],
        [
         30020667
        ],
        [
         30000010
        ],
        [
         30010367
        ],
        [
         30013115
        ],
        [
         30013453
        ],
        [
         30017138
        ],
        [
         30001808
        ],
        [
         30020606
        ],
        [
         30002911
        ],
        [
         30020158
        ],
        [
         30013593
        ],
        [
         30020905
        ],
        [
         30019671
        ],
        [
         30011679
        ],
        [
         30019394
        ],
        [
         30014724
        ],
        [
         30013427
        ],
        [
         30017409
        ],
        [
         30001768
        ],
        [
         30017540
        ],
        [
         30001806
        ],
        [
         30019404
        ],
        [
         30020926
        ],
        [
         30010114
        ],
        [
         30004304
        ],
        [
         30002028
        ],
        [
         30001980
        ],
        [
         30012430
        ],
        [
         30013189
        ],
        [
         30018004
        ],
        [
         30018871
        ],
        [
         30010492
        ],
        [
         30012390
        ],
        [
         30001890
        ],
        [
         30001767
        ],
        [
         30020298
        ],
        [
         30018190
        ],
        [
         30015528
        ],
        [
         30020852
        ],
        [
         30001885
        ],
        [
         30015009
        ],
        [
         30001883
        ],
        [
         30001683
        ],
        [
         30012416
        ],
        [
         30017822
        ],
        [
         30015939
        ],
        [
         30001730
        ],
        [
         30020880
        ],
        [
         30019096
        ],
        [
         30001888
        ]
       ],
       "datasetInfos": [],
       "dbfsResultPath": null,
       "isJsonSchema": true,
       "metadata": {
        "dataframeName": "_sqldf",
        "executionCount": 4
       },
       "overflow": false,
       "plotOptions": {
        "customPlotOptions": {},
        "displayType": "table",
        "pivotAggregation": null,
        "pivotColumns": null,
        "xColumns": null,
        "yColumns": null
       },
       "removedWidgets": [],
       "schema": [
        {
         "metadata": "{}",
         "name": "payercode",
         "type": "\"integer\""
        }
       ],
       "type": "table"
      }
     },
     "output_type": "display_data"
    }
   ],
   "source": [
    "%sql\n",
    "select distinct int(payercode) from finance_ds_inventory_dmt.finance_poc_datahub_mid_t1ws_wccs_str"
   ]
  },
  {
   "cell_type": "code",
   "execution_count": 0,
   "metadata": {
    "application/vnd.databricks.v1+cell": {
     "cellMetadata": {
      "byteLimit": 2048000,
      "rowLimit": 10000
     },
     "inputWidgets": {},
     "nuid": "021122cf-69ac-4a61-ba18-9c282a1a9c4b",
     "showTitle": false,
     "tableResultSettingsMap": {},
     "title": ""
    }
   },
   "outputs": [
    {
     "output_type": "display_data",
     "data": {
      "text/html": [
       "<style scoped>\n",
       "  .table-result-container {\n",
       "    max-height: 300px;\n",
       "    overflow: auto;\n",
       "  }\n",
       "  table, th, td {\n",
       "    border: 1px solid black;\n",
       "    border-collapse: collapse;\n",
       "  }\n",
       "  th, td {\n",
       "    padding: 5px;\n",
       "  }\n",
       "  th {\n",
       "    text-align: left;\n",
       "  }\n",
       "</style><div class='table-result-container'><table class='table-result'><thead style='background-color: white'><tr><th>t15_code</th><th>t1_code</th><th>Brand_Family_ComDB</th><th>wccs_sku_name</th><th>skucode</th><th>billingyearmonth</th><th>str_qty</th><th>payercode</th><th>payer_bu_name</th><th>payer_region_name</th></tr></thead><tbody><tr><td>0030020398</td><td>0030012616</td><td>BUD</td><td>百威金尊9.5度428ML1X12纸箱回瓶装-尊享版</td><td>99717</td><td>202309</td><td>52</td><td>0030020398</td><td>北区|BU_N</td><td>河北北区|Region_Hebei_North</td></tr><tr><td>0030020398</td><td>0030012616</td><td>BUD</td><td>CT_百威9.7度460ML1X12纸箱回瓶</td><td>30882</td><td>202312</td><td>965</td><td>0030020398</td><td>北区|BU_N</td><td>河北北区|Region_Hebei_North</td></tr><tr><td>0030020398</td><td>0030012616</td><td>BUD</td><td>百威9.7度460ML1X6纸箱OW瓶装-零售价版</td><td>96141</td><td>202401</td><td>44</td><td>0030020398</td><td>北区|BU_N</td><td>河北北区|Region_Hebei_North</td></tr><tr><td>0030020398</td><td>0030012616</td><td>BUD</td><td>百威金尊9.5度428ML1X12纸箱回瓶装-尊享版</td><td>99717</td><td>202310</td><td>262</td><td>0030020398</td><td>北区|BU_N</td><td>河北北区|Region_Hebei_North</td></tr><tr><td>0030020398</td><td>0030012616</td><td>BUD</td><td>CT_百威9.7度460ML1X12纸箱回瓶</td><td>30882</td><td>202402</td><td>365</td><td>0030020398</td><td>北区|BU_N</td><td>河北北区|Region_Hebei_North</td></tr><tr><td>0030020398</td><td>0030012616</td><td>BUD</td><td>百威9.7度460ML1X6纸箱OW瓶装-零售价版</td><td>96141</td><td>202309</td><td>692</td><td>0030020398</td><td>北区|BU_N</td><td>河北北区|Region_Hebei_North</td></tr><tr><td>0030020398</td><td>0030012616</td><td>BUD</td><td>百威金尊9.5度428ML1X12纸箱回瓶装-尊享版</td><td>99717</td><td>202312</td><td>54</td><td>0030020398</td><td>北区|BU_N</td><td>河北北区|Region_Hebei_North</td></tr><tr><td>0030020398</td><td>0030012616</td><td>BUD</td><td>CT_百威9.7度460ML1X12纸箱回瓶</td><td>30882</td><td>202307</td><td>904</td><td>0030020398</td><td>北区|BU_N</td><td>河北北区|Region_Hebei_North</td></tr><tr><td>0030020398</td><td>0030012616</td><td>BUD</td><td>百威9.7度460ML1X6纸箱OW瓶装-河北北</td><td>92547</td><td>202307</td><td>1512</td><td>0030020398</td><td>北区|BU_N</td><td>河北北区|Region_Hebei_North</td></tr><tr><td>0030020398</td><td>0030012616</td><td>BUD</td><td>百威金尊9.5度428ML1X12纸箱回瓶装-尊享版</td><td>99717</td><td>202402</td><td>42</td><td>0030020398</td><td>北区|BU_N</td><td>河北北区|Region_Hebei_North</td></tr><tr><td>0030020398</td><td>0030012616</td><td>BUD</td><td>百威纯生8度500ML1X6纸箱OW瓶装（提手装）</td><td>83336</td><td>202307</td><td>192</td><td>0030020398</td><td>北区|BU_N</td><td>河北北区|Region_Hebei_North</td></tr><tr><td>0030020398</td><td>0030012616</td><td>BUD</td><td>百威9.7度460ML1X6纸箱OW瓶装-零售价版</td><td>96141</td><td>202310</td><td>768</td><td>0030020398</td><td>北区|BU_N</td><td>河北北区|Region_Hebei_North</td></tr><tr><td>0030020398</td><td>0030012616</td><td>BUD</td><td>百威金尊9.5度428ML1X12纸箱回瓶装-尊享版</td><td>99717</td><td>202308</td><td>24</td><td>0030020398</td><td>北区|BU_N</td><td>河北北区|Region_Hebei_North</td></tr><tr><td>0030020398</td><td>0030012616</td><td>BUD</td><td>百威9.7度460ML1X6纸箱OW瓶装-零售价版</td><td>96141</td><td>202402</td><td>832</td><td>0030020398</td><td>北区|BU_N</td><td>河北北区|Region_Hebei_North</td></tr><tr><td>0030020398</td><td>0030012616</td><td>BUD</td><td>百威纯生8度500ML1X12纸箱回瓶装-北区专供</td><td>80191</td><td>202307</td><td>60</td><td>0030020398</td><td>北区|BU_N</td><td>河北北区|Region_Hebei_North</td></tr><tr><td>0030020398</td><td>0030012616</td><td>BUD</td><td>百威9.7度460ML1X6纸箱OW瓶装-河北北</td><td>92547</td><td>202401</td><td>1280</td><td>0030020398</td><td>北区|BU_N</td><td>河北北区|Region_Hebei_North</td></tr><tr><td>0030020398</td><td>0030012616</td><td>BUD</td><td>百威9.7度460ML1X6纸箱OW瓶装-河北北</td><td>92547</td><td>202309</td><td>408</td><td>0030020398</td><td>北区|BU_N</td><td>河北北区|Region_Hebei_North</td></tr><tr><td>0030020398</td><td>0030012616</td><td>BUD</td><td>CT_百威9.7度460ML1X12纸箱回瓶</td><td>30882</td><td>202401</td><td>2127</td><td>0030020398</td><td>北区|BU_N</td><td>河北北区|Region_Hebei_North</td></tr><tr><td>0030020398</td><td>0030012616</td><td>BUD</td><td>百威9.7度460ML1X6纸箱OW瓶装-零售价版</td><td>96141</td><td>202312</td><td>3104</td><td>0030020398</td><td>北区|BU_N</td><td>河北北区|Region_Hebei_North</td></tr><tr><td>0030020398</td><td>0030012616</td><td>BUD</td><td>CT_百威9.7度460ML1X12纸箱回瓶</td><td>30882</td><td>202309</td><td>1572</td><td>0030020398</td><td>北区|BU_N</td><td>河北北区|Region_Hebei_North</td></tr><tr><td>0030020398</td><td>0030012616</td><td>BUD</td><td>百威金尊9.5度428ML1X12纸箱回瓶装-尊享版</td><td>99717</td><td>202401</td><td>56</td><td>0030020398</td><td>北区|BU_N</td><td>河北北区|Region_Hebei_North</td></tr><tr><td>0030020398</td><td>0030012616</td><td>BUD</td><td>CT_百威9.7度460ML1X12纸箱回瓶</td><td>30882</td><td>202310</td><td>1000</td><td>0030020398</td><td>北区|BU_N</td><td>河北北区|Region_Hebei_North</td></tr><tr><td>0030020398</td><td>0030012616</td><td>BUD</td><td>百威金尊9.5度428ML1X12纸箱回瓶装-尊享版</td><td>99717</td><td>202403</td><td>41</td><td>0030020398</td><td>北区|BU_N</td><td>河北北区|Region_Hebei_North</td></tr><tr><td>0030020398</td><td>0030012616</td><td>BUD</td><td>百威金尊9.5度428ML1X12纸箱回瓶装-尊享版</td><td>99717</td><td>202404</td><td>80</td><td>0030020398</td><td>北区|BU_N</td><td>河北北区|Region_Hebei_North</td></tr><tr><td>0030020398</td><td>0030012616</td><td>BUD</td><td>CT_百威9.7度460ML1X12纸箱回瓶</td><td>30882</td><td>202308</td><td>2000</td><td>0030020398</td><td>北区|BU_N</td><td>河北北区|Region_Hebei_North</td></tr></tbody></table></div>"
      ]
     },
     "metadata": {
      "application/vnd.databricks.v1+output": {
       "addedWidgets": {},
       "aggData": [],
       "aggError": "",
       "aggOverflow": false,
       "aggSchema": [],
       "aggSeriesLimitReached": false,
       "aggType": "",
       "arguments": {},
       "columnCustomDisplayInfos": {},
       "data": [
        [
         "0030020398",
         "0030012616",
         "BUD",
         "百威金尊9.5度428ML1X12纸箱回瓶装-尊享版",
         99717,
         "202309",
         52,
         "0030020398",
         "北区|BU_N",
         "河北北区|Region_Hebei_North"
        ],
        [
         "0030020398",
         "0030012616",
         "BUD",
         "CT_百威9.7度460ML1X12纸箱回瓶",
         30882,
         "202312",
         965,
         "0030020398",
         "北区|BU_N",
         "河北北区|Region_Hebei_North"
        ],
        [
         "0030020398",
         "0030012616",
         "BUD",
         "百威9.7度460ML1X6纸箱OW瓶装-零售价版",
         96141,
         "202401",
         44,
         "0030020398",
         "北区|BU_N",
         "河北北区|Region_Hebei_North"
        ],
        [
         "0030020398",
         "0030012616",
         "BUD",
         "百威金尊9.5度428ML1X12纸箱回瓶装-尊享版",
         99717,
         "202310",
         262,
         "0030020398",
         "北区|BU_N",
         "河北北区|Region_Hebei_North"
        ],
        [
         "0030020398",
         "0030012616",
         "BUD",
         "CT_百威9.7度460ML1X12纸箱回瓶",
         30882,
         "202402",
         365,
         "0030020398",
         "北区|BU_N",
         "河北北区|Region_Hebei_North"
        ],
        [
         "0030020398",
         "0030012616",
         "BUD",
         "百威9.7度460ML1X6纸箱OW瓶装-零售价版",
         96141,
         "202309",
         692,
         "0030020398",
         "北区|BU_N",
         "河北北区|Region_Hebei_North"
        ],
        [
         "0030020398",
         "0030012616",
         "BUD",
         "百威金尊9.5度428ML1X12纸箱回瓶装-尊享版",
         99717,
         "202312",
         54,
         "0030020398",
         "北区|BU_N",
         "河北北区|Region_Hebei_North"
        ],
        [
         "0030020398",
         "0030012616",
         "BUD",
         "CT_百威9.7度460ML1X12纸箱回瓶",
         30882,
         "202307",
         904,
         "0030020398",
         "北区|BU_N",
         "河北北区|Region_Hebei_North"
        ],
        [
         "0030020398",
         "0030012616",
         "BUD",
         "百威9.7度460ML1X6纸箱OW瓶装-河北北",
         92547,
         "202307",
         1512,
         "0030020398",
         "北区|BU_N",
         "河北北区|Region_Hebei_North"
        ],
        [
         "0030020398",
         "0030012616",
         "BUD",
         "百威金尊9.5度428ML1X12纸箱回瓶装-尊享版",
         99717,
         "202402",
         42,
         "0030020398",
         "北区|BU_N",
         "河北北区|Region_Hebei_North"
        ],
        [
         "0030020398",
         "0030012616",
         "BUD",
         "百威纯生8度500ML1X6纸箱OW瓶装（提手装）",
         83336,
         "202307",
         192,
         "0030020398",
         "北区|BU_N",
         "河北北区|Region_Hebei_North"
        ],
        [
         "0030020398",
         "0030012616",
         "BUD",
         "百威9.7度460ML1X6纸箱OW瓶装-零售价版",
         96141,
         "202310",
         768,
         "0030020398",
         "北区|BU_N",
         "河北北区|Region_Hebei_North"
        ],
        [
         "0030020398",
         "0030012616",
         "BUD",
         "百威金尊9.5度428ML1X12纸箱回瓶装-尊享版",
         99717,
         "202308",
         24,
         "0030020398",
         "北区|BU_N",
         "河北北区|Region_Hebei_North"
        ],
        [
         "0030020398",
         "0030012616",
         "BUD",
         "百威9.7度460ML1X6纸箱OW瓶装-零售价版",
         96141,
         "202402",
         832,
         "0030020398",
         "北区|BU_N",
         "河北北区|Region_Hebei_North"
        ],
        [
         "0030020398",
         "0030012616",
         "BUD",
         "百威纯生8度500ML1X12纸箱回瓶装-北区专供",
         80191,
         "202307",
         60,
         "0030020398",
         "北区|BU_N",
         "河北北区|Region_Hebei_North"
        ],
        [
         "0030020398",
         "0030012616",
         "BUD",
         "百威9.7度460ML1X6纸箱OW瓶装-河北北",
         92547,
         "202401",
         1280,
         "0030020398",
         "北区|BU_N",
         "河北北区|Region_Hebei_North"
        ],
        [
         "0030020398",
         "0030012616",
         "BUD",
         "百威9.7度460ML1X6纸箱OW瓶装-河北北",
         92547,
         "202309",
         408,
         "0030020398",
         "北区|BU_N",
         "河北北区|Region_Hebei_North"
        ],
        [
         "0030020398",
         "0030012616",
         "BUD",
         "CT_百威9.7度460ML1X12纸箱回瓶",
         30882,
         "202401",
         2127,
         "0030020398",
         "北区|BU_N",
         "河北北区|Region_Hebei_North"
        ],
        [
         "0030020398",
         "0030012616",
         "BUD",
         "百威9.7度460ML1X6纸箱OW瓶装-零售价版",
         96141,
         "202312",
         3104,
         "0030020398",
         "北区|BU_N",
         "河北北区|Region_Hebei_North"
        ],
        [
         "0030020398",
         "0030012616",
         "BUD",
         "CT_百威9.7度460ML1X12纸箱回瓶",
         30882,
         "202309",
         1572,
         "0030020398",
         "北区|BU_N",
         "河北北区|Region_Hebei_North"
        ],
        [
         "0030020398",
         "0030012616",
         "BUD",
         "百威金尊9.5度428ML1X12纸箱回瓶装-尊享版",
         99717,
         "202401",
         56,
         "0030020398",
         "北区|BU_N",
         "河北北区|Region_Hebei_North"
        ],
        [
         "0030020398",
         "0030012616",
         "BUD",
         "CT_百威9.7度460ML1X12纸箱回瓶",
         30882,
         "202310",
         1000,
         "0030020398",
         "北区|BU_N",
         "河北北区|Region_Hebei_North"
        ],
        [
         "0030020398",
         "0030012616",
         "BUD",
         "百威金尊9.5度428ML1X12纸箱回瓶装-尊享版",
         99717,
         "202403",
         41,
         "0030020398",
         "北区|BU_N",
         "河北北区|Region_Hebei_North"
        ],
        [
         "0030020398",
         "0030012616",
         "BUD",
         "百威金尊9.5度428ML1X12纸箱回瓶装-尊享版",
         99717,
         "202404",
         80,
         "0030020398",
         "北区|BU_N",
         "河北北区|Region_Hebei_North"
        ],
        [
         "0030020398",
         "0030012616",
         "BUD",
         "CT_百威9.7度460ML1X12纸箱回瓶",
         30882,
         "202308",
         2000,
         "0030020398",
         "北区|BU_N",
         "河北北区|Region_Hebei_North"
        ]
       ],
       "datasetInfos": [],
       "dbfsResultPath": null,
       "isJsonSchema": true,
       "metadata": {},
       "overflow": false,
       "plotOptions": {
        "customPlotOptions": {},
        "displayType": "table",
        "pivotAggregation": null,
        "pivotColumns": null,
        "xColumns": null,
        "yColumns": null
       },
       "removedWidgets": [],
       "schema": [
        {
         "metadata": "{}",
         "name": "t15_code",
         "type": "\"string\""
        },
        {
         "metadata": "{}",
         "name": "t1_code",
         "type": "\"string\""
        },
        {
         "metadata": "{}",
         "name": "Brand_Family_ComDB",
         "type": "\"string\""
        },
        {
         "metadata": "{}",
         "name": "wccs_sku_name",
         "type": "\"string\""
        },
        {
         "metadata": "{}",
         "name": "skucode",
         "type": "\"integer\""
        },
        {
         "metadata": "{}",
         "name": "billingyearmonth",
         "type": "\"string\""
        },
        {
         "metadata": "{}",
         "name": "str_qty",
         "type": "\"long\""
        },
        {
         "metadata": "{}",
         "name": "payercode",
         "type": "\"string\""
        },
        {
         "metadata": "{}",
         "name": "payer_bu_name",
         "type": "\"string\""
        },
        {
         "metadata": "{}",
         "name": "payer_region_name",
         "type": "\"string\""
        }
       ],
       "type": "table"
      }
     },
     "output_type": "display_data"
    }
   ],
   "source": [
    "df = spark.sql(f'''\n",
    "    select  payercode as t15_code, sj_pay_to as t1_code, Brand_Family_ComDB, wccs_sku_name, skucode, month as billingyearmonth, sum(str_qty) as str_qty \n",
    "    , payercode, payer_bu_name, payer_region_name\n",
    "    from finance_ds_inventory_dmt.finance_poc_datahub_mid_ws_wccs_str \n",
    "    where deleted = 0 \n",
    "    group by all  \n",
    "    ''')\n",
    "df.filter('(t1_code == 30012616) and (t15_code == 30020398) and (Brand_Family_ComDB== \"BUD\")').display()\n",
    "\n"
   ]
  },
  {
   "cell_type": "code",
   "execution_count": 0,
   "metadata": {
    "application/vnd.databricks.v1+cell": {
     "cellMetadata": {
      "byteLimit": 2048000,
      "implicitDf": true,
      "rowLimit": 10000
     },
     "inputWidgets": {},
     "nuid": "d7f694bd-947b-47b6-8179-0451eb16e657",
     "showTitle": false,
     "tableResultSettingsMap": {},
     "title": ""
    }
   },
   "outputs": [
    {
     "output_type": "display_data",
     "data": {
      "text/html": [
       "<style scoped>\n",
       "  .table-result-container {\n",
       "    max-height: 300px;\n",
       "    overflow: auto;\n",
       "  }\n",
       "  table, th, td {\n",
       "    border: 1px solid black;\n",
       "    border-collapse: collapse;\n",
       "  }\n",
       "  th, td {\n",
       "    padding: 5px;\n",
       "  }\n",
       "  th {\n",
       "    text-align: left;\n",
       "  }\n",
       "</style><div class='table-result-container'><table class='table-result'><thead style='background-color: white'><tr><th>payercode</th><th>payer_name</th><th>payer_bu_code</th><th>payer_bu_name</th><th>payer_region_code</th><th>payer_region_name</th><th>sub_payercode</th><th>sub_payer_name</th><th>month</th><th>Brand_Family_ComDB</th><th>wccs_sku_name</th><th>sale_type</th><th>skucode</th><th>str_qty</th><th>dmt_ins_ts</th><th>dmt_upd_ts</th><th>deleted</th></tr></thead><tbody><tr><td>0030019312</td><td>清原满族自治县鑫泽商行</td><td>0000102688</td><td>东北|BU_NE</td><td>0000105630</td><td>辽宁北区|Region_Liaoning_North</td><td>0030019312</td><td>清原满族自治县鑫泽商行</td><td>202203</td><td>HBO</td><td>CT_哈尔滨醇爽10度500ML1X12塑包听装-促销版C</td><td>1</td><td>78959</td><td>1050</td><td>2025-01-08T14:29:32.769Z</td><td>2025-01-08T14:29:32.769Z</td><td>0</td></tr><tr><td>0030004619</td><td>柳州市淼恒贸易有限公司</td><td>0000104649</td><td>西区|BU_W</td><td>0000105643</td><td>广西|Region_Guangxi</td><td>0030004619</td><td>柳州市淼恒贸易有限公司</td><td>202203</td><td>ISP</td><td>CT_福佳白11.7度330ML1X24纸箱OW瓶装</td><td>1</td><td>50825</td><td>415</td><td>2025-01-08T14:29:32.769Z</td><td>2025-01-08T14:29:32.769Z</td><td>0</td></tr><tr><td>0030019970</td><td>福建瑞协食品贸易有限公司</td><td>0000100004</td><td>东南区|BU_SE</td><td>0000100022</td><td>福建西部|Region_Fujian_West</td><td>0030019970</td><td>福建瑞协食品贸易有限公司</td><td>202207</td><td>BUD</td><td>CT_百威9.7度500ML1X12纸箱听装-促销版B(带提手)</td><td>1</td><td>63260</td><td>14083</td><td>2025-01-08T14:29:32.769Z</td><td>2025-01-08T14:29:32.769Z</td><td>0</td></tr><tr><td>0030018633</td><td>清远市易全通商贸有限公司</td><td>0000104652</td><td>南区|BU_S</td><td>0000105642</td><td>广东大广州|Region_Guangdong_Greater Guan</td><td>0030018633</td><td>清远市易全通商贸有限公司</td><td>202407</td><td>BUD</td><td>百威9.7度500ML1X12纸箱回瓶装-徽章瓶DBOF版</td><td>1</td><td>104614</td><td>11466</td><td>2025-01-08T14:29:32.769Z</td><td>2025-01-08T14:29:32.769Z</td><td>0</td></tr><tr><td>0030016274</td><td>佛山市盈澳行贸易有限公司</td><td>0000104652</td><td>南区|BU_S</td><td>0000105642</td><td>广东大广州|Region_Guangdong_Greater Guan</td><td>0030016274</td><td>佛山市盈澳行贸易有限公司</td><td>202102</td><td>HBO</td><td>CT_哈尔滨冰畅9度330ML1x24纸箱听装</td><td>1</td><td>32421</td><td>1200</td><td>2025-01-08T14:29:32.769Z</td><td>2025-01-08T14:29:32.769Z</td><td>0</td></tr></tbody></table></div>"
      ]
     },
     "metadata": {
      "application/vnd.databricks.v1+output": {
       "addedWidgets": {},
       "aggData": [],
       "aggError": "",
       "aggOverflow": false,
       "aggSchema": [],
       "aggSeriesLimitReached": false,
       "aggType": "",
       "arguments": {},
       "columnCustomDisplayInfos": {},
       "data": [
        [
         "0030019312",
         "清原满族自治县鑫泽商行",
         "0000102688",
         "东北|BU_NE",
         "0000105630",
         "辽宁北区|Region_Liaoning_North",
         "0030019312",
         "清原满族自治县鑫泽商行",
         "202203",
         "HBO",
         "CT_哈尔滨醇爽10度500ML1X12塑包听装-促销版C",
         1,
         78959,
         1050,
         "2025-01-08T14:29:32.769Z",
         "2025-01-08T14:29:32.769Z",
         0
        ],
        [
         "0030004619",
         "柳州市淼恒贸易有限公司",
         "0000104649",
         "西区|BU_W",
         "0000105643",
         "广西|Region_Guangxi",
         "0030004619",
         "柳州市淼恒贸易有限公司",
         "202203",
         "ISP",
         "CT_福佳白11.7度330ML1X24纸箱OW瓶装",
         1,
         50825,
         415,
         "2025-01-08T14:29:32.769Z",
         "2025-01-08T14:29:32.769Z",
         0
        ],
        [
         "0030019970",
         "福建瑞协食品贸易有限公司",
         "0000100004",
         "东南区|BU_SE",
         "0000100022",
         "福建西部|Region_Fujian_West",
         "0030019970",
         "福建瑞协食品贸易有限公司",
         "202207",
         "BUD",
         "CT_百威9.7度500ML1X12纸箱听装-促销版B(带提手)",
         1,
         63260,
         14083,
         "2025-01-08T14:29:32.769Z",
         "2025-01-08T14:29:32.769Z",
         0
        ],
        [
         "0030018633",
         "清远市易全通商贸有限公司",
         "0000104652",
         "南区|BU_S",
         "0000105642",
         "广东大广州|Region_Guangdong_Greater Guan",
         "0030018633",
         "清远市易全通商贸有限公司",
         "202407",
         "BUD",
         "百威9.7度500ML1X12纸箱回瓶装-徽章瓶DBOF版",
         1,
         104614,
         11466,
         "2025-01-08T14:29:32.769Z",
         "2025-01-08T14:29:32.769Z",
         0
        ],
        [
         "0030016274",
         "佛山市盈澳行贸易有限公司",
         "0000104652",
         "南区|BU_S",
         "0000105642",
         "广东大广州|Region_Guangdong_Greater Guan",
         "0030016274",
         "佛山市盈澳行贸易有限公司",
         "202102",
         "HBO",
         "CT_哈尔滨冰畅9度330ML1x24纸箱听装",
         1,
         32421,
         1200,
         "2025-01-08T14:29:32.769Z",
         "2025-01-08T14:29:32.769Z",
         0
        ]
       ],
       "datasetInfos": [],
       "dbfsResultPath": null,
       "isJsonSchema": true,
       "metadata": {
        "dataframeName": "_sqldf",
        "executionCount": 7
       },
       "overflow": false,
       "plotOptions": {
        "customPlotOptions": {},
        "displayType": "table",
        "pivotAggregation": null,
        "pivotColumns": null,
        "xColumns": null,
        "yColumns": null
       },
       "removedWidgets": [],
       "schema": [
        {
         "metadata": "{}",
         "name": "payercode",
         "type": "\"string\""
        },
        {
         "metadata": "{}",
         "name": "payer_name",
         "type": "\"string\""
        },
        {
         "metadata": "{}",
         "name": "payer_bu_code",
         "type": "\"string\""
        },
        {
         "metadata": "{}",
         "name": "payer_bu_name",
         "type": "\"string\""
        },
        {
         "metadata": "{}",
         "name": "payer_region_code",
         "type": "\"string\""
        },
        {
         "metadata": "{}",
         "name": "payer_region_name",
         "type": "\"string\""
        },
        {
         "metadata": "{}",
         "name": "sub_payercode",
         "type": "\"string\""
        },
        {
         "metadata": "{}",
         "name": "sub_payer_name",
         "type": "\"string\""
        },
        {
         "metadata": "{}",
         "name": "month",
         "type": "\"string\""
        },
        {
         "metadata": "{}",
         "name": "Brand_Family_ComDB",
         "type": "\"string\""
        },
        {
         "metadata": "{}",
         "name": "wccs_sku_name",
         "type": "\"string\""
        },
        {
         "metadata": "{}",
         "name": "sale_type",
         "type": "\"integer\""
        },
        {
         "metadata": "{}",
         "name": "skucode",
         "type": "\"integer\""
        },
        {
         "metadata": "{}",
         "name": "str_qty",
         "type": "\"integer\""
        },
        {
         "metadata": "{}",
         "name": "dmt_ins_ts",
         "type": "\"timestamp\""
        },
        {
         "metadata": "{}",
         "name": "dmt_upd_ts",
         "type": "\"timestamp\""
        },
        {
         "metadata": "{}",
         "name": "deleted",
         "type": "\"integer\""
        }
       ],
       "type": "table"
      }
     },
     "output_type": "display_data"
    }
   ],
   "source": [
    "%sql\n",
    "select * from finance_ds_inventory_dmt.finance_poc_datahub_t1ws_wccs_str limit 5"
   ]
  },
  {
   "cell_type": "code",
   "execution_count": 0,
   "metadata": {
    "application/vnd.databricks.v1+cell": {
     "cellMetadata": {
      "byteLimit": 2048000,
      "implicitDf": true,
      "rowLimit": 10000
     },
     "inputWidgets": {},
     "nuid": "4a7ed20e-7b60-4c81-998f-a857f134048d",
     "showTitle": false,
     "tableResultSettingsMap": {},
     "title": ""
    }
   },
   "outputs": [
    {
     "output_type": "display_data",
     "data": {
      "text/html": [
       "<style scoped>\n",
       "  .table-result-container {\n",
       "    max-height: 300px;\n",
       "    overflow: auto;\n",
       "  }\n",
       "  table, th, td {\n",
       "    border: 1px solid black;\n",
       "    border-collapse: collapse;\n",
       "  }\n",
       "  th, td {\n",
       "    padding: 5px;\n",
       "  }\n",
       "  th {\n",
       "    text-align: left;\n",
       "  }\n",
       "</style><div class='table-result-container'><table class='table-result'><thead style='background-color: white'><tr><th>payercode</th><th>payer_name</th><th>payer_bu_code</th><th>payer_bu_name</th><th>payer_region_code</th><th>payer_region_name</th><th>sub_payercode</th><th>sub_payer_name</th><th>month</th><th>Brand_Family_ComDB</th><th>wccs_sku_name</th><th>sale_type</th><th>skucode</th><th>str_qty</th><th>dmt_ins_ts</th><th>dmt_upd_ts</th><th>deleted</th></tr></thead><tbody></tbody></table></div>"
      ]
     },
     "metadata": {
      "application/vnd.databricks.v1+output": {
       "addedWidgets": {},
       "aggData": [],
       "aggError": "",
       "aggOverflow": false,
       "aggSchema": [],
       "aggSeriesLimitReached": false,
       "aggType": "",
       "arguments": {},
       "columnCustomDisplayInfos": {},
       "data": [],
       "datasetInfos": [],
       "dbfsResultPath": null,
       "isJsonSchema": true,
       "metadata": {
        "dataframeName": "_sqldf",
        "executionCount": 8
       },
       "overflow": false,
       "plotOptions": {
        "customPlotOptions": {},
        "displayType": "table",
        "pivotAggregation": null,
        "pivotColumns": null,
        "xColumns": null,
        "yColumns": null
       },
       "removedWidgets": [],
       "schema": [
        {
         "metadata": "{}",
         "name": "payercode",
         "type": "\"string\""
        },
        {
         "metadata": "{}",
         "name": "payer_name",
         "type": "\"string\""
        },
        {
         "metadata": "{}",
         "name": "payer_bu_code",
         "type": "\"string\""
        },
        {
         "metadata": "{}",
         "name": "payer_bu_name",
         "type": "\"string\""
        },
        {
         "metadata": "{}",
         "name": "payer_region_code",
         "type": "\"string\""
        },
        {
         "metadata": "{}",
         "name": "payer_region_name",
         "type": "\"string\""
        },
        {
         "metadata": "{}",
         "name": "sub_payercode",
         "type": "\"string\""
        },
        {
         "metadata": "{}",
         "name": "sub_payer_name",
         "type": "\"string\""
        },
        {
         "metadata": "{}",
         "name": "month",
         "type": "\"string\""
        },
        {
         "metadata": "{}",
         "name": "Brand_Family_ComDB",
         "type": "\"string\""
        },
        {
         "metadata": "{}",
         "name": "wccs_sku_name",
         "type": "\"string\""
        },
        {
         "metadata": "{}",
         "name": "sale_type",
         "type": "\"integer\""
        },
        {
         "metadata": "{}",
         "name": "skucode",
         "type": "\"integer\""
        },
        {
         "metadata": "{}",
         "name": "str_qty",
         "type": "\"integer\""
        },
        {
         "metadata": "{}",
         "name": "dmt_ins_ts",
         "type": "\"timestamp\""
        },
        {
         "metadata": "{}",
         "name": "dmt_upd_ts",
         "type": "\"timestamp\""
        },
        {
         "metadata": "{}",
         "name": "deleted",
         "type": "\"integer\""
        }
       ],
       "type": "table"
      }
     },
     "output_type": "display_data"
    }
   ],
   "source": [
    "%sql\n",
    "select * from finance_ds_inventory_dmt.finance_poc_datahub_t1ws_wccs_str\n",
    "where payercode = 30012616"
   ]
  },
  {
   "cell_type": "code",
   "execution_count": 0,
   "metadata": {
    "application/vnd.databricks.v1+cell": {
     "cellMetadata": {},
     "inputWidgets": {},
     "nuid": "156cb60d-1ee6-4f73-8c66-8376607fed76",
     "showTitle": false,
     "tableResultSettingsMap": {},
     "title": ""
    }
   },
   "outputs": [],
   "source": []
  }
 ],
 "metadata": {
  "application/vnd.databricks.v1+notebook": {
   "computePreferences": null,
   "dashboards": [],
   "environmentMetadata": {
    "base_environment": "",
    "client": "1"
   },
   "language": "python",
   "notebookMetadata": {
    "mostRecentlyExecutedCommandWithImplicitDF": {
     "commandId": 3266606527735295,
     "dataframes": [
      "_sqldf"
     ]
    },
    "pythonIndentUnit": 4
   },
   "notebookName": "fetch_data",
   "widgets": {}
  },
  "language_info": {
   "name": "python"
  }
 },
 "nbformat": 4,
 "nbformat_minor": 0
}