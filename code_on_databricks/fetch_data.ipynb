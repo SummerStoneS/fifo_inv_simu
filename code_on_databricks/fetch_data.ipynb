{
 "cells": [
  {
   "cell_type": "code",
   "execution_count": 0,
   "metadata": {
    "application/vnd.databricks.v1+cell": {
     "cellMetadata": {
      "byteLimit": 2048000,
      "rowLimit": 10000
     },
     "inputWidgets": {},
     "nuid": "a82faccc-4286-4e2d-86d2-5e587d47a750",
     "showTitle": false,
     "tableResultSettingsMap": {},
     "title": ""
    }
   },
   "outputs": [],
   "source": [
    "import pandas as pd\n",
    "from collections import defaultdict"
   ]
  },
  {
   "cell_type": "code",
   "execution_count": 0,
   "metadata": {
    "application/vnd.databricks.v1+cell": {
     "cellMetadata": {
      "byteLimit": 2048000,
      "rowLimit": 10000
     },
     "inputWidgets": {},
     "nuid": "cb6b0cdd-60b6-4cf9-9a88-e5ae21925c38",
     "showTitle": false,
     "tableResultSettingsMap": {},
     "title": ""
    }
   },
   "outputs": [],
   "source": [
    "def get_parameter(key, default=\"\"):\n",
    "    try:\n",
    "        return dbutils.widgets.get(key)\n",
    "    except Exception as e:\n",
    "        print('have no parameter \"{}\" in dbutils.widgets, return default \"{}\"'.format(key, default))\n",
    "        return default\n",
    "\n",
    "class VersionControl:\n",
    "    def __init__(self, ws_type=None, version=None, comment=None):\n",
    "        self.path = './save_path_log.txt'\n",
    "        self.ws_type = ws_type\n",
    "        self.version = version\n",
    "        self.comment = comment\n",
    "        \n",
    "        if self.ws_type:\n",
    "            self.check_if_version_exists()\n",
    "\n",
    "    def check_if_version_exists(self, ws_type=None, version=None):\n",
    "        ws_type = self.ws_type if not ws_type else ws_type\n",
    "        version = self.version if not version else version\n",
    "        ws_type_versions = self.find_versions(ws_type) \n",
    "        results = [x for x in ws_type_versions if x[0] == version]\n",
    "        if len(results) > 0:\n",
    "            print(results)\n",
    "            return True\n",
    "        else:\n",
    "            print(\"the version has not been saved before\")\n",
    "            return False\n",
    "    \n",
    "    def save_version(self, ws_type=None, version=None, force=False):\n",
    "        \"\"\"\n",
    "        force: if true则有一样的版本也存入，继续跑\n",
    "        \"\"\"\n",
    "        self.ws_type = self.ws_type if not ws_type else ws_type\n",
    "        self.version = self.version if not version else version\n",
    "        check_status = self.check_if_version_exists()\n",
    "        if check_status & ~force:\n",
    "            raise ValueError('version already exists')\n",
    "        else:\n",
    "            with open(self.path, 'a', encoding='utf-8') as file:\n",
    "                print(f'{self.ws_type}, {self.version}, {self.comment}')\n",
    "                file.write(f'\\n{self.ws_type}, {self.version}, {self.comment}')\n",
    "\n",
    "    @staticmethod\n",
    "    def get_all_versions():\n",
    "        with open('./save_path_log.txt', 'r', encoding='utf-8') as file:\n",
    "            versions = file.readlines()\n",
    "        return versions\n",
    "    \n",
    "    def get_version_dict(self):\n",
    "        version_info_list = self.get_all_versions()\n",
    "        version_dict = defaultdict(list)\n",
    "        for x in version_info_list:\n",
    "            if x == '\\n':\n",
    "                pass\n",
    "            else:\n",
    "                version_dict[x.split(\",\")[0]].append((x.split(\",\")[1].strip(), x.split(\",\")[2].strip()))\n",
    "        return version_dict\n",
    "    \n",
    "    def find_versions(self, ws_type=None):\n",
    "        self.version_dict = self.get_version_dict()\n",
    "        if not ws_type:\n",
    "            return self.version_dict\n",
    "        else:\n",
    "            return self.version_dict.get(ws_type)"
   ]
  },
  {
   "cell_type": "code",
   "execution_count": 0,
   "metadata": {
    "application/vnd.databricks.v1+cell": {
     "cellMetadata": {
      "byteLimit": 2048000,
      "rowLimit": 10000
     },
     "inputWidgets": {},
     "nuid": "9682e46e-4bc6-46bf-aa5c-6bc767020fcc",
     "showTitle": true,
     "tableResultSettingsMap": {},
     "title": "str表源说明"
    }
   },
   "outputs": [],
   "source": [
    "# finance_ds_inventory_dmt.finance_poc_datahub_mid_t1ws_wccs_str # t1.5 -> POC/T2 sales_type=1卖给T2，sales_type = 0 卖给POC \n",
    "# finance_ds_inventory_dmt.finance_poc_datahub_t1ws_wccs_str        # T1 -> 卖给T1.5/T2/POC\n",
    "# 纯一批经销商的STR落表，sale_type =1是卖给售点，2是卖给2批，3是1.5批卖给售点的(从T1进货的部分)\n",
    "# finance_ds_inventory_dmt.finance_poc_datahub_mid_ws_wccs_str     # T1 -> T1.5 payercode是T1.5的，filter sj_pay_to=T1\n",
    "# finance_ds_inventory_dmt.finance_poc_datahub_wccs_str    # T1.5 -> poc 只看从ABI进货的\n"
   ]
  },
  {
   "cell_type": "code",
   "execution_count": 0,
   "metadata": {
    "application/vnd.databricks.v1+cell": {
     "cellMetadata": {
      "byteLimit": 2048000,
      "rowLimit": 10000
     },
     "inputWidgets": {},
     "nuid": "ef7a79a0-ac85-4847-8c4e-ae2d1c3c0f4d",
     "showTitle": false,
     "tableResultSettingsMap": {},
     "title": ""
    }
   },
   "outputs": [],
   "source": [
    "brand_family_scope_file_from_vivian = \"/dbfs/FileStore/tables/srf/fifo_inv_simu/src_data/SAP_sku_CIO_BRANDFAMILY_Mapping_final.xlsx\"\n",
    "inv_data_path = '/dbfs/FileStore/tables/srf/fifo_inv_simu/src_data/进销存数据.xlsx'  # 期初库存\n",
    "dec_inv_data_path = '/dbfs/FileStore/tables/srf/fifo_inv_simu/src_data/12月进销存数据.xlsx' # 12月的期末库存"
   ]
  },
  {
   "cell_type": "code",
   "execution_count": 0,
   "metadata": {
    "application/vnd.databricks.v1+cell": {
     "cellMetadata": {
      "byteLimit": 2048000,
      "rowLimit": 10000
     },
     "inputWidgets": {},
     "nuid": "5590714b-5791-4ac8-92ab-c3b1871c15ab",
     "showTitle": true,
     "tableResultSettingsMap": {},
     "title": "ws info"
    }
   },
   "outputs": [],
   "source": [
    "def get_ws_name_payercode_mapping():\n",
    "    mapping = spark.sql('select distinct int(wholesaler_pay_code) as payercode,  wholesaler_name as payername from budtech_brewdat_prod_ods.abi_cloud_wholesaler_ws_wholesaler').toPandas().set_index('payercode')\n",
    "    return mapping"
   ]
  },
  {
   "cell_type": "code",
   "execution_count": 0,
   "metadata": {
    "application/vnd.databricks.v1+cell": {
     "cellMetadata": {
      "byteLimit": 2048000,
      "rowLimit": 10000
     },
     "inputWidgets": {},
     "nuid": "93f9575e-1d2d-458f-a75b-67d0dd33cf15",
     "showTitle": true,
     "tableResultSettingsMap": {},
     "title": "sku mapping"
    }
   },
   "outputs": [
    {
     "output_type": "execute_result",
     "data": {
      "text/html": [
       "<div>\n",
       "<style scoped>\n",
       "    .dataframe tbody tr th:only-of-type {\n",
       "        vertical-align: middle;\n",
       "    }\n",
       "\n",
       "    .dataframe tbody tr th {\n",
       "        vertical-align: top;\n",
       "    }\n",
       "\n",
       "    .dataframe thead th {\n",
       "        text-align: right;\n",
       "    }\n",
       "</style>\n",
       "<table border=\"1\" class=\"dataframe\">\n",
       "  <thead>\n",
       "    <tr style=\"text-align: right;\">\n",
       "      <th></th>\n",
       "      <th>SKUCode</th>\n",
       "      <th>cio_code</th>\n",
       "      <th>cio_name</th>\n",
       "      <th>HL</th>\n",
       "    </tr>\n",
       "  </thead>\n",
       "  <tbody>\n",
       "    <tr>\n",
       "      <th>0</th>\n",
       "      <td>31942</td>\n",
       "      <td>100003</td>\n",
       "      <td>HARBIN ICE哈尔滨冰纯BBT大瓶500ml , (12)</td>\n",
       "      <td>0.06</td>\n",
       "    </tr>\n",
       "    <tr>\n",
       "      <th>1</th>\n",
       "      <td>32197</td>\n",
       "      <td>100003</td>\n",
       "      <td>HARBIN ICE哈尔滨冰纯BBT大瓶500ml , (12)</td>\n",
       "      <td>0.06</td>\n",
       "    </tr>\n",
       "    <tr>\n",
       "      <th>2</th>\n",
       "      <td>39474</td>\n",
       "      <td>100003</td>\n",
       "      <td>HARBIN ICE哈尔滨冰纯BBT大瓶500ml , (12)</td>\n",
       "      <td>0.06</td>\n",
       "    </tr>\n",
       "    <tr>\n",
       "      <th>3</th>\n",
       "      <td>44458</td>\n",
       "      <td>100003</td>\n",
       "      <td>HARBIN ICE哈尔滨冰纯BBT大瓶500ml , (12)</td>\n",
       "      <td>0.06</td>\n",
       "    </tr>\n",
       "    <tr>\n",
       "      <th>4</th>\n",
       "      <td>47386</td>\n",
       "      <td>100003</td>\n",
       "      <td>HARBIN ICE哈尔滨冰纯BBT大瓶500ml , (12)</td>\n",
       "      <td>0.06</td>\n",
       "    </tr>\n",
       "    <tr>\n",
       "      <th>...</th>\n",
       "      <td>...</td>\n",
       "      <td>...</td>\n",
       "      <td>...</td>\n",
       "      <td>...</td>\n",
       "    </tr>\n",
       "    <tr>\n",
       "      <th>6542</th>\n",
       "      <td>106080</td>\n",
       "      <td>107032</td>\n",
       "      <td>BOXING CAT BREWERY拳击猫低醇印度淡色艾尔KEG桶啤20000ml , (1)</td>\n",
       "      <td>0.20</td>\n",
       "    </tr>\n",
       "    <tr>\n",
       "      <th>6543</th>\n",
       "      <td>106218</td>\n",
       "      <td>107037</td>\n",
       "      <td>BOXING CAT BREWERY拳击猫夏日酸啤KEG桶啤20000ml , (1)</td>\n",
       "      <td>0.20</td>\n",
       "    </tr>\n",
       "    <tr>\n",
       "      <th>6544</th>\n",
       "      <td>107111</td>\n",
       "      <td>107064</td>\n",
       "      <td>GOOSE ISLAND鹅岛冬季深色艾尔CAN听装500ml , (12)</td>\n",
       "      <td>0.06</td>\n",
       "    </tr>\n",
       "    <tr>\n",
       "      <th>6545</th>\n",
       "      <td>107237</td>\n",
       "      <td>107066</td>\n",
       "      <td>BLUE GIRL蓝妹铂金SBT铝瓶250ml , (24)</td>\n",
       "      <td>0.06</td>\n",
       "    </tr>\n",
       "    <tr>\n",
       "      <th>6546</th>\n",
       "      <td>107241</td>\n",
       "      <td>107067</td>\n",
       "      <td>BLUE GIRL蓝妹铂金SBT小瓶250ml , (24)</td>\n",
       "      <td>0.06</td>\n",
       "    </tr>\n",
       "  </tbody>\n",
       "</table>\n",
       "<p>6547 rows × 4 columns</p>\n",
       "</div>"
      ],
      "text/plain": [
       "      SKUCode  cio_code                                         cio_name    HL\n",
       "0       31942    100003                 HARBIN ICE哈尔滨冰纯BBT大瓶500ml , (12)  0.06\n",
       "1       32197    100003                 HARBIN ICE哈尔滨冰纯BBT大瓶500ml , (12)  0.06\n",
       "2       39474    100003                 HARBIN ICE哈尔滨冰纯BBT大瓶500ml , (12)  0.06\n",
       "3       44458    100003                 HARBIN ICE哈尔滨冰纯BBT大瓶500ml , (12)  0.06\n",
       "4       47386    100003                 HARBIN ICE哈尔滨冰纯BBT大瓶500ml , (12)  0.06\n",
       "...       ...       ...                                              ...   ...\n",
       "6542   106080    107032  BOXING CAT BREWERY拳击猫低醇印度淡色艾尔KEG桶啤20000ml , (1)  0.20\n",
       "6543   106218    107037      BOXING CAT BREWERY拳击猫夏日酸啤KEG桶啤20000ml , (1)  0.20\n",
       "6544   107111    107064            GOOSE ISLAND鹅岛冬季深色艾尔CAN听装500ml , (12)  0.06\n",
       "6545   107237    107066                   BLUE GIRL蓝妹铂金SBT铝瓶250ml , (24)  0.06\n",
       "6546   107241    107067                   BLUE GIRL蓝妹铂金SBT小瓶250ml , (24)  0.06\n",
       "\n",
       "[6547 rows x 4 columns]"
      ]
     },
     "execution_count": 1,
     "metadata": {},
     "output_type": "execute_result"
    }
   ],
   "source": [
    "def get_sku_hl_mapping_table():\n",
    "    sku_hl_mapping = spark.sql(\n",
    "    \"\"\"\n",
    "    WITH CIO AS (\n",
    "    SELECT\n",
    "        DISTINCT cio_id AS cio_code,\n",
    "        c_product as cio_name,\n",
    "        regexp_replace(capacity, '([a-zA-Z])', '') / 1000.0 as container_L,\n",
    "        -- trim(C2.Seg) AS Segment,\n",
    "        packagesize\n",
    "    FROM\n",
    "        bees_products_ods.product_center_cio_sku C1\n",
    "        LEFT JOIN bees_products_ods.product_center_cio_mapping C2 ON C2.cio_code = C1.cio_id\n",
    "    WHERE\n",
    "        deleted = 0\n",
    "        AND regexp_replace(capacity, '([a-zA-Z])', '') > 0\n",
    "        AND C2.Seg IS NOT NULL\n",
    "        AND COALESCE(packagesize, 0) > 0\n",
    "    )\n",
    "    SELECT\n",
    "    DISTINCT SC.sap_sku_code as SKUCode, K1.cio_code\n",
    "    ,K1.cio_name\n",
    "    ,K1.container_L * K1.packagesize/100 HL\n",
    "    FROM\n",
    "    CIO K1\n",
    "    JOIN bees_products_ods.product_center_ref_sap_to_cio SC ON SC.cio_sku_code = K1.cio_code\n",
    "    \"\"\"\n",
    "    ).toPandas()\n",
    "    return sku_hl_mapping\n",
    "\n",
    "def get_sku_sap_wccs_code_mapping_table():\n",
    "    wccs_productid_sap_sku_mapping = spark.sql(\n",
    "    \"\"\"\n",
    "    select distinct product_id, cast(sap_skudm as int) as SKUCode from wccs_ods.bas_material\n",
    "    \"\"\").toPandas()\n",
    "    return wccs_productid_sap_sku_mapping     "
   ]
  },
  {
   "cell_type": "code",
   "execution_count": 0,
   "metadata": {
    "application/vnd.databricks.v1+cell": {
     "cellMetadata": {},
     "inputWidgets": {},
     "nuid": "0e53583f-8d02-40c1-9840-37d196438c7c",
     "showTitle": true,
     "tableResultSettingsMap": {},
     "title": "brand family filter"
    }
   },
   "outputs": [],
   "source": [
    "def get_used_brand_family():\n",
    "    \"\"\"\n",
    "    used_wccs_sku_list: wccs product_id 列表，四个brand的\n",
    "    sku_filtered是过滤了四个brand的sku mapping表；\n",
    "    product_id_mapping是全量的sku hl mapping表\n",
    "    \"\"\"\n",
    "    sku_brand_family_mapping = pd.read_excel(brand_family_scope_file_from_vivian) # src: Vivian\n",
    "    used_brand_family = ['ISP', 'BUD', 'HBI', 'HBO', 'HKOW']\n",
    "    # select distinct product_id, cast(sap_skudm as int) as SKUCode from wccs_ods.bas_material\n",
    "    sku_hl_mapping = get_sku_hl_mapping_table()   # from Charlotte code\n",
    "    product_id_mapping = get_sku_sap_wccs_code_mapping_table()\n",
    "    used_brand_family = ['ISP', 'BUD', 'HBI', 'HBO', 'HKOW']\n",
    "    used_brand_family_mapping = sku_brand_family_mapping[sku_brand_family_mapping['Brand Family'].isin(used_brand_family)].drop_duplicates(subset=['SKUCode'])[['SKUCode','Brand Family']]    \n",
    "    # brand family data 匹配product id和百升数\n",
    "    product_id_mapping = pd.merge(product_id_mapping, sku_hl_mapping, on='SKUCode', how='left')   # Pcode, SKUCode,HL\n",
    "    used_brand_family_mapping = pd.merge(used_brand_family_mapping, product_id_mapping, on='SKUCode', how='left')\n",
    "    used_brand_family_mapping['product_id'] = used_brand_family_mapping['product_id'].str.upper()\n",
    "    used_wccs_sku_list = list(used_brand_family_mapping['product_id'].unique())\n",
    "    return used_wccs_sku_list, used_brand_family_mapping, product_id_mapping"
   ]
  },
  {
   "cell_type": "code",
   "execution_count": 0,
   "metadata": {
    "application/vnd.databricks.v1+cell": {
     "cellMetadata": {},
     "inputWidgets": {},
     "nuid": "795d6397-562a-4564-9cce-67d98f3d151b",
     "showTitle": true,
     "tableResultSettingsMap": {},
     "title": "get_inv_data"
    }
   },
   "outputs": [],
   "source": [
    "def get_inv_data(used_wccs_sku_list, sku_filtered, used_qty_col='期初库存', path=inv_data_path):\n",
    "    \"\"\"\n",
    "        箱数_col：期初库存\n",
    "        hl_col: inv_hl     \n",
    "    \"\"\"\n",
    "    # # begin_inv = pd.read_csv('src_data/库存余额表DB-202212.csv')       # 2022年末的期末库存就是2023年的期初库存\n",
    "    begin_inv = pd.read_excel(path)\n",
    "    begin_inv['物料代码'] = begin_inv['物料代码'].str.upper()\n",
    "    begin_inv = begin_inv[begin_inv['物料代码'].isin(used_wccs_sku_list)]\n",
    "    sku_filtered_info = sku_filtered.sort_values(by='product_id').drop_duplicates(subset=['product_id'])\n",
    "    sku_filtered_info = sku_filtered_info[sku_filtered_info['product_id'].notnull()]\n",
    "    begin_inv = pd.merge(begin_inv, sku_filtered_info[['product_id', 'SKUCode', 'Brand Family', 'HL']], left_on='物料代码',right_on='product_id', how='left')\n",
    "    unfound_sku = begin_inv[begin_inv['SKUCode'].isnull()]\n",
    "    if len(unfound_sku) > 0:\n",
    "        print(\"没对应上SKUCode/HL的wccs product id\", unfound_sku['product_id'].unique())\n",
    "    begin_inv['inv_hl'] = begin_inv[used_qty_col] * begin_inv['HL']    # 转换成百升\n",
    "    return begin_inv"
   ]
  },
  {
   "cell_type": "code",
   "execution_count": 0,
   "metadata": {
    "application/vnd.databricks.v1+cell": {
     "cellMetadata": {},
     "inputWidgets": {},
     "nuid": "28d5b90c-7473-4b6c-a3b4-b10b1064f547",
     "showTitle": true,
     "tableResultSettingsMap": {},
     "title": "get_stw_data"
    }
   },
   "outputs": [],
   "source": [
    "def get_stw_data(start=202101, end=202410):\n",
    "    \"\"\"\n",
    "        箱数_col：stw_qty\n",
    "        hl_col: stw_hl\n",
    "        month_col: billingyearmonth\n",
    "    \"\"\"\n",
    "    # # stw = pd.read_excel('src_data/stw_str_241118.xlsx', sheet_name='STW')        # 2023.1.1~2023.12.31\n",
    "    stw = spark.sql('select * from finance_ds_inventory_dmt.info_order_database_finance_stw').toPandas()          # 2021.1~2024.10\n",
    "    stw.columns = [x.lower() for x in stw.columns]\n",
    "    stw = stw[(stw['billingyearmonth'] >= start) & (stw['billingyearmonth'] <= end)]\n",
    "    return stw\n",
    "\n",
    "def get_str_data(sku_filtered, str_db_path, start=202101, end=202410):\n",
    "    \"\"\"\n",
    "        sku_filtered：skucode and hl, for hl mapping\n",
    "        str_db_path: 如果是字符串直接读表，或者直接传入聚合好的数\n",
    "        month_col: month\n",
    "    \"\"\"\n",
    "    # # ws_str = pd.read_excel('src_data/stw_str_241118.xlsx', sheet_name='STR')\n",
    "    if isinstance(str_db_path, str):\n",
    "        ws_str = spark.sql(f\"select * from {str_db_path}\").toPandas()\n",
    "    elif isinstance(str_db_path, pd.DataFrame):\n",
    "        ws_str = str_db_path\n",
    "    else:\n",
    "        ws_str = str_db_path.toPandas()\n",
    "    # ws_str = spark.sql('select * from finance_ds_inventory_dmt.finance_poc_datahub_wccs_str').toPandas()       # 2021.1~2024.11\n",
    "    ws_str['payercode'] = ws_str['payercode'].astype(int)\n",
    "    ws_str = ws_str[(ws_str['month'] >= start) & (ws_str['month'] <= end)]\n",
    "    ws_str.columns = [x.lower() for x in ws_str.columns]\n",
    "    sku_filtered_info = sku_filtered.sort_values(by='SKUCode').drop_duplicates(subset=['SKUCode'])\n",
    "    ws_str = pd.merge(ws_str, sku_filtered_info[['SKUCode', 'HL']], left_on='skucode', right_on='SKUCode', how='left')\n",
    "    unfound_sku = ws_str[ws_str['HL'].isnull()]\n",
    "    if len(unfound_sku) > 0:\n",
    "        print(unfound_sku)\n",
    "    ws_str['str_hl'] = ws_str['str_qty'] * ws_str['HL']\n",
    "    return ws_str"
   ]
  },
  {
   "cell_type": "code",
   "execution_count": 0,
   "metadata": {
    "application/vnd.databricks.v1+cell": {
     "cellMetadata": {
      "byteLimit": 2048000,
      "rowLimit": 10000
     },
     "inputWidgets": {},
     "nuid": "be627060-7cc6-4281-a23e-f79c5c4465f4",
     "showTitle": false,
     "tableResultSettingsMap": {},
     "title": ""
    }
   },
   "outputs": [],
   "source": [
    "def cat_code(df):\n",
    "    return str(df['t1_code']) + \"_\" + str(df['t15_code'])\n",
    "\n",
    "def split_paycode(df):\n",
    "    v = df['payercode'].split(\"_\")\n",
    "    return v[0], v[1]"
   ]
  },
  {
   "cell_type": "code",
   "execution_count": 0,
   "metadata": {
    "application/vnd.databricks.v1+cell": {
     "cellMetadata": {
      "byteLimit": 2048000,
      "rowLimit": 10000
     },
     "inputWidgets": {},
     "nuid": "6470ed84-31fc-4c39-a91e-d1caa12c403a",
     "showTitle": true,
     "tableResultSettingsMap": {},
     "title": "t1.5 in"
    }
   },
   "outputs": [
    {
     "output_type": "stream",
     "name": "stdout",
     "output_type": "stream",
     "text": [
      "1878\n"
     ]
    }
   ],
   "source": [
    "def get_all_t1_t15_comb():\n",
    "    \"\"\"\n",
    "    所有t1 * t15 的组合\n",
    "    \"\"\"\n",
    "    df = spark.sql(f'''\n",
    "        select payercode as t15_code, sj_pay_to as t1_code  \n",
    "        from finance_ds_inventory_dmt.finance_poc_datahub_mid_ws_wccs_str \n",
    "        where deleted = 0  \n",
    "        group by all \n",
    "        ''')\n",
    "    print(df.count()) # 1878\n",
    "    df = df.toPandas()\n",
    "    df['t15_code'] = df['t15_code'].apply(lambda x: str(int(x)))\n",
    "    df['t1_code'] = df['t1_code'].apply(lambda x: str(int(x)))\n",
    "\n",
    "    return df\n",
    "# get_all_t1_t15_comb()\n",
    "\n",
    "def get_t15_stw_monthly_from_t1(sku_filtered, start='202101', end='202410'):\n",
    "    \"\"\"\n",
    "    t15 每个月从t1 的进货量\n",
    "\n",
    "    STR T1 to T1.5\n",
    "    payercode =T1.5 A, sj_pay_to = T1\n",
    "    payercode =T1.5 B, sj_pay_to = T1\n",
    "    \"\"\"\n",
    "    print(start, end)\n",
    "    df = spark.sql(f'''\n",
    "        select  payercode as t15_code, sj_pay_to as t1_code, Brand_Family_ComDB, wccs_sku_name, skucode, month as billingyearmonth, sum(str_qty) as str_qty \n",
    "        , payercode, payer_bu_name, payer_region_name\n",
    "        from finance_ds_inventory_dmt.finance_poc_datahub_mid_ws_wccs_str \n",
    "        where deleted = 0 \n",
    "        group by all  \n",
    "        ''')\n",
    "    stw = df.toPandas()\n",
    "    #TODO payercode t1,t15 组合？\n",
    "    stw['t1_code'] = stw['t1_code'].apply(lambda x: str(int(x)))\n",
    "    stw['t15_code'] = stw['t15_code'].apply(lambda x: str(int(x)))\n",
    "    stw = stw[(stw['billingyearmonth'] >= start) & (stw['billingyearmonth'] <= end)]\n",
    "    stw.columns = [x.lower() for x in stw.columns]\n",
    "    sku_filtered_info = sku_filtered.sort_values(by='SKUCode').drop_duplicates(subset=['SKUCode'])\n",
    "    stw = pd.merge(stw, sku_filtered_info[['SKUCode', 'HL']], left_on='skucode', right_on='SKUCode', how='left')\n",
    "    unfound_sku = stw[stw['HL'].isnull()]\n",
    "    if len(unfound_sku) > 0:\n",
    "        print(unfound_sku)\n",
    "    stw['stw_hl'] = stw['str_qty'] * stw['HL']\n",
    "    stw['payercode']  = stw.apply(lambda x : cat_code(x), axis=1)\n",
    "    return stw\n",
    "\n",
    "\n",
    "def get_t15_inv(month='202012'):\n",
    "    pass\n"
   ]
  },
  {
   "cell_type": "code",
   "execution_count": 0,
   "metadata": {
    "application/vnd.databricks.v1+cell": {
     "cellMetadata": {},
     "inputWidgets": {},
     "nuid": "a3d55d50-aa71-4cad-8801-10c91ff77049",
     "showTitle": true,
     "tableResultSettingsMap": {},
     "title": "t1.5 out"
    }
   },
   "outputs": [],
   "source": [
    "def get_t15_str_monthly(sku_filtered, start='202101', end='202410'):\n",
    "    \"\"\"\n",
    "    t15 的str量\n",
    "    记到不同的t1身上\n",
    "\n",
    "    T1.5 to POC\n",
    "    sale type = 3, sub_payercode = T1.5 A\n",
    "    sale type = 3, sub_payercode = T1.5 B\n",
    "\n",
    "    \"\"\"\n",
    "    print(start, end)\n",
    "    df = spark.sql(f'''\n",
    "        select payercode as t1_code, sub_payercode as t15_code,  Brand_Family_ComDB, wccs_sku_name, skucode,  month, sum(str_qty) as str_qty , \n",
    "        sub_payercode as payercode, payer_bu_name, payer_region_name\n",
    "        from finance_ds_inventory_dmt.finance_poc_datahub_t1ws_wccs_str \n",
    "        where deleted = 0\n",
    "        and sale_type = 3\n",
    "        group by all  \n",
    "        ''')\n",
    "    ws_str = df.toPandas()\n",
    "    ws_str['t1_code'] = ws_str['t1_code'].apply(lambda x: str(int(x)))\n",
    "    ws_str['t15_code'] = ws_str['t15_code'].apply(lambda x: str(int(x)))\n",
    "    ws_str = ws_str[(ws_str['month'] >= start) & (ws_str['month'] <= end)]\n",
    "    ws_str.columns = [x.lower() for x in ws_str.columns]\n",
    "    sku_filtered_info = sku_filtered.sort_values(by='SKUCode').drop_duplicates(subset=['SKUCode'])\n",
    "    ws_str = pd.merge(ws_str, sku_filtered_info[['SKUCode', 'HL']], left_on='skucode', right_on='SKUCode', how='left')\n",
    "    unfound_sku = ws_str[ws_str['HL'].isnull()]\n",
    "    if len(unfound_sku) > 0:\n",
    "        print(unfound_sku)\n",
    "    ws_str['str_hl'] = ws_str['str_qty'] * ws_str['HL']\n",
    "    ws_str['payercode']  = ws_str.apply(lambda x : cat_code(x), axis=1)\n",
    "    return ws_str"
   ]
  },
  {
   "cell_type": "code",
   "execution_count": 0,
   "metadata": {
    "application/vnd.databricks.v1+cell": {
     "cellMetadata": {
      "byteLimit": 2048000,
      "implicitDf": true,
      "rowLimit": 10000
     },
     "inputWidgets": {},
     "nuid": "e19b7975-de9e-4d30-8a79-cdada1aa577b",
     "showTitle": false,
     "tableResultSettingsMap": {},
     "title": ""
    }
   },
   "outputs": [
    {
     "output_type": "display_data",
     "data": {
      "text/html": [
       "<style scoped>\n",
       "  .table-result-container {\n",
       "    max-height: 300px;\n",
       "    overflow: auto;\n",
       "  }\n",
       "  table, th, td {\n",
       "    border: 1px solid black;\n",
       "    border-collapse: collapse;\n",
       "  }\n",
       "  th, td {\n",
       "    padding: 5px;\n",
       "  }\n",
       "  th {\n",
       "    text-align: left;\n",
       "  }\n",
       "</style><div class='table-result-container'><table class='table-result'><thead style='background-color: white'><tr><th>payercode</th><th>payer_name</th><th>payer_bu_code</th><th>payer_bu_name</th><th>payer_region_code</th><th>payer_region_name</th><th>sub_payercode</th><th>sub_payer_name</th><th>month</th><th>Brand_Family_ComDB</th><th>wccs_sku_name</th><th>sale_type</th><th>skucode</th><th>str_qty</th><th>dmt_ins_ts</th><th>dmt_upd_ts</th><th>deleted</th></tr></thead><tbody><tr><td>0030017642</td><td>福建瑞福祥实业有限责任公司</td><td>0000100004</td><td>东南区|BU_SE</td><td>0000105646</td><td>福建泉州|Region_Fujian_Quanzhou</td><td>0030017642</td><td>福建瑞福祥实业有限责任公司</td><td>202304</td><td>BUD</td><td>百威9.7度330ML1X24纸箱听装</td><td>1</td><td>25247</td><td>9954</td><td>2024-12-19T18:35:21.935Z</td><td>2024-12-19T18:35:21.935Z</td><td>0</td></tr><tr><td>0030014908</td><td>大连虹拓贸易有限公司</td><td>0000102688</td><td>东北|BU_NE</td><td>0000105939</td><td>辽西南区|Region_Liaoning_Southwest</td><td>0030014908</td><td>大连虹拓贸易有限公司</td><td>202104</td><td>HBO</td><td>哈尔滨醇爽10度500ML1X12 塑包听装</td><td>1</td><td>50276</td><td>9594</td><td>2024-12-19T18:35:21.935Z</td><td>2024-12-19T18:35:21.935Z</td><td>0</td></tr><tr><td>0030019043</td><td>汕头市潮联优品贸易有限公司</td><td>0000104652</td><td>南区|BU_S</td><td>0000105639</td><td>广东东区|Region_Guangdong_East</td><td>0030019043</td><td>汕头市潮联优品贸易有限公司</td><td>202110</td><td>HKOW</td><td>哈尔滨小麦王10度330ML4X6纸箱听装(塑膜内包)</td><td>1</td><td>55971</td><td>59000</td><td>2024-12-19T18:35:21.935Z</td><td>2024-12-19T18:35:21.935Z</td><td>0</td></tr><tr><td>0030016392</td><td>梅州市金乐丰贸易有限公司</td><td>0000104652</td><td>南区|BU_S</td><td>0000105639</td><td>广东东区|Region_Guangdong_East</td><td>0030016392</td><td>梅州市金乐丰贸易有限公司</td><td>202204</td><td>BUD</td><td>百威9.7度330ML2X9塑包听装-促销版A</td><td>1</td><td>91791</td><td>5865</td><td>2024-12-19T18:35:21.935Z</td><td>2024-12-19T18:35:21.935Z</td><td>0</td></tr><tr><td>0030011177</td><td>广昌县鹏兴商行</td><td>0000100004</td><td>东南区|BU_SE</td><td>0000105990</td><td>江西东部|Region_Jiangxi_East</td><td>0030011177</td><td>广昌县鹏兴商行</td><td>202105</td><td>BUD</td><td>百威9.7度330ML1X24纸箱OW瓶装</td><td>1</td><td>25141</td><td>2693</td><td>2024-12-19T18:35:21.935Z</td><td>2024-12-19T18:35:21.935Z</td><td>0</td></tr><tr><td>0030016321</td><td>天元区联达商行</td><td>0000100004</td><td>东南区|BU_SE</td><td>0000105135</td><td>湖南|Region_Hunan</td><td>0030016321</td><td>天元区联达商行</td><td>202312</td><td>HBI</td><td>哈尔滨冰纯9.1度500ML1X12纸箱听装（带提手）-促销版A</td><td>1</td><td>87855</td><td>2000</td><td>2024-12-19T18:35:21.935Z</td><td>2024-12-19T18:35:21.935Z</td><td>0</td></tr><tr><td>0030016392</td><td>梅州市金乐丰贸易有限公司</td><td>0000104652</td><td>南区|BU_S</td><td>0000105639</td><td>广东东区|Region_Guangdong_East</td><td>0030016392</td><td>梅州市金乐丰贸易有限公司</td><td>202105</td><td>BUD</td><td>百威9.7度500ML1X12纸箱回瓶装(广东特供)</td><td>1</td><td>87711</td><td>44062</td><td>2024-12-19T18:35:21.935Z</td><td>2024-12-19T18:35:21.935Z</td><td>0</td></tr><tr><td>0030008740</td><td>科尔沁右翼前旗乾润商贸有限责任公司</td><td>0000102688</td><td>东北|BU_NE</td><td>0000106041</td><td>吉林西区|Region_Jilin_West</td><td>0030008740</td><td>科尔沁右翼前旗乾润商贸有限责任公司</td><td>202206</td><td>HBI</td><td>哈尔滨冰纯9.1度500ML1X12纸箱回瓶装-促销版D</td><td>1</td><td>43416</td><td>128937</td><td>2024-12-19T18:35:21.935Z</td><td>2024-12-19T18:35:21.935Z</td><td>0</td></tr><tr><td>0030002987</td><td>重庆高美食品酒业有限责任公司</td><td>0000104662</td><td>中区|BU_C</td><td>0000105122</td><td>重庆市|Region_Chongqing</td><td>0030002987</td><td>重庆高美食品酒业有限责任公司</td><td>202306</td><td>HBO</td><td>哈尔滨清爽8度330ML1X24纸箱回瓶装(无格挡)-白瓶</td><td>1</td><td>71301</td><td>4225</td><td>2024-12-19T18:35:21.935Z</td><td>2024-12-19T18:35:21.935Z</td><td>0</td></tr><tr><td>0030002987</td><td>重庆高美食品酒业有限责任公司</td><td>0000104662</td><td>中区|BU_C</td><td>0000105122</td><td>重庆市|Region_Chongqing</td><td>0030002987</td><td>重庆高美食品酒业有限责任公司</td><td>202405</td><td>BUD</td><td>CT_百威9.7度330ML1X24纸箱OW铝瓶装(C2C)</td><td>1</td><td>67235</td><td>10149</td><td>2024-12-19T18:35:21.935Z</td><td>2024-12-19T18:35:21.935Z</td><td>0</td></tr></tbody></table></div>"
      ]
     },
     "metadata": {
      "application/vnd.databricks.v1+output": {
       "addedWidgets": {},
       "aggData": [],
       "aggError": "",
       "aggOverflow": false,
       "aggSchema": [],
       "aggSeriesLimitReached": false,
       "aggType": "",
       "arguments": {},
       "columnCustomDisplayInfos": {},
       "data": [
        [
         "0030017642",
         "福建瑞福祥实业有限责任公司",
         "0000100004",
         "东南区|BU_SE",
         "0000105646",
         "福建泉州|Region_Fujian_Quanzhou",
         "0030017642",
         "福建瑞福祥实业有限责任公司",
         "202304",
         "BUD",
         "百威9.7度330ML1X24纸箱听装",
         1,
         25247,
         9954,
         "2024-12-19T18:35:21.935Z",
         "2024-12-19T18:35:21.935Z",
         0
        ],
        [
         "0030014908",
         "大连虹拓贸易有限公司",
         "0000102688",
         "东北|BU_NE",
         "0000105939",
         "辽西南区|Region_Liaoning_Southwest",
         "0030014908",
         "大连虹拓贸易有限公司",
         "202104",
         "HBO",
         "哈尔滨醇爽10度500ML1X12 塑包听装",
         1,
         50276,
         9594,
         "2024-12-19T18:35:21.935Z",
         "2024-12-19T18:35:21.935Z",
         0
        ],
        [
         "0030019043",
         "汕头市潮联优品贸易有限公司",
         "0000104652",
         "南区|BU_S",
         "0000105639",
         "广东东区|Region_Guangdong_East",
         "0030019043",
         "汕头市潮联优品贸易有限公司",
         "202110",
         "HKOW",
         "哈尔滨小麦王10度330ML4X6纸箱听装(塑膜内包)",
         1,
         55971,
         59000,
         "2024-12-19T18:35:21.935Z",
         "2024-12-19T18:35:21.935Z",
         0
        ],
        [
         "0030016392",
         "梅州市金乐丰贸易有限公司",
         "0000104652",
         "南区|BU_S",
         "0000105639",
         "广东东区|Region_Guangdong_East",
         "0030016392",
         "梅州市金乐丰贸易有限公司",
         "202204",
         "BUD",
         "百威9.7度330ML2X9塑包听装-促销版A",
         1,
         91791,
         5865,
         "2024-12-19T18:35:21.935Z",
         "2024-12-19T18:35:21.935Z",
         0
        ],
        [
         "0030011177",
         "广昌县鹏兴商行",
         "0000100004",
         "东南区|BU_SE",
         "0000105990",
         "江西东部|Region_Jiangxi_East",
         "0030011177",
         "广昌县鹏兴商行",
         "202105",
         "BUD",
         "百威9.7度330ML1X24纸箱OW瓶装",
         1,
         25141,
         2693,
         "2024-12-19T18:35:21.935Z",
         "2024-12-19T18:35:21.935Z",
         0
        ],
        [
         "0030016321",
         "天元区联达商行",
         "0000100004",
         "东南区|BU_SE",
         "0000105135",
         "湖南|Region_Hunan",
         "0030016321",
         "天元区联达商行",
         "202312",
         "HBI",
         "哈尔滨冰纯9.1度500ML1X12纸箱听装（带提手）-促销版A",
         1,
         87855,
         2000,
         "2024-12-19T18:35:21.935Z",
         "2024-12-19T18:35:21.935Z",
         0
        ],
        [
         "0030016392",
         "梅州市金乐丰贸易有限公司",
         "0000104652",
         "南区|BU_S",
         "0000105639",
         "广东东区|Region_Guangdong_East",
         "0030016392",
         "梅州市金乐丰贸易有限公司",
         "202105",
         "BUD",
         "百威9.7度500ML1X12纸箱回瓶装(广东特供)",
         1,
         87711,
         44062,
         "2024-12-19T18:35:21.935Z",
         "2024-12-19T18:35:21.935Z",
         0
        ],
        [
         "0030008740",
         "科尔沁右翼前旗乾润商贸有限责任公司",
         "0000102688",
         "东北|BU_NE",
         "0000106041",
         "吉林西区|Region_Jilin_West",
         "0030008740",
         "科尔沁右翼前旗乾润商贸有限责任公司",
         "202206",
         "HBI",
         "哈尔滨冰纯9.1度500ML1X12纸箱回瓶装-促销版D",
         1,
         43416,
         128937,
         "2024-12-19T18:35:21.935Z",
         "2024-12-19T18:35:21.935Z",
         0
        ],
        [
         "0030002987",
         "重庆高美食品酒业有限责任公司",
         "0000104662",
         "中区|BU_C",
         "0000105122",
         "重庆市|Region_Chongqing",
         "0030002987",
         "重庆高美食品酒业有限责任公司",
         "202306",
         "HBO",
         "哈尔滨清爽8度330ML1X24纸箱回瓶装(无格挡)-白瓶",
         1,
         71301,
         4225,
         "2024-12-19T18:35:21.935Z",
         "2024-12-19T18:35:21.935Z",
         0
        ],
        [
         "0030002987",
         "重庆高美食品酒业有限责任公司",
         "0000104662",
         "中区|BU_C",
         "0000105122",
         "重庆市|Region_Chongqing",
         "0030002987",
         "重庆高美食品酒业有限责任公司",
         "202405",
         "BUD",
         "CT_百威9.7度330ML1X24纸箱OW铝瓶装(C2C)",
         1,
         67235,
         10149,
         "2024-12-19T18:35:21.935Z",
         "2024-12-19T18:35:21.935Z",
         0
        ]
       ],
       "datasetInfos": [],
       "dbfsResultPath": null,
       "isJsonSchema": true,
       "metadata": {
        "dataframeName": "_sqldf",
        "executionCount": 5
       },
       "overflow": false,
       "plotOptions": {
        "customPlotOptions": {},
        "displayType": "table",
        "pivotAggregation": null,
        "pivotColumns": null,
        "xColumns": null,
        "yColumns": null
       },
       "removedWidgets": [],
       "schema": [
        {
         "metadata": "{}",
         "name": "payercode",
         "type": "\"string\""
        },
        {
         "metadata": "{}",
         "name": "payer_name",
         "type": "\"string\""
        },
        {
         "metadata": "{}",
         "name": "payer_bu_code",
         "type": "\"string\""
        },
        {
         "metadata": "{}",
         "name": "payer_bu_name",
         "type": "\"string\""
        },
        {
         "metadata": "{}",
         "name": "payer_region_code",
         "type": "\"string\""
        },
        {
         "metadata": "{}",
         "name": "payer_region_name",
         "type": "\"string\""
        },
        {
         "metadata": "{}",
         "name": "sub_payercode",
         "type": "\"string\""
        },
        {
         "metadata": "{}",
         "name": "sub_payer_name",
         "type": "\"string\""
        },
        {
         "metadata": "{}",
         "name": "month",
         "type": "\"string\""
        },
        {
         "metadata": "{}",
         "name": "Brand_Family_ComDB",
         "type": "\"string\""
        },
        {
         "metadata": "{}",
         "name": "wccs_sku_name",
         "type": "\"string\""
        },
        {
         "metadata": "{}",
         "name": "sale_type",
         "type": "\"integer\""
        },
        {
         "metadata": "{}",
         "name": "skucode",
         "type": "\"integer\""
        },
        {
         "metadata": "{}",
         "name": "str_qty",
         "type": "\"integer\""
        },
        {
         "metadata": "{}",
         "name": "dmt_ins_ts",
         "type": "\"timestamp\""
        },
        {
         "metadata": "{}",
         "name": "dmt_upd_ts",
         "type": "\"timestamp\""
        },
        {
         "metadata": "{}",
         "name": "deleted",
         "type": "\"integer\""
        }
       ],
       "type": "table"
      }
     },
     "output_type": "display_data"
    }
   ],
   "source": [
    "# %sql\n",
    "# -- select * from finance_ds_inventory_dmt.finance_poc_datahub_t1ws_wccs_str limit 10"
   ]
  },
  {
   "cell_type": "code",
   "execution_count": 0,
   "metadata": {
    "application/vnd.databricks.v1+cell": {
     "cellMetadata": {
      "byteLimit": 2048000,
      "implicitDf": true,
      "rowLimit": 10000
     },
     "inputWidgets": {},
     "nuid": "a7d04de5-c94d-4ee6-b56a-ac5b9823a293",
     "showTitle": false,
     "tableResultSettingsMap": {},
     "title": ""
    }
   },
   "outputs": [
    {
     "output_type": "display_data",
     "data": {
      "text/html": [
       "<style scoped>\n",
       "  .table-result-container {\n",
       "    max-height: 300px;\n",
       "    overflow: auto;\n",
       "  }\n",
       "  table, th, td {\n",
       "    border: 1px solid black;\n",
       "    border-collapse: collapse;\n",
       "  }\n",
       "  th, td {\n",
       "    padding: 5px;\n",
       "  }\n",
       "  th {\n",
       "    text-align: left;\n",
       "  }\n",
       "</style><div class='table-result-container'><table class='table-result'><thead style='background-color: white'><tr><th>SoldToCode</th><th>SoldToName</th><th>PayerCode</th><th>PayerName</th><th>payer_bu_code</th><th>payer_bu_name</th><th>payer_region_code</th><th>payer_region_name</th><th>BillingYearMonth</th><th>Brand_Family_ComDB</th><th>SKUCode</th><th>SKUName</th><th>stw_hl</th><th>stw_qty</th><th>dmt_ins_ts</th><th>dmt_upd_ts</th><th>deleted</th></tr></thead><tbody><tr><td>10047076</td><td>鄂伦春自治旗大杨树镇华奕佳丰酒业</td><td>30019511</td><td>鄂伦春自治旗大杨树镇华奕佳丰酒业</td><td>0000102688</td><td>东北|BU_NE</td><td>0000105627</td><td>黑龙江东区|Region_Heilongjiang_East</td><td>202311</td><td>BUD</td><td>100945</td><td>百威9.7度460ML1X12纸箱回瓶装-钻石标-促销版A</td><td>132.15</td><td>2394</td><td>2024-12-16T08:01:25.961Z</td><td>2024-12-16T08:01:25.961Z</td><td>0</td></tr><tr><td>10032225</td><td>广州韶记贸易有限公司</td><td>30016284</td><td>广州韶记贸易有限公司</td><td>0000104652</td><td>南区|BU_S</td><td>0000105642</td><td>广东大广州|Region_Guangdong_Greater Guan</td><td>202311</td><td>BUD</td><td>37995</td><td>百威纯生8度500ML1X12纸箱回瓶装(无格挡)</td><td>45.36</td><td>756</td><td>2024-12-16T08:01:25.961Z</td><td>2024-12-16T08:01:25.961Z</td><td>0</td></tr><tr><td>10027311</td><td>海南明峰贸易有限公司</td><td>30014760</td><td>海南明峰贸易有限公司</td><td>0000104652</td><td>南区|BU_S</td><td>0000105644</td><td>海南|Region_Hainan</td><td>202311</td><td>ISP</td><td>76353</td><td>福佳白11.7度275ML1X24纸箱OW瓶装</td><td>12.01</td><td>182</td><td>2024-12-16T08:01:25.961Z</td><td>2024-12-16T08:01:25.961Z</td><td>0</td></tr><tr><td>10021938</td><td>北京京东世纪贸易有限公司(广州DC)</td><td>30011727</td><td>北京京东世纪信息技术有限公司（广州DC）</td><td>0000104652</td><td>南区|BU_S</td><td>0000105642</td><td>广东大广州|Region_Guangdong_Greater Guan</td><td>202311</td><td>ISP</td><td>82204</td><td>三宝乐11度350ML1X24纸箱听装</td><td>29.40</td><td>350</td><td>2024-12-16T08:01:25.961Z</td><td>2024-12-16T08:01:25.961Z</td><td>0</td></tr><tr><td>10043304</td><td>成都红照天商贸有限公司(宏鑫)</td><td>30015767</td><td>成都红照天商贸有限公司</td><td>0000104649</td><td>西区|BU_W</td><td>0000105637</td><td>四川成都|Region_Sichuan_Chengdu</td><td>202311</td><td>BUD</td><td>63259</td><td>百威9.7度500ML1X12纸箱听装-促销版A(带提手)</td><td>43.20</td><td>720</td><td>2024-12-16T08:01:25.961Z</td><td>2024-12-16T08:01:25.961Z</td><td>0</td></tr><tr><td>10036493</td><td>凤城市金叶商贸有限公司</td><td>30017693</td><td>凤城市金叶商贸有限公司</td><td>0000102688</td><td>东北|BU_NE</td><td>0000105630</td><td>辽宁北区|Region_Liaoning_North</td><td>202311</td><td>HBO</td><td>25503</td><td>哈尔滨冰爽8度330ML1X24纸箱回瓶装</td><td>37.07</td><td>468</td><td>2024-12-16T08:01:25.961Z</td><td>2024-12-16T08:01:25.961Z</td><td>0</td></tr><tr><td>10044345</td><td>泸州市龙马潭区黄前彩副食经营部(叙永分仓)</td><td>30019052</td><td>泸州市龙马潭区黄前彩副食经营部</td><td>0000104649</td><td>西区|BU_W</td><td>0000105635</td><td>四川南区|Region_Sichuan_South</td><td>202310</td><td>HBO</td><td>91504</td><td>哈尔滨清爽8度500ML1X12纸箱回瓶装-新VI版</td><td>64.80</td><td>1080</td><td>2024-12-16T08:01:25.961Z</td><td>2024-12-16T08:01:25.961Z</td><td>0</td></tr><tr><td>10046689</td><td>绥芬河市禹翔百威啤酒经销处</td><td>30019425</td><td>绥芬河市禹翔百威啤酒经销处</td><td>0000102688</td><td>东北|BU_NE</td><td>0000105780</td><td>黑龙江南区|Region_Heilongjiang_South</td><td>202312</td><td>BUD</td><td>100945</td><td>百威9.7度460ML1X12纸箱回瓶装-钻石标-促销版A</td><td>111.28</td><td>2016</td><td>2024-12-16T08:01:25.961Z</td><td>2024-12-16T08:01:25.961Z</td><td>0</td></tr><tr><td>10027839</td><td>广州吉瀚丰翔商贸有限公司</td><td>30014955</td><td>广州吉瀚丰翔商贸有限公司</td><td>0000104652</td><td>南区|BU_S</td><td>0000105642</td><td>广东大广州|Region_Guangdong_Greater Guan</td><td>202311</td><td>BUD</td><td>95798</td><td>百威昕蓝7.5度500ML1X12纸箱听装-常规版</td><td>442.26</td><td>7371</td><td>2024-12-16T08:01:25.961Z</td><td>2024-12-16T08:01:25.961Z</td><td>0</td></tr><tr><td>10054156</td><td>望奎县君威食品有限公司</td><td>30020449</td><td>望奎县君威食品有限公司</td><td>0000102688</td><td>东北|BU_NE</td><td>0000105627</td><td>黑龙江东区|Region_Heilongjiang_East</td><td>202311</td><td>BUD</td><td>25162</td><td>百威纯生8度500ML1X12纸箱回瓶装</td><td>233.28</td><td>3888</td><td>2024-12-16T08:01:25.961Z</td><td>2024-12-16T08:01:25.961Z</td><td>0</td></tr></tbody></table></div>"
      ]
     },
     "metadata": {
      "application/vnd.databricks.v1+output": {
       "addedWidgets": {},
       "aggData": [],
       "aggError": "",
       "aggOverflow": false,
       "aggSchema": [],
       "aggSeriesLimitReached": false,
       "aggType": "",
       "arguments": {},
       "columnCustomDisplayInfos": {},
       "data": [
        [
         10047076,
         "鄂伦春自治旗大杨树镇华奕佳丰酒业",
         30019511,
         "鄂伦春自治旗大杨树镇华奕佳丰酒业",
         "0000102688",
         "东北|BU_NE",
         "0000105627",
         "黑龙江东区|Region_Heilongjiang_East",
         "202311",
         "BUD",
         100945,
         "百威9.7度460ML1X12纸箱回瓶装-钻石标-促销版A",
         "132.15",
         2394,
         "2024-12-16T08:01:25.961Z",
         "2024-12-16T08:01:25.961Z",
         0
        ],
        [
         10032225,
         "广州韶记贸易有限公司",
         30016284,
         "广州韶记贸易有限公司",
         "0000104652",
         "南区|BU_S",
         "0000105642",
         "广东大广州|Region_Guangdong_Greater Guan",
         "202311",
         "BUD",
         37995,
         "百威纯生8度500ML1X12纸箱回瓶装(无格挡)",
         "45.36",
         756,
         "2024-12-16T08:01:25.961Z",
         "2024-12-16T08:01:25.961Z",
         0
        ],
        [
         10027311,
         "海南明峰贸易有限公司",
         30014760,
         "海南明峰贸易有限公司",
         "0000104652",
         "南区|BU_S",
         "0000105644",
         "海南|Region_Hainan",
         "202311",
         "ISP",
         76353,
         "福佳白11.7度275ML1X24纸箱OW瓶装",
         "12.01",
         182,
         "2024-12-16T08:01:25.961Z",
         "2024-12-16T08:01:25.961Z",
         0
        ],
        [
         10021938,
         "北京京东世纪贸易有限公司(广州DC)",
         30011727,
         "北京京东世纪信息技术有限公司（广州DC）",
         "0000104652",
         "南区|BU_S",
         "0000105642",
         "广东大广州|Region_Guangdong_Greater Guan",
         "202311",
         "ISP",
         82204,
         "三宝乐11度350ML1X24纸箱听装",
         "29.40",
         350,
         "2024-12-16T08:01:25.961Z",
         "2024-12-16T08:01:25.961Z",
         0
        ],
        [
         10043304,
         "成都红照天商贸有限公司(宏鑫)",
         30015767,
         "成都红照天商贸有限公司",
         "0000104649",
         "西区|BU_W",
         "0000105637",
         "四川成都|Region_Sichuan_Chengdu",
         "202311",
         "BUD",
         63259,
         "百威9.7度500ML1X12纸箱听装-促销版A(带提手)",
         "43.20",
         720,
         "2024-12-16T08:01:25.961Z",
         "2024-12-16T08:01:25.961Z",
         0
        ],
        [
         10036493,
         "凤城市金叶商贸有限公司",
         30017693,
         "凤城市金叶商贸有限公司",
         "0000102688",
         "东北|BU_NE",
         "0000105630",
         "辽宁北区|Region_Liaoning_North",
         "202311",
         "HBO",
         25503,
         "哈尔滨冰爽8度330ML1X24纸箱回瓶装",
         "37.07",
         468,
         "2024-12-16T08:01:25.961Z",
         "2024-12-16T08:01:25.961Z",
         0
        ],
        [
         10044345,
         "泸州市龙马潭区黄前彩副食经营部(叙永分仓)",
         30019052,
         "泸州市龙马潭区黄前彩副食经营部",
         "0000104649",
         "西区|BU_W",
         "0000105635",
         "四川南区|Region_Sichuan_South",
         "202310",
         "HBO",
         91504,
         "哈尔滨清爽8度500ML1X12纸箱回瓶装-新VI版",
         "64.80",
         1080,
         "2024-12-16T08:01:25.961Z",
         "2024-12-16T08:01:25.961Z",
         0
        ],
        [
         10046689,
         "绥芬河市禹翔百威啤酒经销处",
         30019425,
         "绥芬河市禹翔百威啤酒经销处",
         "0000102688",
         "东北|BU_NE",
         "0000105780",
         "黑龙江南区|Region_Heilongjiang_South",
         "202312",
         "BUD",
         100945,
         "百威9.7度460ML1X12纸箱回瓶装-钻石标-促销版A",
         "111.28",
         2016,
         "2024-12-16T08:01:25.961Z",
         "2024-12-16T08:01:25.961Z",
         0
        ],
        [
         10027839,
         "广州吉瀚丰翔商贸有限公司",
         30014955,
         "广州吉瀚丰翔商贸有限公司",
         "0000104652",
         "南区|BU_S",
         "0000105642",
         "广东大广州|Region_Guangdong_Greater Guan",
         "202311",
         "BUD",
         95798,
         "百威昕蓝7.5度500ML1X12纸箱听装-常规版",
         "442.26",
         7371,
         "2024-12-16T08:01:25.961Z",
         "2024-12-16T08:01:25.961Z",
         0
        ],
        [
         10054156,
         "望奎县君威食品有限公司",
         30020449,
         "望奎县君威食品有限公司",
         "0000102688",
         "东北|BU_NE",
         "0000105627",
         "黑龙江东区|Region_Heilongjiang_East",
         "202311",
         "BUD",
         25162,
         "百威纯生8度500ML1X12纸箱回瓶装",
         "233.28",
         3888,
         "2024-12-16T08:01:25.961Z",
         "2024-12-16T08:01:25.961Z",
         0
        ]
       ],
       "datasetInfos": [],
       "dbfsResultPath": null,
       "isJsonSchema": true,
       "metadata": {
        "dataframeName": "_sqldf",
        "executionCount": 1
       },
       "overflow": false,
       "plotOptions": {
        "customPlotOptions": {},
        "displayType": "table",
        "pivotAggregation": null,
        "pivotColumns": null,
        "xColumns": null,
        "yColumns": null
       },
       "removedWidgets": [],
       "schema": [
        {
         "metadata": "{}",
         "name": "SoldToCode",
         "type": "\"integer\""
        },
        {
         "metadata": "{}",
         "name": "SoldToName",
         "type": "\"string\""
        },
        {
         "metadata": "{}",
         "name": "PayerCode",
         "type": "\"integer\""
        },
        {
         "metadata": "{}",
         "name": "PayerName",
         "type": "\"string\""
        },
        {
         "metadata": "{}",
         "name": "payer_bu_code",
         "type": "\"string\""
        },
        {
         "metadata": "{}",
         "name": "payer_bu_name",
         "type": "\"string\""
        },
        {
         "metadata": "{}",
         "name": "payer_region_code",
         "type": "\"string\""
        },
        {
         "metadata": "{}",
         "name": "payer_region_name",
         "type": "\"string\""
        },
        {
         "metadata": "{}",
         "name": "BillingYearMonth",
         "type": "\"string\""
        },
        {
         "metadata": "{}",
         "name": "Brand_Family_ComDB",
         "type": "\"string\""
        },
        {
         "metadata": "{}",
         "name": "SKUCode",
         "type": "\"integer\""
        },
        {
         "metadata": "{}",
         "name": "SKUName",
         "type": "\"string\""
        },
        {
         "metadata": "{}",
         "name": "stw_hl",
         "type": "\"decimal(38,2)\""
        },
        {
         "metadata": "{}",
         "name": "stw_qty",
         "type": "\"integer\""
        },
        {
         "metadata": "{}",
         "name": "dmt_ins_ts",
         "type": "\"timestamp\""
        },
        {
         "metadata": "{}",
         "name": "dmt_upd_ts",
         "type": "\"timestamp\""
        },
        {
         "metadata": "{}",
         "name": "deleted",
         "type": "\"integer\""
        }
       ],
       "type": "table"
      }
     },
     "output_type": "display_data"
    }
   ],
   "source": [
    "# %sql\n",
    "# select * from finance_ds_inventory_dmt.info_order_database_finance_stw limit 10"
   ]
  }
 ],
 "metadata": {
  "application/vnd.databricks.v1+notebook": {
   "computePreferences": null,
   "dashboards": [],
   "environmentMetadata": {
    "base_environment": "",
    "client": "1"
   },
   "language": "python",
   "notebookMetadata": {
    "mostRecentlyExecutedCommandWithImplicitDF": {
     "commandId": 4476463695625061,
     "dataframes": [
      "_sqldf"
     ]
    },
    "pythonIndentUnit": 4
   },
   "notebookName": "fetch_data",
   "widgets": {}
  },
  "language_info": {
   "name": "python"
  }
 },
 "nbformat": 4,
 "nbformat_minor": 0
}