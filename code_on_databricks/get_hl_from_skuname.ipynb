{
 "cells": [
  {
   "cell_type": "code",
   "execution_count": 0,
   "metadata": {
    "application/vnd.databricks.v1+cell": {
     "cellMetadata": {},
     "inputWidgets": {},
     "nuid": "47f9195a-c4a1-4b92-bd84-4b97a51c8095",
     "showTitle": false,
     "tableResultSettingsMap": {},
     "title": ""
    }
   },
   "outputs": [],
   "source": [
    "import pandas as pd\n",
    "import re\n",
    "\n",
    "def weird_sku_name(x):\n",
    "    x = re.sub(r'\\s|[\\d]%','',x)\n",
    "    a = re.search(r'.+[度|\\u4E00-\\u9Fa5 ]([0-9.]+ML|[0-9.]+L)([0-9]+[X|*][0-9]+|桶|回桶).+', x)\n",
    "    if a:\n",
    "        ml_str = a.group(1)\n",
    "        bottle_cnt_str = a.group(2)\n",
    "        liter_int = float(re.match(r'[\\d.]+', ml_str).group())/1000 if 'M' in ml_str else float(re.match(r'[\\d.]+', ml_str).group())\n",
    "        bottle_cnt_str = bottle_cnt_str.replace(\"*\", 'X')\n",
    "        print(bottle_cnt_str)\n",
    "        if re.search(r'([0-9]+X[0-9]+)', bottle_cnt_str):\n",
    "            bottle_cnt_int = int(bottle_cnt_str.split('X')[0])*int(bottle_cnt_str.split('X')[1])\n",
    "        else:\n",
    "            bottle_cnt_int = 1 if '桶' in bottle_cnt_str else re.search(r'[\\d]+', bottle_cnt_str).group()\n",
    "#         print(x, liter_int, bottle_cnt_int)\n",
    "        return ml_str, bottle_cnt_str, liter_int, bottle_cnt_int\n",
    "    else:\n",
    "        raise ValueError(f\"wrong sku name rules {x}\")\n",
    "\n",
    "\n",
    "def get_sku_hl_mapping_table(sku_name_list):\n",
    "    ml_list = []\n",
    "    bottle_cnt_list = []\n",
    "    liter_of_bottle = []\n",
    "    hl_list = []\n",
    "    for x in sku_name_list:\n",
    "        ml_of_bottle = re.search(r'.+[度|\\u4E00-\\u9Fa5]([0-9]+ML|[0-9]+L)([0-9]+X[0-9]+).+', x)   # 通用规则\n",
    "        if ml_of_bottle:\n",
    "            ml_str = ml_of_bottle.group(1)\n",
    "            bottle_cnt_str = ml_of_bottle.group(2)\n",
    "            liter_int = float(re.match(r'[\\d.]+', ml_str).group())/1000 if 'M' in ml_str else float(re.match(r'[\\d.]+', ml_str).group())\n",
    "            bottle_cnt_int = int(bottle_cnt_str.split('X')[0])*int(bottle_cnt_str.split('X')[1])\n",
    "            hl = liter_int * bottle_cnt_int/100\n",
    "        else:\n",
    "            try: # 特殊规则\n",
    "                ml_str, bottle_cnt_str, liter_int, bottle_cnt_int = weird_sku_name(x)\n",
    "                hl = liter_int * bottle_cnt_int / 100\n",
    "            except:\n",
    "                print(x)\n",
    "                ml_str,bottle_cnt_str,liter_int, hl = None\n",
    "        ml_list.append(ml_str)\n",
    "        bottle_cnt_list.append(bottle_cnt_str)\n",
    "        liter_of_bottle.append(liter_int)\n",
    "        hl_list.append(hl) #换算成百升\n",
    "    table = pd.DataFrame({\n",
    "                    'sku_name':sku_name_list,\n",
    "                    'ml_name':ml_list,\n",
    "                    'liter_per_bottle': liter_of_bottle,\n",
    "                    'bottle_cnt_name': bottle_cnt_list,\n",
    "                    'hl':hl_list\n",
    "                    })\n",
    "    return table"
   ]
  }
 ],
 "metadata": {
  "application/vnd.databricks.v1+notebook": {
   "computePreferences": null,
   "dashboards": [],
   "environmentMetadata": {
    "base_environment": "",
    "client": "1"
   },
   "language": "python",
   "notebookMetadata": {
    "pythonIndentUnit": 4
   },
   "notebookName": "get_hl_from_skuname",
   "widgets": {}
  },
  "language_info": {
   "name": "python"
  }
 },
 "nbformat": 4,
 "nbformat_minor": 0
}