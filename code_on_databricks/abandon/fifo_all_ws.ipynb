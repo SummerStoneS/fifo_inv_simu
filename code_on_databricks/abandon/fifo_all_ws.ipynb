{
 "cells": [
  {
   "cell_type": "code",
   "execution_count": 0,
   "metadata": {
    "application/vnd.databricks.v1+cell": {
     "cellMetadata": {
      "byteLimit": 2048000,
      "rowLimit": 10000
     },
     "inputWidgets": {},
     "nuid": "59c1f07e-d43e-47bd-adcf-fd138eb8523b",
     "showTitle": false,
     "tableResultSettingsMap": {},
     "title": ""
    }
   },
   "outputs": [
    {
     "output_type": "stream",
     "name": "stdout",
     "output_type": "stream",
     "text": [
      "\u001B[43mNote: you may need to restart the kernel using dbutils.library.restartPython() to use updated packages.\u001B[0m\nRequirement already satisfied: openpyxl in /local_disk0/.ephemeral_nfs/cluster_libraries/python/lib/python3.10/site-packages (3.1.5)\nRequirement already satisfied: et-xmlfile in /local_disk0/.ephemeral_nfs/cluster_libraries/python/lib/python3.10/site-packages (from openpyxl) (2.0.0)\n\u001B[43mNote: you may need to restart the kernel using dbutils.library.restartPython() to use updated packages.\u001B[0m\n"
     ]
    }
   ],
   "source": [
    "!pip install openpyxl"
   ]
  },
  {
   "cell_type": "code",
   "execution_count": 0,
   "metadata": {
    "application/vnd.databricks.v1+cell": {
     "cellMetadata": {
      "byteLimit": 2048000,
      "rowLimit": 10000
     },
     "inputWidgets": {},
     "nuid": "9dba6765-62a9-44a6-8035-9317f64b62d3",
     "showTitle": false,
     "tableResultSettingsMap": {},
     "title": ""
    }
   },
   "outputs": [],
   "source": [
    "import pandas as pd\n",
    "import re\n",
    "from datetime import datetime\n",
    "import warnings\n",
    "from collections import OrderedDict\n",
    "import os\n",
    "import yaml\n",
    "warnings.filterwarnings('ignore')"
   ]
  },
  {
   "cell_type": "code",
   "execution_count": 0,
   "metadata": {
    "application/vnd.databricks.v1+cell": {
     "cellMetadata": {
      "byteLimit": 2048000,
      "rowLimit": 10000
     },
     "inputWidgets": {},
     "nuid": "1e951782-4e99-4155-a383-03cb290b919a",
     "showTitle": false,
     "tableResultSettingsMap": {},
     "title": ""
    }
   },
   "outputs": [],
   "source": [
    "%run \"./fetch_data\""
   ]
  },
  {
   "cell_type": "code",
   "execution_count": 0,
   "metadata": {
    "application/vnd.databricks.v1+cell": {
     "cellMetadata": {
      "byteLimit": 2048000,
      "rowLimit": 10000
     },
     "inputWidgets": {},
     "nuid": "782134a1-0e1f-4d1a-8cc1-8d78895a0b1f",
     "showTitle": false,
     "tableResultSettingsMap": {},
     "title": ""
    }
   },
   "outputs": [],
   "source": [
    "%run \"./get_hl_from_skuname\""
   ]
  },
  {
   "cell_type": "code",
   "execution_count": 0,
   "metadata": {
    "application/vnd.databricks.v1+cell": {
     "cellMetadata": {
      "byteLimit": 2048000,
      "rowLimit": 10000
     },
     "inputWidgets": {},
     "nuid": "fb9bc420-d805-47e3-a50f-3d532ceb0e8d",
     "showTitle": false,
     "tableResultSettingsMap": {},
     "title": ""
    }
   },
   "outputs": [],
   "source": [
    "with open('./config.yml', 'r', encoding='utf-8') as file:\n",
    "    params_dict = yaml.safe_load(file)\n",
    "ws_params_dict_inv = params_dict['ws_params_dict_inv']  # inv数据使用列名\n",
    "ws_params_dict = params_dict['ws_params_dict']     # stw数据 列名\n",
    "ws_params_dict_str = params_dict['ws_params_dict_str']   # str列名"
   ]
  },
  {
   "cell_type": "code",
   "execution_count": 0,
   "metadata": {
    "application/vnd.databricks.v1+cell": {
     "cellMetadata": {
      "byteLimit": 2048000,
      "rowLimit": 10000
     },
     "inputWidgets": {},
     "nuid": "cc191b97-041f-40a6-800d-b34cac7f01a1",
     "showTitle": false,
     "tableResultSettingsMap": {},
     "title": ""
    }
   },
   "outputs": [],
   "source": [
    "def get_sku_hl_mapping_table():\n",
    "    sku_hl_mapping = spark.sql(\n",
    "    \"\"\"\n",
    "    WITH CIO AS (\n",
    "    SELECT\n",
    "        DISTINCT cio_id AS cio_code,\n",
    "        c_product as cio_name,\n",
    "        regexp_replace(capacity, '([a-zA-Z])', '') / 1000.0 as container_L,\n",
    "        -- trim(C2.Seg) AS Segment,\n",
    "        packagesize\n",
    "    FROM\n",
    "        bees_products_ods.product_center_cio_sku C1\n",
    "        LEFT JOIN bees_products_ods.product_center_cio_mapping C2 ON C2.cio_code = C1.cio_id\n",
    "    WHERE\n",
    "        deleted = 0\n",
    "        AND regexp_replace(capacity, '([a-zA-Z])', '') > 0\n",
    "        AND C2.Seg IS NOT NULL\n",
    "        AND COALESCE(packagesize, 0) > 0\n",
    "    )\n",
    "    SELECT\n",
    "    DISTINCT SC.sap_sku_code as SKUCode, K1.cio_code\n",
    "    ,K1.cio_name\n",
    "    ,K1.container_L * K1.packagesize/100 HL\n",
    "    FROM\n",
    "    CIO K1\n",
    "    JOIN bees_products_ods.product_center_ref_sap_to_cio SC ON SC.cio_sku_code = K1.cio_code\n",
    "    \"\"\"\n",
    "    ).toPandas()\n",
    "    return sku_hl_mapping\n",
    "\n",
    "def get_sku_sap_wccs_code_mapping_table():\n",
    "    wccs_productid_sap_sku_mapping = spark.sql(\n",
    "    \"\"\"\n",
    "    select distinct product_id, cast(sap_skudm as int) as SKUCode from wccs_ods.bas_material\n",
    "    \"\"\").toPandas()\n",
    "    return wccs_productid_sap_sku_mapping     "
   ]
  },
  {
   "cell_type": "code",
   "execution_count": 0,
   "metadata": {
    "application/vnd.databricks.v1+cell": {
     "cellMetadata": {
      "byteLimit": 2048000,
      "rowLimit": 10000
     },
     "inputWidgets": {},
     "nuid": "ac28f5bb-ccb6-4cf4-9917-5033d01ce2ef",
     "showTitle": true,
     "tableResultSettingsMap": {},
     "title": "读数"
    }
   },
   "outputs": [
    {
     "output_type": "stream",
     "name": "stdout",
     "output_type": "stream",
     "text": [
      "没对应上SKUCode/HL的wccs product id ['P02816' 'P02747' 'P02746' 'P02931' 'P03012' 'P03002' 'P02896' 'P02820'\n 'P02650' 'P02843' 'P02708' 'P03001' 'P03071' 'P03020' 'P00012' 'P00007'\n 'P01040' 'P00024' 'P00043' 'P00033' 'P00038' 'P00040' 'P00032' 'P00028'\n 'P00020' 'P00025' 'P00015' 'P00034' 'P00036' 'P00031' 'P00029' 'P00019'\n 'P00014' 'P00027' 'P00035' 'P00830' 'P00211' 'P00022' 'P00030' 'P00627'\n 'P02935' 'P03006' 'P02757' 'P00315' 'P00047' 'P00045' 'P00076' 'P00046'\n 'P00055' 'P00098' 'P00053' 'P00051' 'P00050' 'P00064' 'P00062' 'P00058'\n 'P00059' 'P01018' 'P00061' 'P00063' 'P00867' 'P00078' 'P02791' 'P02799'\n 'P00073' 'P00074' 'P00056' 'P00065' 'P00067' 'P00072' 'P00057' 'P00233'\n 'P00408' 'P00329' 'P00307' 'P00267' 'P00314' 'P00272' 'P00317' 'P00359'\n 'P00444' 'P00481' 'P00343' 'P00704' 'P00249' 'P00301' 'P00254' 'P00260'\n 'P00327' 'P00273' 'P00278' 'P00446' 'P00299' 'P00316' 'P00225' 'P00633'\n 'P00401' 'P00631' 'P00469' 'P00295' 'P00653' 'P00558' 'P00231' 'P00854'\n 'P00585' 'P00308' 'P00392' 'P00438' 'P00247' 'P00328' 'P00705' 'P00356'\n 'P00358' 'P00738' 'P00873' 'P00741' 'P00279']\n         payercode payer_bu_code payer_bu_name  ... deleted  SKUCode  HL\n405373  0030011577    0000106471       东区|BU_E  ...       0  35211.0 NaN\n432260  0030005231    0000106471       东区|BU_E  ...       0  35211.0 NaN\n755297  0030009056    0000104650       北区|BU_N  ...       0  44531.0 NaN\n\n[3 rows x 15 columns]\n"
     ]
    }
   ],
   "source": [
    "used_wccs_sku_list, sku_filtered, product_id_mapping = get_used_brand_family() # sku_filtered是过滤了四个brand的sku mapping表；product_id_mapping是全量的sku hl mapping表\n",
    "begin_inv = get_inv_data(used_wccs_sku_list, sku_filtered, used_qty_col='期初库存')\n",
    "stw = get_stw_data(start='202101', end='202410')\n",
    "ws_str = get_str_data(product_id_mapping,start='202101', end='202410')"
   ]
  },
  {
   "cell_type": "code",
   "execution_count": 0,
   "metadata": {
    "application/vnd.databricks.v1+cell": {
     "cellMetadata": {
      "byteLimit": 2048000,
      "rowLimit": 10000
     },
     "inputWidgets": {},
     "nuid": "06980ba6-c741-4466-9d5a-e908f1e47fce",
     "showTitle": true,
     "tableResultSettingsMap": {},
     "title": "ws attributes"
    }
   },
   "outputs": [],
   "source": [
    "ws_attributes2 = stw[['payercode', 'payername', 'payer_bu_name', 'payer_region_name']].drop_duplicates(subset=['payercode'])\n",
    "ws_attributes = ws_str[['payercode', 'payer_bu_name', 'payer_region_name']].drop_duplicates(subset=['payercode'])\n",
    "ws_attributes['payercode'] = ws_attributes['payercode'].astype(int)\n",
    "ws_str['payercode'] = ws_str['payercode'].astype(int)\n",
    "\n",
    "ws_attributes = ws_attributes.set_index('payercode')\n",
    "ws_attributes2 = ws_attributes2.set_index('payercode')\n",
    "\n",
    "ws_bu_dict = dict(ws_attributes['payer_bu_name'])\n",
    "ws_region_dict = dict(ws_attributes['payer_region_name'])\n",
    "# ws_name_dict = dict(ws_attributes2['payername'])\n",
    "ws_code_name_payercode_df = get_ws_name_payercode_mapping()\n",
    "ws_name_dict = dict(ws_code_name_payercode_df['payername'])"
   ]
  },
  {
   "cell_type": "code",
   "execution_count": 0,
   "metadata": {
    "application/vnd.databricks.v1+cell": {
     "cellMetadata": {
      "byteLimit": 2048000,
      "rowLimit": 10000
     },
     "inputWidgets": {},
     "nuid": "bb431997-2e4e-45b0-85b7-cb67b332755b",
     "showTitle": false,
     "tableResultSettingsMap": {},
     "title": ""
    }
   },
   "outputs": [],
   "source": [
    "def make_monthly_horizontal_df(lst, name):\n",
    "    df = pd.DataFrame(lst, columns=[name]).T\n",
    "    df.columns = [x + 1 for x in df.columns]\n",
    "    df = df.add_prefix('month_')\n",
    "    return df\n",
    "\n",
    "\n",
    "def get_initial_inv(data, **params):\n",
    "    ws_payer_code = params['ws_payer_code']\n",
    "    ws_id_name = params['ws_id_name']\n",
    "    ws_inv = data.query(f\"{ws_id_name} == '{ws_payer_code}'\")\n",
    "\n",
    "    if params['agg_col'] == 'hl':\n",
    "        ws_inv[params['sku_name']] = ws_inv[params['sku_name']].str.upper()\n",
    "        ws_inv[params['sku_name']] = ws_inv[params['sku_name']].apply(lambda x: re.sub(r'\\s|[\\d]%', '', x))\n",
    "        sku_name_list = list(ws_inv[params['sku_name']].unique())\n",
    "        sku_hl_mapping_table = get_sku_hl_mapping_table(sku_name_list)\n",
    "        ws_inv = pd.merge(ws_inv, sku_hl_mapping_table[['sku_name', 'hl']], left_on=params['sku_name'], right_on='sku_name')\n",
    "    else:\n",
    "        sku_hl_mapping_table = pd.DataFrame()                                                                          \n",
    "    ws_inv_agg = ws_inv.groupby([ws_id_name])[params['agg_col']].sum()\n",
    "    ws_inv_agg = ws_inv_agg.astype(float)\n",
    "\n",
    "    return ws_inv_agg, sku_hl_mapping_table\n",
    "\n",
    "\n",
    "def get_num_list(stw, **params):\n",
    "    # STW/STR 12个月的值\n",
    "    ws_stw = stw.query(f\"{params['ws_id_name']} == {params['ws_payer_code']}\")\n",
    "    if len(ws_stw) > 0:\n",
    "        if params['agg_col'] == 'hl':   # ws stw表里的agg_col是stw_hl\n",
    "            ws_stw[params['sku_name']] = ws_stw[params['sku_name']].str.upper()\n",
    "            ws_stw[params['sku_name']] = ws_stw[params['sku_name']].apply(lambda x: re.sub(r'\\s|[\\d]%', '', x))\n",
    "            sku_name_list = list(ws_stw[params['sku_name']].unique())\n",
    "            sku_hl_mapping_table = get_sku_hl_mapping_table(sku_name_list)\n",
    "            ws_stw = pd.merge(ws_stw, sku_hl_mapping_table[['sku_name', 'hl']], left_on=params['sku_name'], right_on='sku_name')\n",
    "        else:\n",
    "            sku_hl_mapping_table = pd.DataFrame()                                                                        \n",
    "        ws_stw_agg = ws_stw.groupby([params['month_col']])[params['agg_col']].sum()\n",
    "        ws_stw_agg = ws_stw_agg.astype(float)       \n",
    "        ws_stw_agg = ws_stw_agg.reindex(stw_yr_month_index).fillna(0)\n",
    "        ws_stw_lst = ws_stw_agg.to_list()\n",
    "    else:\n",
    "        ws_stw_lst = [0] * len(stw_yr_month_index)\n",
    "        sku_hl_mapping_table = pd.DataFrame()\n",
    "    return ws_stw_lst, sku_hl_mapping_table"
   ]
  },
  {
   "cell_type": "code",
   "execution_count": 0,
   "metadata": {
    "application/vnd.databricks.v1+cell": {
     "cellMetadata": {
      "byteLimit": 2048000,
      "rowLimit": 10000
     },
     "inputWidgets": {},
     "nuid": "862c319d-fc5c-41d5-9c89-e818c201d330",
     "showTitle": true,
     "tableResultSettingsMap": {},
     "title": "get_stw_monthly_balance"
    }
   },
   "outputs": [],
   "source": [
    "def get_stw_monthly_balance(begin_inv, stw: list, out_str: list, inv_expire_month=6, simu_months=12):\n",
    "    \"\"\"\n",
    "    begin_inv:202212期末库存=2023年1月期初库存\n",
    "    stw: 2023年12个月的stw进货量\n",
    "    out_str:2023年12个月的出货量\n",
    "    simu_months: 模拟的月份数，默认是1年即12个月\n",
    "    result: 期初库存每个月的结余\n",
    "    \"\"\"\n",
    "#     # 测试数据\n",
    "#     begin_inv = 80\n",
    "#     stw = [80]*2 + [100]*10     # 进货\n",
    "#     out_str = [80]*7 + [80]*5\n",
    "\n",
    "    begin_inv_remain = begin_inv\n",
    "    stw_remain = stw.copy()             #  截止到当前月每个月的进货量还剩多少                \n",
    "    stw_remain_monthly = []             # 每个月的结果合集\n",
    "    begin_inv_remain_monthly = []       # 每个月的结果合集\n",
    "    #     begin_inv_remain_lst = [None] * 12\n",
    "    #     stw_remain_list = []        # 每个月进货stw的剩余\n",
    "    str_remain_list = []\n",
    "    for i in range(simu_months):\n",
    "        # if i >= 34:\n",
    "        #     print(f\"month {i}\")\n",
    "        stw_remain_list = []\n",
    "        if (out_str[i] <= begin_inv_remain) and (i <= (inv_expire_month - 1)) and (out_str[i] > 0):     # 期初库存能扣到6月\n",
    "            begin_inv_remain -= out_str[i]  # 期初（年初）库存的剩余\n",
    "            stw_remain_list = stw_remain.copy()     # 每个月stw的剩余\n",
    "            stw_remain_list = [stw_remain_list[stw_month] if stw_month <= i else None for stw_month in range(simu_months) ]\n",
    "            str_remain = 0\n",
    "            str_remain_list.append(str_remain)\n",
    "        else:\n",
    "            if (begin_inv_remain > 0) and (i <= (inv_expire_month - 1)) and (out_str[i] > 0):\n",
    "                str_remain = out_str[i] - begin_inv_remain     # 这个月还欠多少货\n",
    "                begin_inv_remain = 0\n",
    "            else:\n",
    "                str_remain = out_str[i]\n",
    "            for j in range(len(stw_remain)):\n",
    "                if i > (inv_expire_month + j):\n",
    "                    pass                             # 如果到了8月，1月进货的stw已经不能用了\n",
    "                else:\n",
    "                    if stw_remain[j] > 0:\n",
    "                        delta = min(str_remain, stw_remain[j])   # 这个月的剩余需求和当前月的进货余量\n",
    "                    else:\n",
    "                        delta = 0         \n",
    "                    str_remain -= delta\n",
    "                    stw_remain[j] -= delta\n",
    "                if j <= i:\n",
    "                    stw_remain_list.append(stw_remain[j])    #  大于当前月的进货不能用\n",
    "                else:\n",
    "                    stw_remain_list.append(None) \n",
    "                if j == i:\n",
    "                    str_remain_list.append(str_remain)       # 用于检验这个月str需求是否全被满足了\n",
    "        stw_remain_monthly.append(stw_remain_list)\n",
    "        begin_inv_remain_monthly.append(begin_inv_remain)\n",
    "    #     return stw_remain_monthly, begin_inv_remain_monthly, str_remain_list\n",
    "    stw_replenish_df = make_monthly_horizontal_df(stw, 'STW(+)')\n",
    "    str_remain_df = make_monthly_horizontal_df(str_remain_list, 'str_remain')\n",
    "    out_str_df = make_monthly_horizontal_df(out_str, 'STR(-)')\n",
    "    begin_inv_remain_df = make_monthly_horizontal_df(begin_inv_remain_monthly, 'openning_balance')\n",
    "    stw_balance_df = pd.DataFrame(stw_remain_monthly, index=range(1, simu_months + 1), columns=range(1, simu_months + 1)).T\n",
    "    stw_balance_df = stw_balance_df.add_prefix('month_')\n",
    "    stw_balance_df.index = stw_balance_df.index.map(lambda x: str(x) + '_STW_balance')\n",
    "    output = pd.concat([stw_replenish_df, out_str_df, begin_inv_remain_df, stw_balance_df, str_remain_df])\n",
    "    year_begin_inv_balance = pd.DataFrame([begin_inv] + [None]*(len(output)-1), index=output.index, columns=['Openning Balance'])\n",
    "    return pd.concat([year_begin_inv_balance, output], axis=1)\n",
    "\n",
    "def get_result_df(begin_inv, stw, ws_str, expire_month, simu_months, ws_params_dict_inv, ws_params_dict, ws_params_dict_str):\n",
    "    ws_begin_inv,sku_hl_mapping_inv = get_initial_inv(begin_inv, **ws_params_dict_inv)   # 获取年期初库存\n",
    "    ws_stw_lst, _ = get_num_list(stw, **ws_params_dict)                  # 获取每个月的进货量stw\n",
    "    ws_str_lst,sku_hl_mapping_str = get_num_list(ws_str, **ws_params_dict_str)           # 获取每个月的出货量str\n",
    "#         if min(len(ws_stw_lst), len(ws_str_lst)) < simu_months:\n",
    "#             continue\n",
    "    ws_begin_inv = 0 if len(ws_begin_inv) == 0 else ws_begin_inv.values[0]\n",
    "    result_df = get_stw_monthly_balance(begin_inv=ws_begin_inv, stw=ws_stw_lst, out_str=ws_str_lst, inv_expire_month=expire_month, simu_months=simu_months)\n",
    "    return result_df,sku_hl_mapping_inv,sku_hl_mapping_str"
   ]
  },
  {
   "cell_type": "code",
   "execution_count": 0,
   "metadata": {
    "application/vnd.databricks.v1+cell": {
     "cellMetadata": {
      "byteLimit": 2048000,
      "rowLimit": 10000
     },
     "inputWidgets": {},
     "nuid": "b18a00c9-6b07-4632-b825-df66166d1637",
     "showTitle": true,
     "tableResultSettingsMap": {},
     "title": "generate_fifo_inventory_balance"
    }
   },
   "outputs": [],
   "source": [
    "def generate_fifo_inventory_balance(used_ws_dict, begin_inv, stw, ws_str, col='stw_qty', inv_expire_month=6, simu_months=12):\n",
    "    \"\"\"\n",
    "        used_ws_dict: 要模拟库存的经销商\n",
    "        begin_inv:年初库存\n",
    "        stw: 所有经销商的stw数据\n",
    "        ws_str: 所有经销商的str出货数据\n",
    "        col: stw_qty箱数 or hl百升数; 算库存箱数还是百升数\n",
    "        inv_expire_month: 多少个月后酒库存的就过期了,如果是int类型则所有sku默认一样的，如果是个dict，则是by brand有效期不同\n",
    "        simu_months: 模拟的月份数，默认是1年即12个月\n",
    "    \"\"\"\n",
    "    # dt_string = datetime.now().date().strftime(\"%m%d\")\n",
    "    # if isinstance(inv_expire_month, int):\n",
    "    #     file = pd.ExcelWriter(f'result_df/result_data_{col}_{dt_string}_{inv_expire_month}.xlsx')\n",
    "    # else:\n",
    "    #     file = pd.ExcelWriter(f'result_df/result_data_{col}_{dt_string}_by_brand_expired.xlsx')\n",
    "\n",
    "    ws_brand_df_list = []                                # Final明细结果\n",
    "    if col == 'hl':                                      # 通过洗sku的名字算hl\n",
    "        ws_params_dict_inv['agg_col'] = 'hl'\n",
    "        ws_params_dict['agg_col'] = 'stw_hl'\n",
    "        ws_params_dict_str['agg_col'] = 'hl'\n",
    "    elif col == 'hl_src':                                # 取数算的百升\n",
    "        ws_params_dict_inv['agg_col'] = 'inv_hl'\n",
    "        ws_params_dict['agg_col'] = 'stw_hl'\n",
    "        ws_params_dict_str['agg_col'] = 'str_hl'\n",
    "    else:                                                # qty箱数\n",
    "        pass    \n",
    "        \n",
    "    sku_hl_mapping_df = pd.DataFrame()\n",
    "    result_df_dict = {}\n",
    "    for payer_code, ws_code in used_ws_dict.items():\n",
    "        print(f\"ws_code:payer_code {ws_code}:{payer_code}\")\n",
    "        #     ws_stw_lst = ws_stw_agg.to_list()\n",
    "        ws_params_dict_inv['ws_payer_code'] = ws_code\n",
    "        ws_params_dict['ws_payer_code'] = payer_code\n",
    "        ws_params_dict_str['ws_payer_code'] = payer_code\n",
    "        if isinstance(inv_expire_month, int):    # 所有SKU/brand默认有相同的保鲜期\n",
    "            result_df = get_result_df(begin_inv, stw, ws_str, inv_expire_month, simu_months)\n",
    "        else:    # 一个brand 一个结果，最后加起来汇总成一个经销商的\n",
    "            result_df = pd.DataFrame()   # result_df: 一个ws把所有brand的库存加起来的表\n",
    "            for brand, brand_expire_month in inv_expire_month.items():\n",
    "                begin_inv_brand = begin_inv[begin_inv[ws_params_dict_inv['brand_col']] == brand]\n",
    "                stw_brand = stw[stw[ws_params_dict['brand_col']] == brand]\n",
    "                ws_str_brand = ws_str[ws_str[ws_params_dict_str['brand_col']] == brand]\n",
    "                result_df_brand,sku_hl_mapping_inv,sku_hl_mapping_str = get_result_df(begin_inv_brand, stw_brand, ws_str_brand, brand_expire_month, simu_months, ws_params_dict_inv, ws_params_dict, ws_params_dict_str)\n",
    "                # result_df: 一个ws把所有brand的库存加起来的表\n",
    "                result_df = result_df.combine(result_df_brand, lambda s1, s2: s1.fillna(0) + s2.fillna(0))\n",
    "                result_df_brand.insert(0, 'expire_month', brand_expire_month)\n",
    "                result_df_brand.insert(0, 'brand', brand)\n",
    "                result_df_brand.insert(0, 'region', ws_region_dict[payer_code])\n",
    "                result_df_brand.insert(0, 'bu', ws_bu_dict[payer_code])\n",
    "                result_df_brand.insert(0, 'ws_code', payer_code)   # 也可以改payer_code\n",
    "                result_df_brand.insert(0, 'ws_name', ws_name_dict.get(payer_code))\n",
    "                ws_brand_df_list.append(result_df_brand)\n",
    "        # result_df.to_excel(file, sheet_name=ws_code)\n",
    "        result_df.insert(0, 'expire_month', None)\n",
    "        result_df.insert(0, 'brand', \"all\")\n",
    "        result_df.insert(0, 'region', ws_region_dict[payer_code])\n",
    "        result_df.insert(0, 'bu', ws_bu_dict[payer_code])\n",
    "        result_df.insert(0, 'ws_code', payer_code)   # 也可以改payer_code/ws_code\n",
    "        result_df.insert(0, 'ws_name', ws_name_dict.get(payer_code))\n",
    "        ws_brand_df_list.append(result_df)\n",
    "        result_df_dict[ws_code] = result_df\n",
    "        if len(sku_hl_mapping_inv) > 0:\n",
    "            sku_hl_mapping_inv['type'] = 'inv'\n",
    "            sku_hl_mapping_inv['ws_code'] = ws_code\n",
    "            sku_hl_mapping_df = pd.concat([sku_hl_mapping_df, sku_hl_mapping_inv])\n",
    "        if len(sku_hl_mapping_str) > 0:\n",
    "            sku_hl_mapping_str['type'] = 'str'\n",
    "            sku_hl_mapping_str['ws_code'] = ws_code\n",
    "            sku_hl_mapping_df = pd.concat([sku_hl_mapping_df, sku_hl_mapping_str])\n",
    "    # if len(sku_hl_mapping_df) > 0:\n",
    "    #     sku_hl_mapping_df.to_excel(file, sheet_name='sku_hl_mapping')\n",
    "    return ws_brand_df_list, result_df_dict"
   ]
  },
  {
   "cell_type": "code",
   "execution_count": 0,
   "metadata": {
    "application/vnd.databricks.v1+cell": {
     "cellMetadata": {
      "byteLimit": 2048000,
      "rowLimit": 10000
     },
     "inputWidgets": {},
     "nuid": "0c88b89d-db77-4e9b-a970-524540051aad",
     "showTitle": false,
     "tableResultSettingsMap": {},
     "title": ""
    }
   },
   "outputs": [
    {
     "output_type": "stream",
     "name": "stdout",
     "output_type": "stream",
     "text": [
      "stw月份数：46\nstr月份数：46\n"
     ]
    }
   ],
   "source": [
    "month_cnt = len(stw['billingyearmonth'].unique())      # 2021.1到24年10月是46个月；每个经销商都要46个月\n",
    "print(f\"stw月份数：{month_cnt}\")\n",
    "print(f\"str月份数：{len(ws_str['month'].unique())}\")\n",
    "stw_yr_month_index = stw['billingyearmonth'].drop_duplicates().sort_values()\n",
    "# str_yr_month_index = ws_str['month'].drop_duplicates().sort_values()   # 长得是一样的"
   ]
  },
  {
   "cell_type": "code",
   "execution_count": 0,
   "metadata": {
    "application/vnd.databricks.v1+cell": {
     "cellMetadata": {
      "byteLimit": 2048000,
      "rowLimit": 10000
     },
     "inputWidgets": {},
     "nuid": "e565a447-83fb-478b-ab54-8fefa579bb7b",
     "showTitle": true,
     "tableResultSettingsMap": {},
     "title": "全部经销商列表"
    }
   },
   "outputs": [],
   "source": [
    "# ws_code_mapping_table = spark.sql(\"select distinct wholesalerid as ws_code, int(Pay_to) as payercode  from bcc_baseline_ods.wccs_ws\").toPandas()\n",
    "ws_code_mapping_table = pd.read_excel('/dbfs/FileStore/tables/srf/fifo_inv_simu/src_data/ws_code_payer_code_mapping.xlsx').drop_duplicates(subset=['payercode']) # 进销存excel里的\n",
    "# ws_code_mapping_table.groupby('payercode').agg({'ws_code':pd.Series.nunique}).sort_values(by='ws_code', ascending=False)  # 检查一对一关系\n",
    "ws_list = ws_str['payercode'].drop_duplicates()\n",
    "used_ws_code_mapping_df = pd.merge(ws_list, ws_code_mapping_table, on='payercode', how='left').set_index('payercode')    # w码有缺失值"
   ]
  },
  {
   "cell_type": "code",
   "execution_count": 0,
   "metadata": {
    "application/vnd.databricks.v1+cell": {
     "cellMetadata": {
      "byteLimit": 2048000,
      "rowLimit": 10000
     },
     "inputWidgets": {},
     "nuid": "dee8f580-535c-4dbc-945b-0f80a4b76b12",
     "showTitle": false,
     "tableResultSettingsMap": {},
     "title": ""
    }
   },
   "outputs": [
    {
     "output_type": "stream",
     "name": "stdout",
     "output_type": "stream",
     "text": [
      "ws_code:payer_code W00014804:30019705\nws_code:payer_code W00015499:30020351\nws_code:payer_code W00014088:30019043\nws_code:payer_code W00004564:30003672\nws_code:payer_code W00012457:30017071\nws_code:payer_code W00014033:30018978\nws_code:payer_code W00006907:30012857\nws_code:payer_code W00001455:30002866\nws_code:payer_code W00015431:30020286\nws_code:payer_code W00014015:30018934\nws_code:payer_code W00013796:30018795\nws_code:payer_code W00001794:30003266\nws_code:payer_code W00006891:30011189\nws_code:payer_code W00011626:30016081\nws_code:payer_code W00012325:30017122\nws_code:payer_code W00001461:30002767\nws_code:payer_code W00011188:30015701\nws_code:payer_code W00015380:30020230\nws_code:payer_code W00012920:30017846\nws_code:payer_code W00004379:30002248\nws_code:payer_code W00011553:30015993\nws_code:payer_code W00004882:30003317\nws_code:payer_code W00000468:30008389\nws_code:payer_code W00001945:30003227\nws_code:payer_code W00007981:30011164\nws_code:payer_code W00003877:30003086\nws_code:payer_code W00004869:30008883\nws_code:payer_code W00015390:30020255\nws_code:payer_code W00014396:30019223\nws_code:payer_code W00014048:30018969\nws_code:payer_code W00015480:30020333\nws_code:payer_code W00013524:30018580\nws_code:payer_code W00012146:30016402\nws_code:payer_code W00015838:30020665\nws_code:payer_code W00002074:30007980\nws_code:payer_code W00011234:30015729\nws_code:payer_code W00014364:30019287\nws_code:payer_code W00010720:30014953\nws_code:payer_code W00015064:30019961\nws_code:payer_code W00005601:30011381\nws_code:payer_code W00013956:30018900\nws_code:payer_code W00012769:30017709\nws_code:payer_code W00015806:30020634\nws_code:payer_code W00013988:30018937\nws_code:payer_code W00011286:30015778\nws_code:payer_code W00000999:30004171\nws_code:payer_code W00006913:30011199\nws_code:payer_code W00014350:30019238\nws_code:payer_code W00015306:30020160\nws_code:payer_code W00003995:30002620\nws_code:payer_code W00004026:30002795\nws_code:payer_code W00015934:30020771\nws_code:payer_code W00010721:30014941\nws_code:payer_code W00014269:30019183\nws_code:payer_code W00014556:30003848\nws_code:payer_code W00012973:30017954\nws_code:payer_code W00012186:30016411\nws_code:payer_code W00014652:30019573\nws_code:payer_code W00001358:30008605\nws_code:payer_code W00014959:30019853\nws_code:payer_code W00014745:30019647\nws_code:payer_code W00014518:30019456\nws_code:payer_code W00007116:30012162\nws_code:payer_code W00005050:30010389\nws_code:payer_code W00014152:30019074\nws_code:payer_code W00013647:30018670\nws_code:payer_code W00011290:30015702\nws_code:payer_code W00003703:30003331\nws_code:payer_code W00014789:30019683\nws_code:payer_code W00012117:30016392\nws_code:payer_code W00007870:30011467\nws_code:payer_code W00011535:30015987\nws_code:payer_code W00014817:30019714\nws_code:payer_code W00006568:30011924\nws_code:payer_code W00002164:30005569\nws_code:payer_code W00013313:30018385\nws_code:payer_code W00006752:30012009\nws_code:payer_code W00015135:30020039\nws_code:payer_code W00014223:30019134\nws_code:payer_code W00001322:30003297\nws_code:payer_code W00011526:30015964\nws_code:payer_code W00014639:30019565\nws_code:payer_code W00014123:30019065\nws_code:payer_code W00005204:30003450\nws_code:payer_code W00007975:30010789\nws_code:payer_code W00014532:30019421\nws_code:payer_code W00005361:30002364\nws_code:payer_code W00014811:30019711\nws_code:payer_code W00012231:30016998\nws_code:payer_code W00008148:30012642\nws_code:payer_code W00013340:30018415\nws_code:payer_code W00013412:30018491\nws_code:payer_code W00014314:30019221\nws_code:payer_code W00003989:30002692\nws_code:payer_code W00011868:30016210\nws_code:payer_code W00014247:30019171\nws_code:payer_code W00002288:30001874\nws_code:payer_code W00006828:30010059\nws_code:payer_code W00012324:30017127\nws_code:payer_code W00011106:30015586\nws_code:payer_code W00006877:30011157\nws_code:payer_code W00004540:30008590\nws_code:payer_code W00015443:30020302\nws_code:payer_code W00013183:30018261\nws_code:payer_code W00015711:30020538\nws_code:payer_code W00002482:30009802\nws_code:payer_code W00007476:30014612\nws_code:payer_code W00011443:30015887\nws_code:payer_code W00014110:30019053\nws_code:payer_code W00015270:30020129\nws_code:payer_code W00006871:30010786\nws_code:payer_code W00014561:30019351\nws_code:payer_code W00012880:30017781\nws_code:payer_code W00002843:30003137\nws_code:payer_code W00006928:30018210\nws_code:payer_code W00010899:30015016\nws_code:payer_code W00003421:30008930\nws_code:payer_code W00013266:30017955\nws_code:payer_code W00004775:30010287\nws_code:payer_code W00012515:30017458\nws_code:payer_code W00013018:30017952\nws_code:payer_code W00013862:30018826\nws_code:payer_code W00003996:30002639\nws_code:payer_code W00004111:30009874\nws_code:payer_code W00002679:30007828\nws_code:payer_code W00014864:30019766\nws_code:payer_code W00005444:30008732\nws_code:payer_code W00004792:30010323\nws_code:payer_code W00000075:30007143\nws_code:payer_code W00014773:30019670\nws_code:payer_code W00003524:30008616\nws_code:payer_code W00014063:30019019\nws_code:payer_code W00014723:30019624\nws_code:payer_code W00004216:30009800\nws_code:payer_code W00011766:30016131\nws_code:payer_code W00014330:30019246\nws_code:payer_code W00004056:30003162\nws_code:payer_code W00006930:30010635\nws_code:payer_code W00013246:30018318\nws_code:payer_code W00009997:30014584\nws_code:payer_code W00015144:30020048\nws_code:payer_code W00001681:30002793\nws_code:payer_code W00012518:30017440\nws_code:payer_code W00014356:30019264\nws_code:payer_code W00012291:30017078\nws_code:payer_code W00012061:30016321\nws_code:payer_code W00015604:30020429\nws_code:payer_code W00014282:30019199\nws_code:payer_code W00006915:30011184\nws_code:payer_code W00012405:30017309\nws_code:payer_code W00013964:30018908\nws_code:payer_code W00006922:30017642\nws_code:payer_code W00013677:30018676\nws_code:payer_code W00012246:30017018\nws_code:payer_code W00014190:30019113\nws_code:payer_code W00004326:30010122\nws_code:payer_code W00013984:30018927\nws_code:payer_code W00004420:30003438\nws_code:payer_code W00007643:30011968\nws_code:payer_code W00014489:30019420\nws_code:payer_code W00014025:30018729\nws_code:payer_code W00006910:30010619\nws_code:payer_code W00015743:30020567\nws_code:payer_code W00004720:30005230\nws_code:payer_code W00003083:30002202\nws_code:payer_code W00014703:30019613\nws_code:payer_code W00012330:30017137\nws_code:payer_code W00013187:30018263\nws_code:payer_code W00014213:30018966\nws_code:payer_code W00015011:30019896\nws_code:payer_code W00014193:30019119\nws_code:payer_code W00014201:30019123\nws_code:payer_code W00013879:30018843\nws_code:payer_code W00000114:30009318\nws_code:payer_code W00014047:30018994\nws_code:payer_code W00014590:30019423\nws_code:payer_code W00015753:30020578\nws_code:payer_code W00007981:30011163\nws_code:payer_code W00015498:30020352\nws_code:payer_code W00007267:30009595\nws_code:payer_code W00014272:30019195\nws_code:payer_code W00012985:30017968\nws_code:payer_code W00004565:30003342\nws_code:payer_code W00010090:30010821\nws_code:payer_code W00012169:30016396\nws_code:payer_code W00006873:30011205\nws_code:payer_code W00001467:30004682\nws_code:payer_code W00010063:30018704\nws_code:payer_code W00009735:30002467\nws_code:payer_code W00004228:30007635\nws_code:payer_code W00012095:30016354\nws_code:payer_code W00004059:30003182\nws_code:payer_code W00014613:30019521\nws_code:payer_code W00016022:30020844\nws_code:payer_code W00001876:30009479\nws_code:payer_code W00002439:30008973\nws_code:payer_code W00003857:30003037\nws_code:payer_code W00015158:30020055\nws_code:payer_code W00011433:30015889\nws_code:payer_code W00010034:30014618\nws_code:payer_code W00015558:30020401\nws_code:payer_code W00014895:30019796\nws_code:payer_code W00007112:30012144\nws_code:payer_code W00002512:30005379\nws_code:payer_code W00014934:30019837\nws_code:payer_code W00007360:30012333\nws_code:payer_code W00013686:30018687\nws_code:payer_code W00013651:30018642\nws_code:payer_code W00013641:30018643\nws_code:payer_code W00013410:30018489\nws_code:payer_code W00015831:30020644\nws_code:payer_code W00012728:30017675\nws_code:payer_code W00014701:30019611\nws_code:payer_code W00013764:30018769\nws_code:payer_code W00011932:30016284\nws_code:payer_code W00003294:30008992\nws_code:payer_code W00007812:30010731\nws_code:payer_code W00014022:30018977\nws_code:payer_code W00015734:30020557\nws_code:payer_code W00015556:30020398\nws_code:payer_code W00014118:30019051\nws_code:payer_code W00013012:30017992\nws_code:payer_code W00011855:30016213\nws_code:payer_code W00010409:30012986\nws_code:payer_code W00015312:30020183\nws_code:payer_code W00007623:30010685\nws_code:payer_code W00011202:30015708\nws_code:payer_code W00014404:30019296\nws_code:payer_code W00010360:30014805\nws_code:payer_code W00007331:30012266\nws_code:payer_code W00002148:30003091\nws_code:payer_code W00005814:30006870\nws_code:payer_code W00015127:30020029\nws_code:payer_code W00013780:30018779\nws_code:payer_code W00004512:30008656\nws_code:payer_code W00001355:30008527\nws_code:payer_code W00006909:30010708\nws_code:payer_code W00012759:30017698\nws_code:payer_code W00014321:30019212\nws_code:payer_code W00014801:30019694\nws_code:payer_code W00012790:30017746\nws_code:payer_code W00014182:30019106\nws_code:payer_code W00012815:30017904\nws_code:payer_code W00014993:30019888\nws_code:payer_code W00014907:30019812\nws_code:payer_code W00013604:30018612\nws_code:payer_code W00013945:30018890\nws_code:payer_code W00014053:30019006\nws_code:payer_code W00006901:30011201\nws_code:payer_code W00006870:30011142\nws_code:payer_code W00006911:30010667\nws_code:payer_code W00004508:30009101\nws_code:payer_code W00011464:30015919\nws_code:payer_code W00002658:30008466\nws_code:payer_code W00015063:30019963\nws_code:payer_code W00006917:30010829\nws_code:payer_code W00008121:30012653\nws_code:payer_code W00015103:30020001\nws_code:payer_code W00000713:30009261\nws_code:payer_code W00007878:30012008\nws_code:payer_code W00014206:30019128\nws_code:payer_code W00013619:30018639\nws_code:payer_code W00000392:30008456\nws_code:payer_code W00010429:30014823\nws_code:payer_code W00002355:30007171\nws_code:payer_code W00011982:30016306\nws_code:payer_code W00014125:30019060\nws_code:payer_code W00013359:30018432\nws_code:payer_code W00012411:30017308\nws_code:payer_code W00002151:30003093\nws_code:payer_code W00004550:30008797\nws_code:payer_code W00004491:30012510\nws_code:payer_code W00012572:30017546\nws_code:payer_code W00013614:30018632\nws_code:payer_code W00011923:30016272\nws_code:payer_code W00012037:30016348\nws_code:payer_code W00014181:30019107\nws_code:payer_code W00004269:30012466\nws_code:payer_code W00008128:30012616\nws_code:payer_code W00013510:30018563\nws_code:payer_code W00011469:30015898\nws_code:payer_code W00003814:30002955\nws_code:payer_code W00015071:30019970\nws_code:payer_code W00014908:30019799\nws_code:payer_code W00014328:30019243\nws_code:payer_code W00003280:30008801\nws_code:payer_code W00004690:30007757\nws_code:payer_code W00015702:30020526\nws_code:payer_code nan:30010864\nws_code:payer_code W00011485:30015955\nws_code:payer_code W00010431:30014827\nws_code:payer_code W00003776:30002957\nws_code:payer_code W00014342:30019256\nws_code:payer_code W00005161:30005716\nws_code:payer_code W00012235:30003451\nws_code:payer_code W00009869:30009614\nws_code:payer_code W00013345:30018417\nws_code:payer_code W00010116:30014689\nws_code:payer_code W00014882:30019779\nws_code:payer_code W00011979:30016327\nws_code:payer_code W00010088:30014686\nws_code:payer_code W00006776:30012033\nws_code:payer_code W00011270:30015769\nws_code:payer_code W00002131:30007426\nws_code:payer_code W00004110:30009873\nws_code:payer_code W00010704:30014938\nws_code:payer_code W00004376:30002829\nws_code:payer_code W00007959:30011202\nws_code:payer_code W00013250:30018312\nws_code:payer_code W00014826:30019724\nws_code:payer_code W00014320:30019222\nws_code:payer_code W00002994:30003122\nws_code:payer_code W00015467:30020322\nws_code:payer_code W00015802:30020586\nws_code:payer_code W00005384:30009782\nws_code:payer_code W00013418:30018495\nws_code:payer_code W00006928:30010722\nws_code:payer_code W00000120:30001647\nws_code:payer_code W00012719:30017650\nws_code:payer_code W00011059:30015545\nws_code:payer_code W00014397:30018644\nws_code:payer_code W00014863:30019763\nws_code:payer_code W00011482:30015942\nws_code:payer_code W00015214:30018220\nws_code:payer_code W00014271:30019191\nws_code:payer_code W00007962:30010496\nws_code:payer_code W00005933:30011314\nws_code:payer_code W00005321:30008459\nws_code:payer_code W00011191:30015700\nws_code:payer_code W00003799:30002713\nws_code:payer_code W00011593:30016032\nws_code:payer_code W00000718:30007363\nws_code:payer_code W00014721:30019600\nws_code:payer_code W00002490:30009880\nws_code:payer_code W00006563:30011928\nws_code:payer_code W00006916:30010674\nws_code:payer_code W00014162:30019090\nws_code:payer_code W00012749:30017699\nws_code:payer_code W00015185:30020076\nws_code:payer_code W00014650:30019808\nws_code:payer_code W00012263:30016992\nws_code:payer_code W00007767:30011185\nws_code:payer_code W00013893:30018855\nws_code:payer_code W00011981:30016329\nws_code:payer_code W00009777:30012893\nws_code:payer_code W00014879:30019767\nws_code:payer_code W00004612:30003637\nws_code:payer_code W00014268:30019185\nws_code:payer_code W00004718:30003292\nws_code:payer_code W00013728:30018725\nws_code:payer_code W00006872:30011149\nws_code:payer_code W00013181:30018257\nws_code:payer_code W00014587:30019505\nws_code:payer_code W00006881:30011048\nws_code:payer_code W00014202:30019125\nws_code:payer_code W00014357:30019272\nws_code:payer_code W00014870:30019773\nws_code:payer_code W00006929:30010998\nws_code:payer_code W00007776:30011213\nws_code:payer_code W00006899:30012747\nws_code:payer_code W00015290:30020153\nws_code:payer_code W00013487:30018542\nws_code:payer_code W00013958:30018902\nws_code:payer_code W00007395:30012506\nws_code:payer_code W00014464:30019337\nws_code:payer_code W00001809:30007286\nws_code:payer_code W00012549:30017514\nws_code:payer_code W00012693:30017616\nws_code:payer_code W00014252:30019170\nws_code:payer_code W00015186:30020072\nws_code:payer_code W00012223:30016438\nws_code:payer_code W00006579:30012487\nws_code:payer_code W00004006:30008955\nws_code:payer_code W00012795:30017749\nws_code:payer_code W00012529:30017474\nws_code:payer_code W00009461:30004960\nws_code:payer_code W00012651:30017058\nws_code:payer_code W00014192:30019118\nws_code:payer_code W00008017:30011408\nws_code:payer_code W00013973:30018918\nws_code:payer_code W00000509:30009297\nws_code:payer_code W00007575:30009640\nws_code:payer_code W00012950:30017932\nws_code:payer_code W00005934:30011312\nws_code:payer_code W00013164:30018234\nws_code:payer_code W00015847:30020671\nws_code:payer_code W00011436:30015884\nws_code:payer_code W00004248:30009700\nws_code:payer_code W00001739:30003552\nws_code:payer_code W00002995:30001828\nws_code:payer_code W00014564:30019492\nws_code:payer_code W00015594:30020419\nws_code:payer_code W00015876:30020687\nws_code:payer_code W00015351:30020218\nws_code:payer_code W00003122:30001666\nws_code:payer_code W00005151:30014824\nws_code:payer_code W00003129:30001669\nws_code:payer_code W00012613:30017557\nws_code:payer_code W00012383:30017246\nws_code:payer_code W00006509:30012119\nws_code:payer_code W00011373:30015793\nws_code:payer_code W00004399:30002832\nws_code:payer_code W00012969:30017942\nws_code:payer_code W00014360:30019267\nws_code:payer_code W00015142:30020045\nws_code:payer_code W00014290:30019210\nws_code:payer_code W00004225:30003107\nws_code:payer_code W00011752:30016126\nws_code:payer_code W00012209:30016434\nws_code:payer_code W00008190:30012674\nws_code:payer_code W00005842:30011565\nws_code:payer_code W00011749:30016117\nws_code:payer_code W00011771:30015963\nws_code:payer_code W00007482:30012225\nws_code:payer_code W00011953:30016297\nws_code:payer_code W00014840:30019729\nws_code:payer_code W00014390:30019306\nws_code:payer_code W00013020:30018001\nws_code:payer_code W00012262:30017020\nws_code:payer_code W00014467:30019331\nws_code:payer_code W00014283:30019202\nws_code:payer_code W00004513:30008842\nws_code:payer_code W00014111:30019052\nws_code:payer_code W00007820:30011176\nws_code:payer_code W00013625:30018640\nws_code:payer_code W00015286:30020164\nws_code:payer_code W00013723:30018723\nws_code:payer_code W00005612:30007792\nws_code:payer_code W00004938:30009411\nws_code:payer_code W00011629:30016084\nws_code:payer_code W00004873:30003296\nws_code:payer_code W00010863:30013502\nws_code:payer_code W00004429:30003474\nws_code:payer_code W00013127:30018217\nws_code:payer_code W00015007:30019907\nws_code:payer_code W00007541:30017229\nws_code:payer_code W00014685:30019599\nws_code:payer_code W00011241:30015711\nws_code:payer_code W00015309:30020158\nws_code:payer_code W00011942:30016296\nws_code:payer_code W00013179:30018256\nws_code:payer_code W00012641:30016927\nws_code:payer_code W00007762:30011228\nws_code:payer_code W00015515:30020366\nws_code:payer_code W00006876:30011155\nws_code:payer_code W00011595:30016046\nws_code:payer_code W00015075:30019980\nws_code:payer_code W00014672:30019593\nws_code:payer_code W00000923:30008443\nws_code:payer_code W00011950:30016304\nws_code:payer_code W00012933:30017912\nws_code:payer_code W00013435:30018476\nws_code:payer_code W00013925:30018870\nws_code:payer_code W00004212:30009877\nws_code:payer_code W00012935:30017924\nws_code:payer_code W00014154:30019079\nws_code:payer_code W00001360:30008602\nws_code:payer_code W00004283:30012486\nws_code:payer_code W00012890:30017839\nws_code:payer_code W00005149:30002911\nws_code:payer_code W00013776:30018708\nws_code:payer_code W00002821:30003246\nws_code:payer_code W00001654:30006370\nws_code:payer_code W00010413:30012923\nws_code:payer_code W00005532:30010146\nws_code:payer_code W00012419:30017227\nws_code:payer_code W00000954:30002842\nws_code:payer_code W00013902:30018863\nws_code:payer_code W00010787:30013381\nws_code:payer_code W00003922:30009336\nws_code:payer_code W00013069:30018027\nws_code:payer_code W00009470:30012822\nws_code:payer_code W00014832:30019728\nws_code:payer_code W00013876:30018841\nws_code:payer_code W00004008:30010033\nws_code:payer_code W00014332:30019241\nws_code:payer_code W00013525:30018570\nws_code:payer_code W00005615:30011450\nws_code:payer_code W00011541:30015984\nws_code:payer_code W00013301:30018377\nws_code:payer_code W00014084:30019040\nws_code:payer_code W00014628:30013368\nws_code:payer_code W00012459:30017409\nws_code:payer_code W00012099:30016371\nws_code:payer_code W00010650:30015691\nws_code:payer_code W00014626:30019531\nws_code:payer_code W00014061:30018997\nws_code:payer_code W00014375:30019290\nws_code:payer_code W00004647:30010222\nws_code:payer_code W00014200:30019124\nws_code:payer_code W00014720:30019627\nws_code:payer_code W00007062:30012447\nws_code:payer_code W00012665:30017588\nws_code:payer_code W00015837:30020660\nws_code:payer_code W00002538:30005525\nws_code:payer_code W00006883:30011225\nws_code:payer_code W00014116:30019048\nws_code:payer_code W00006482:30008854\nws_code:payer_code W00012318:30017121\nws_code:payer_code W00010520:30014884\nws_code:payer_code W00012180:30016426\nws_code:payer_code W00012176:30016422\nws_code:payer_code W00012250:30017021\nws_code:payer_code W00015222:30020110\nws_code:payer_code W00014547:30019459\nws_code:payer_code W00002159:30002215\nws_code:payer_code W00014435:30019361\nws_code:payer_code W00008125:30012645\nws_code:payer_code W00012096:30016365\nws_code:payer_code W00000710:30009248\nws_code:payer_code W00015370:30020228\nws_code:payer_code W00001605:30000514\nws_code:payer_code W00012374:30017230\nws_code:payer_code nan:30010890\nws_code:payer_code W00000153:30008446\nws_code:payer_code W00013877:30018840\nws_code:payer_code W00006066:30003602\nws_code:payer_code W00002154:30003092\nws_code:payer_code W00004304:30012498\nws_code:payer_code W00003712:30002971\nws_code:payer_code W00013123:30018195\nws_code:payer_code W00014865:30019768\nws_code:payer_code W00011021:30015521\nws_code:payer_code W00014889:30019786\nws_code:payer_code W00013646:30018660\nws_code:payer_code W00000542:30009628\nws_code:payer_code W00006772:30012022\nws_code:payer_code W00015596:30020420\nws_code:payer_code W00015704:30020527\nws_code:payer_code W00002886:30008774\nws_code:payer_code W00013782:30018785\nws_code:payer_code W00012332:30017152\nws_code:payer_code W00012916:30017881\nws_code:payer_code W00003880:30009065\nws_code:payer_code W00004444:30003437\nws_code:payer_code W00000621:30009756\nws_code:payer_code W00013692:30018690\nws_code:payer_code W00012971:30017949\nws_code:payer_code W00014209:30019132\nws_code:payer_code W00012038:30016351\nws_code:payer_code W00015830:30020658\nws_code:payer_code W00013255:30018325\nws_code:payer_code W00015299:30020173\nws_code:payer_code W00015111:30019994\nws_code:payer_code W00015205:30020101\nws_code:payer_code W00012947:30017923\nws_code:payer_code W00013080:30018043\nws_code:payer_code W00004757:30007890\nws_code:payer_code W00015694:30020513\nws_code:payer_code W00004200:30003225\nws_code:payer_code W00005370:30002502\nws_code:payer_code W00004516:30008837\nws_code:payer_code W00012062:30016358\nws_code:payer_code W00012197:30016424\nws_code:payer_code W00004789:30010294\nws_code:payer_code W00015507:30020357\nws_code:payer_code W00002854:30003208\nws_code:payer_code W00003067:30001709\nws_code:payer_code W00006606:30011689\nws_code:payer_code W00011459:30015880\nws_code:payer_code W00007043:30012511\nws_code:payer_code W00001766:30007320\nws_code:payer_code W00006448:30011715\nws_code:payer_code W00012689:30017608\nws_code:payer_code W00014508:30019411\nws_code:payer_code W00007593:30012030\nws_code:payer_code W00004484:30012413\nws_code:payer_code W00007685:30011973\nws_code:payer_code W00011806:30016162\nws_code:payer_code W00001000:30009267\nws_code:payer_code W00001965:30003238\nws_code:payer_code W00006927:30010630\nws_code:payer_code W00004713:30003338\nws_code:payer_code W00008012:30011609\nws_code:payer_code W00013871:30018835\nws_code:payer_code W00007786:30010771\nws_code:payer_code W00007867:30011671\nws_code:payer_code W00004871:30003295\nws_code:payer_code W00004443:30005231\nws_code:payer_code W00004609:30003332\nws_code:payer_code W00015223:30020103\nws_code:payer_code W00013613:30018633\nws_code:payer_code W00004527:30008520\nws_code:payer_code W00015399:30020261\nws_code:payer_code W00002142:30002223\nws_code:payer_code W00012668:30017594\nws_code:payer_code W00014816:30019697\nws_code:payer_code W00013932:30018883\nws_code:payer_code W00004526:30008486\nws_code:payer_code W00006919:30011218\nws_code:payer_code W00006920:30010770\nws_code:payer_code W00000962:30002860\nws_code:payer_code W00001084:30009876\nws_code:payer_code W00012567:30017533\nws_code:payer_code W00005148:30002914\nws_code:payer_code W00000691:30009703\nws_code:payer_code W00000907:30007761\nws_code:payer_code W00012783:30017737\nws_code:payer_code W00015041:30019944\nws_code:payer_code W00014535:30019463\nws_code:payer_code W00013365:30018439\nws_code:payer_code W00004203:30003240\nws_code:payer_code W00007257:30012241\nws_code:payer_code W00006442:30011695\nws_code:payer_code W00007813:30010542\nws_code:payer_code W00015192:30020086\nws_code:payer_code W00007668:30011168\nws_code:payer_code W00011376:30015839\nws_code:payer_code W00006792:30011969\nws_code:payer_code W00014173:30019097\nws_code:payer_code W00002174:30004709\nws_code:payer_code W00014665:30019587\nws_code:payer_code W00013079:30018041\nws_code:payer_code W00009802:30012912\nws_code:payer_code W00002629:30009112\nws_code:payer_code W00005669:30011474\nws_code:payer_code W00015175:30020069\nws_code:payer_code W00013334:30018410\nws_code:payer_code W00013891:30018852\nws_code:payer_code W00005045:30010101\nws_code:payer_code W00011041:30015499\nws_code:payer_code W00013118:30018201\nws_code:payer_code W00014562:30019487\nws_code:payer_code W00007533:30012551\nws_code:payer_code W00014522:30019461\nws_code:payer_code W00007576:30009730\nws_code:payer_code W00013264:30018336\nws_code:payer_code W00007976:30011138\nws_code:payer_code W00011554:30016008\nws_code:payer_code W00013091:30018178\nws_code:payer_code W00015325:30020193\nws_code:payer_code W00000632:30009762\nws_code:payer_code W00013797:30018794\nws_code:payer_code W00012059:30016314\nws_code:payer_code W00014825:30019725\nws_code:payer_code W00007538:30012315\nws_code:payer_code W00015989:30020809\nws_code:payer_code W00012108:30016384\nws_code:payer_code W00015082:30019967\nws_code:payer_code W00006746:30009988\nws_code:payer_code W00014280:30019198\nws_code:payer_code W00004716:30003316\nws_code:payer_code W00015909:30020739\nws_code:payer_code W00007910:30011419\nws_code:payer_code W00000455:30007994\nws_code:payer_code W00011949:30016298\nws_code:payer_code W00004294:30012500\nws_code:payer_code W00011484:30015950\nws_code:payer_code W00001361:30008518\nws_code:payer_code W00015818:30020649\nws_code:payer_code W00015289:30020171\nws_code:payer_code W00013163:30018230\nws_code:payer_code W00014530:30019471\nws_code:payer_code W00014658:30019581\nws_code:payer_code W00012239:30017007\nws_code:payer_code W00014634:30019548\nws_code:payer_code W00012244:30016433\nws_code:payer_code W00006596:30011905\nws_code:\n\n*** WARNING: max output size exceeded, skipping output. ***\n\n0020289\nws_code:payer_code W00003908:30008033\nws_code:payer_code W00015438:30020292\nws_code:payer_code W00006742:30008710\nws_code:payer_code W00016128:30020960\nws_code:payer_code W00014448:30019391\nws_code:payer_code W00004492:30012455\nws_code:payer_code W00013197:30018274\nws_code:payer_code W00012750:30017700\nws_code:payer_code W00014023:30018970\nws_code:payer_code W00009945:30014273\nws_code:payer_code W00008192:30012692\nws_code:payer_code W00009367:30012204\nws_code:payer_code W00007071:30012435\nws_code:payer_code W00005523:30008098\nws_code:payer_code W00011569:30016007\nws_code:payer_code W00012948:30017928\nws_code:payer_code W00012850:30015070\nws_code:payer_code W00010842:30013519\nws_code:payer_code W00011146:30015603\nws_code:payer_code W00011998:30015218\nws_code:payer_code W00000354:30004479\nws_code:payer_code W00016064:30020890\nws_code:payer_code W00011862:30016224\nws_code:payer_code W00002790:30007495\nws_code:payer_code W00015215:30018267\nws_code:payer_code W00015093:30019992\nws_code:payer_code W00014020:30018968\nws_code:payer_code W00013987:30018928\nws_code:payer_code W00015034:30019938\nws_code:payer_code W00009432:30012795\nws_code:payer_code W00014814:30019708\nws_code:payer_code W00004603:30009394\nws_code:payer_code W00005183:30009718\nws_code:payer_code W00003285:30008885\nws_code:payer_code W00016211:30021038\nws_code:payer_code W00009474:30004830\nws_code:payer_code W00007560:30010435\nws_code:payer_code W00016095:30020926\nws_code:payer_code W00001671:30006212\nws_code:payer_code W00000697:30009566\nws_code:payer_code W00015541:30020388\nws_code:payer_code W00012958:30017945\nws_code:payer_code W00013919:30018871\nws_code:payer_code W00014288:30019196\nws_code:payer_code W00012551:30017518\nws_code:payer_code W00014392:30019315\nws_code:payer_code W00014872:30019777\nws_code:payer_code W00015638:30020462\nws_code:payer_code W00015825:30020652\nws_code:payer_code W00009736:30012877\nws_code:payer_code W00014000:30018951\nws_code:payer_code W00015483:30020332\nws_code:payer_code W00004528:30008519\nws_code:payer_code W00002277:30005263\nws_code:payer_code W00012261:30017041\nws_code:payer_code W00006092:30009796\nws_code:payer_code W00014620:30019546\nws_code:payer_code W00011265:30017685\nws_code:payer_code W00008219:30014742\nws_code:payer_code W00005020:30009712\nws_code:payer_code W00008013:30011810\nws_code:payer_code W00003156:30001885\nws_code:payer_code W00012533:30017478\nws_code:payer_code W00011878:30016221\nws_code:payer_code W00007161:30012154\nws_code:payer_code W00013593:30018604\nws_code:payer_code W00012652:30017584\nws_code:payer_code W00014012:30018958\nws_code:payer_code W00015492:30020347\nws_code:payer_code W00012485:30017428\nws_code:payer_code W00007312:30007029\nws_code:payer_code W00013584:30016732\nws_code:payer_code W00005303:30010114\nws_code:payer_code W00015489:30020331\nws_code:payer_code W00015857:30020682\nws_code:payer_code W00015183:30020077\nws_code:payer_code W00016071:30020897\nws_code:payer_code W00015812:30020636\nws_code:payer_code W00014830:30019726\nws_code:payer_code W00010652:30015690\nws_code:payer_code W00014285:30019209\nws_code:payer_code W00011007:30015518\nws_code:payer_code W00013804:30018802\nws_code:payer_code W00004756:30008073\nws_code:payer_code W00003694:30009972\nws_code:payer_code W00004464:30006208\nws_code:payer_code W00016160:30020989\nws_code:payer_code W00015025:30019921\nws_code:payer_code W00004705:30009078\nws_code:payer_code W00000302:30000010\nws_code:payer_code W00006516:30011719\nws_code:payer_code W00013781:30018782\nws_code:payer_code W00014979:30019887\nws_code:payer_code W00013269:30018345\nws_code:payer_code W00006744:30008700\nws_code:payer_code W00005843:30011525\nws_code:payer_code W00016059:30020882\nws_code:payer_code W00015303:30020155\nws_code:payer_code W00015509:30020360\nws_code:payer_code W00012959:30017896\nws_code:payer_code W00010699:30013545\nws_code:payer_code W00016204:30021029\nws_code:payer_code W00007586:30009265\nws_code:payer_code W00004616:30006343\nws_code:payer_code W00015895:30020722\nws_code:payer_code W00011355:30015646\nws_code:payer_code W00010112:30014678\nws_code:payer_code W00015773:30020594\nws_code:payer_code W00005448:30008640\nws_code:payer_code W00016070:30020879\nws_code:payer_code W00005224:30004930\nws_code:payer_code W00016060:30020839\nws_code:payer_code W00003146:30002059\nws_code:payer_code W00014042:30018983\nws_code:payer_code W00002066:30007406\nws_code:payer_code W00005899:30007449\nws_code:payer_code W00015435:30020290\nws_code:payer_code W00000591:30009891\nws_code:payer_code W00002550:30007658\nws_code:payer_code W00014845:30019750\nws_code:payer_code W00015321:30020177\nws_code:payer_code W00014468:30019326\nws_code:payer_code W00015856:30020675\nws_code:payer_code W00011016:30015526\nws_code:payer_code W00012645:30016930\nws_code:payer_code W00004533:30008560\nws_code:payer_code W00007412:30006173\nws_code:payer_code W00011963:30016316\nws_code:payer_code W00012103:30015221\nws_code:payer_code W00013101:30018196\nws_code:payer_code W00011545:30015999\nws_code:payer_code W00008272:30012749\nws_code:payer_code W00004827:30007830\nws_code:payer_code W00011237:30015732\nws_code:payer_code W00016225:30021053\nws_code:payer_code W00003650:30009133\nws_code:payer_code W00012743:30017689\nws_code:payer_code W00011367:30015762\nws_code:payer_code W00004930:30009491\nws_code:payer_code W00004933:30009490\nws_code:payer_code W00003647:30000559\nws_code:payer_code W00012476:30017438\nws_code:payer_code W00011587:30016045\nws_code:payer_code W00003117:30001784\nws_code:payer_code W00013191:30018219\nws_code:payer_code W00015625:30020443\nws_code:payer_code nan:30019949\nws_code:payer_code W00004985:30009136\nws_code:payer_code W00015382:30020247\nws_code:payer_code W00007087:30012437\nws_code:payer_code W00015794:30020618\nws_code:payer_code W00015755:30020584\nws_code:payer_code W00013683:30018685\nws_code:payer_code W00015373:30020243\nws_code:payer_code W00016073:30020900\nws_code:payer_code W00015900:30020728\nws_code:payer_code W00003081:30001794\nws_code:payer_code W00010603:30013387\nws_code:payer_code W00013890:30018848\nws_code:payer_code W00007457:30012693\nws_code:payer_code W00006985:30012114\nws_code:payer_code W00000405:30008433\nws_code:payer_code W00010643:30014902\nws_code:payer_code W00014038:30018985\nws_code:payer_code W00015337:30020202\nws_code:payer_code W00010111:30014677\nws_code:payer_code W00007034:30012389\nws_code:payer_code W00010641:30013110\nws_code:payer_code W00014666:30019271\nws_code:payer_code W00010903:30017138\nws_code:payer_code W00015962:30020760\nws_code:payer_code W00015137:30020041\nws_code:payer_code W00007139:30009590\nws_code:payer_code W00014938:30019833\nws_code:payer_code W00014327:30019231\nws_code:payer_code W00012039:30016350\nws_code:payer_code W00015592:30020407\nws_code:payer_code W00003345:30008923\nws_code:payer_code W00014913:30019817\nws_code:payer_code W00000460:30007789\nws_code:payer_code W00014224:30019147\nws_code:payer_code W00013100:30018189\nws_code:payer_code W00001768:30007319\nws_code:payer_code W00013479:30018532\nws_code:payer_code W00007405:30012262\nws_code:payer_code W00006102:30009862\nws_code:payer_code W00015871:30020695\nws_code:payer_code W00015833:30020651\nws_code:payer_code W00016180:30021001\nws_code:payer_code W00011349:30015640\nws_code:payer_code W00001096:30005654\nws_code:payer_code W00007941:30011398\nws_code:payer_code W00013376:30018445\nws_code:payer_code W00008111:30014733\nws_code:payer_code W00005196:30017719\nws_code:payer_code W00013446:30018517\nws_code:payer_code W00013730:30018747\nws_code:payer_code W00014848:30019752\nws_code:payer_code W00011713:30016073\nws_code:payer_code W00003151:30001883\nws_code:payer_code W00014381:30019291\nws_code:payer_code W00007107:30012139\nws_code:payer_code W00015827:30020637\nws_code:payer_code W00012873:30017807\nws_code:payer_code W00015519:30020367\nws_code:payer_code W00012616:30017564\nws_code:payer_code W00015763:30020558\nws_code:payer_code W00005998:30011602\nws_code:payer_code W00015554:30020399\nws_code:payer_code W00011338:30015669\nws_code:payer_code W00015745:30020568\nws_code:payer_code W00015733:30020543\nws_code:payer_code W00014355:30019266\nws_code:payer_code W00008132:30012659\nws_code:payer_code W00016091:30020917\nws_code:payer_code W00002874:30008623\nws_code:payer_code W00013028:30018010\nws_code:payer_code W00016104:30020934\nws_code:payer_code W00007709:30015599\nws_code:payer_code W00015772:30020599\nws_code:payer_code W00008085:30012319\nws_code:payer_code W00015083:30019988\nws_code:payer_code W00014977:30019881\nws_code:payer_code W00007512:30008028\nws_code:payer_code W00014885:30019765\nws_code:payer_code W00000445:30008615\nws_code:payer_code W00003097:30001730\nws_code:payer_code W00014582:30019522\nws_code:payer_code W00015815:30020631\nws_code:payer_code W00015358:30020206\nws_code:payer_code W00012112:30016381\nws_code:payer_code W00013001:30017953\nws_code:payer_code W00014778:30019674\nws_code:payer_code W00015919:30020750\nws_code:payer_code W00001470:30004934\nws_code:payer_code W00000172:30008106\nws_code:payer_code W00007169:30012194\nws_code:payer_code W00015529:30020375\nws_code:payer_code W00012295:30017005\nws_code:payer_code W00009471:30004826\nws_code:payer_code W00012932:30017898\nws_code:payer_code W00002858:30002017\nws_code:payer_code W00005943:30011403\nws_code:payer_code W00053744:30020829\nws_code:payer_code W00013344:30018405\nws_code:payer_code W00013311:30018370\nws_code:payer_code W00012460:30017412\nws_code:payer_code W00014168:30019087\nws_code:payer_code W00002485:30009363\nws_code:payer_code W00010588:30013435\nws_code:payer_code W00014230:30019139\nws_code:payer_code W00007444:30012515\nws_code:payer_code W00001844:30007396\nws_code:payer_code W00015414:30020273\nws_code:payer_code W00014010:30018963\nws_code:payer_code W00005589:30011371\nws_code:payer_code W00014904:30019809\nws_code:payer_code W00013549:30016755\nws_code:payer_code W00010716:30014937\nws_code:payer_code W00015394:30020310\nws_code:payer_code W00011222:30015713\nws_code:payer_code W00010152:30014724\nws_code:payer_code W00007525:30012416\nws_code:payer_code W00010627:30013129\nws_code:payer_code W00013713:30018710\nws_code:payer_code W00007080:30012459\nws_code:payer_code W00015798:30020630\nws_code:payer_code W00004169:30003209\nws_code:payer_code W00012771:30017690\nws_code:payer_code W00001256:30006069\nws_code:payer_code W00014180:30019102\nws_code:payer_code W00014471:30019400\nws_code:payer_code W00014744:30019648\nws_code:payer_code W00010631:30013125\nws_code:payer_code W00016155:30020985\nws_code:payer_code W00012796:30017748\nws_code:payer_code W00015405:30020266\nws_code:payer_code W00011533:30015781\nws_code:payer_code W00010041:30014634\nws_code:payer_code W00011204:30009655\nws_code:payer_code W00016000:30020820\nws_code:payer_code W00010632:30013124\nws_code:payer_code W00014573:30019491\nws_code:payer_code W00010325:30013351\nws_code:payer_code W00015100:30020000\nws_code:payer_code W00010958:30000282\nws_code:payer_code W00001881:30009451\nws_code:payer_code W00009429:30012684\nws_code:payer_code W00011149:30015617\nws_code:payer_code W00016011:30020823\nws_code:payer_code W00013847:30018821\nws_code:payer_code W00010345:30013310\nws_code:payer_code W00014538:30019472\nws_code:payer_code W00016111:30020944\nws_code:payer_code W00015537:30020386\nws_code:payer_code W00016140:30020969\nws_code:payer_code W00014429:30019319\nws_code:payer_code W00005981:30000771\nws_code:payer_code W00003039:30001771\nws_code:payer_code W00009473:30004829\nws_code:payer_code W00015395:30020172\nws_code:payer_code W00016110:30020943\nws_code:payer_code W00006999:30008608\nws_code:payer_code W00001985:30006751\nws_code:payer_code W00015832:30020642\nws_code:payer_code W00012313:30016451\nws_code:payer_code W00010974:30015033\nws_code:payer_code W00002551:30007662\nws_code:payer_code W00013999:30018950\nws_code:payer_code W00004496:30012452\nws_code:payer_code W00012386:30017139\nws_code:payer_code W00014255:30019175\nws_code:payer_code W00007085:30012442\nws_code:payer_code W00014291:30019203\nws_code:payer_code W00016052:30020875\nws_code:payer_code W00015849:30020673\nws_code:payer_code W00007035:30012410\nws_code:payer_code W00004678:30010117\nws_code:payer_code W00006572:30008688\nws_code:payer_code W00013948:30018891\nws_code:payer_code W00013923:30018876\nws_code:payer_code W00014541:30019466\nws_code:payer_code W00004989:30010280\nws_code:payer_code W00011992:30016341\nws_code:payer_code W00008072:30011469\nws_code:payer_code W00013709:30018700\nws_code:payer_code W00015503:30020353\nws_code:payer_code W00011921:30016252\nws_code:payer_code W00009716:30012867\nws_code:payer_code W00015329:30020138\nws_code:payer_code W00003054:30002189\nws_code:payer_code W00001760:30007276\nws_code:payer_code W00004109:30009871\nws_code:payer_code W00015894:30020725\nws_code:payer_code W00001665:30002690\nws_code:payer_code W00008055:30012595\nws_code:payer_code W00012371:30017157\nws_code:payer_code W00001763:30007321\nws_code:payer_code W00007152:30012023\nws_code:payer_code W00014055:30019005\nws_code:payer_code W00007679:30012554\nws_code:payer_code W00015359:30020220\nws_code:payer_code W00007320:30012270\nws_code:payer_code W00011212:30015718\nws_code:payer_code W00006574:30008612\nws_code:payer_code W00009459:30012527\nws_code:payer_code W00014784:30019679\nws_code:payer_code W00010977:30015039\nws_code:payer_code W00015187:30020080\nws_code:payer_code W00009724:30002397\nws_code:payer_code W00013922:30018873\nws_code:payer_code W00015719:30020546\nws_code:payer_code W00011623:30016082\nws_code:payer_code W00008073:30009167\nws_code:payer_code W00013724:30018724\nws_code:payer_code W00014659:30019563\nws_code:payer_code W00014169:30019082\nws_code:payer_code W00012951:30017939\nws_code:payer_code W00006996:30008481\nws_code:payer_code W00003164:30002034\nws_code:payer_code W00013858:30018813\nws_code:payer_code W00007155:30012081\nws_code:payer_code W00003505:30009195\nws_code:payer_code W00012897:30017758\nws_code:payer_code W00008020:30011613\nws_code:payer_code W00007532:30012550\nws_code:payer_code W00012303:30017052\nws_code:payer_code W00007126:30012096\nws_code:payer_code W00015882:30020704\nws_code:payer_code W00010796:30013355\nws_code:payer_code W00006998:30008607\nws_code:payer_code W00013870:30018834\nws_code:payer_code W00015582:30020409\nws_code:payer_code W00008089:30012367\nws_code:payer_code W00011233:30017822\nws_code:payer_code W00000264:30004425\nws_code:payer_code W00003925:30010014\nws_code:payer_code W00012333:30017043\nws_code:payer_code W00013483:30018538\nws_code:payer_code W00014428:30019320\nws_code:payer_code W00011206:30009658\nws_code:payer_code W00014776:30019671\nws_code:payer_code W00011938:30016261\nws_code:payer_code W00011269:30015748\nws_code:payer_code W00011350:30015641\nws_code:payer_code W00015936:30020702\nws_code:payer_code W00003651:30009150\nws_code:payer_code W00013533:30018588\nws_code:payer_code W00012287:30017074\nws_code:payer_code W00011249:30015750\nws_code:payer_code W00007075:30012444\nws_code:payer_code W00016215:30021043\nws_code:payer_code W00016113:30020941\nws_code:payer_code W00011594:30016006\nws_code:payer_code W00014808:30019707\nws_code:payer_code W00016233:30021058\nws_code:payer_code W00014786:30019680\nws_code:payer_code W00014523:30019440\nws_code:payer_code W00000154:30007915\nws_code:payer_code W00013874:30018839\nws_code:payer_code W00006082:30009884\nws_code:payer_code W00011374:30015136\nws_code:payer_code W00015557:30020400\nws_code:payer_code W00010835:30013038\nws_code:payer_code W00012481:30017427\nws_code:payer_code W00011019:30015509\nws_code:payer_code W00013815:30018810\nws_code:payer_code W00001761:30007318\nws_code:payer_code W00003705:30005531\nws_code:payer_code W00002072:30007411\nws_code:payer_code W00014507:30019419\nws_code:payer_code W00012140:30016379\nws_code:payer_code W00006698:30011945\nws_code:payer_code W00015555:30020391\nws_code:payer_code W00004922:30010318\nws_code:payer_code W00012491:30017450\nws_code:payer_code W00005465:30011249\nws_code:payer_code W00010162:30014732\nws_code:payer_code W00015874:30020699\nws_code:payer_code W00014276:30019189\nws_code:payer_code W00003155:30002008\nws_code:payer_code W00015783:30020607\nws_code:payer_code W00003142:30002694\nws_code:payer_code W00003864:30009996\nws_code:payer_code W00003066:30004670\nws_code:payer_code W00010402:30013577\nws_code:payer_code W00007934:30011405\nws_code:payer_code W00015774:30020593\nws_code:payer_code W00010084:30013427\nws_code:payer_code W00003890:30003829\nws_code:payer_code W00007037:30012430\nws_code:payer_code W00007574:30009623\nws_code:payer_code W00014655:30019577\nws_code:payer_code W00006853:30010019\nws_code:payer_code W00015022:30019916\nws_code:payer_code W00014737:30019621\nws_code:payer_code W00015317:30020174\nws_code:payer_code W00011624:30015973\nws_code:payer_code W00014783:30019675\nws_code:payer_code W00007033:30012390\nws_code:payer_code W00011207:30015705\nws_code:payer_code W00009918:30013597\nws_code:payer_code W00015924:30020751\nws_code:payer_code W00016058:30020880\nws_code:payer_code W00014557:30019489\nws_code:payer_code W00014376:30019281\nws_code:payer_code W00001159:30009290\nws_code:payer_code W00003231:30008945\nws_code:payer_code W00014178:30019098\nws_code:payer_code W00016181:30021003\nws_code:payer_code W00013470:30018384\nws_code:payer_code W00011991:30016308\nws_code:payer_code W00015811:30020638\nws_code:payer_code W00014424:30019350\nws_code:payer_code W00013272:30018341\nws_code:payer_code W00015080:30019934\nws_code:payer_code W00013293:30018365\nws_code:payer_code W00000936:30001648\nws_code:payer_code W00003645:30009157\nws_code:payer_code W00003921:30009337\nws_code:payer_code W00011799:30016157\nws_code:payer_code W00012811:30017759\nws_code:payer_code W00010646:30014911\nws_code:payer_code W00015284:30020145\nws_code:payer_code W00007578:30009726\nws_code:payer_code W00016147:30020975\nws_code:payer_code W00004052:30009243\nws_code:payer_code W00000167:30008637\nws_code:payer_code W00014420:30019322\nws_code:payer_code W00016145:30020965\nws_code:payer_code W00014417:30019346\nws_code:payer_code W00012904:30017844\nws_code:payer_code W00011368:30015785\nws_code:payer_code W00012801:30017755\nws_code:payer_code W00014064:30019023\nws_code:payer_code W00015037:30019935\nws_code:payer_code W00009984:30014585\nws_code:payer_code W00009476:30004832\nws_code:payer_code W00015336:30020132\nws_code:payer_code W00003633:30002948\nws_code:payer_code W00012156:30016398\nws_code:payer_code W00014391:30019317\nws_code:payer_code W00003648:30000650\nws_code:payer_code W00005456:30009528\nws_code:payer_code nan:30012870\nws_code:payer_code W00015319:30020188\nws_code:payer_code W00002787:30007725\nws_code:payer_code W00007069:30012406\nws_code:payer_code W00015385:30020244\nws_code:payer_code W00015918:30020747\nws_code:payer_code W00013343:30018402\nws_code:payer_code W00011471:30015736\nws_code:payer_code W00012412:30017324\nws_code:payer_code W00007215:30008574\nws_code:payer_code W00010160:30014726\nws_code:payer_code W00007354:30012288\nws_code:payer_code W00000696:30009649\nws_code:payer_code W00005054:30002891\nws_code:payer_code W00015324:30020198\nws_code:payer_code W00010337:30013290\nws_code:payer_code W00006050:30005190\nws_code:payer_code W00008063:30012599\nws_code:payer_code W00015194:30020083\nws_code:payer_code W00000672:30009333\nws_code:payer_code W00009859:30009568\nws_code:payer_code W00007714:30010995\nws_code:payer_code W00010072:30013329\nws_code:payer_code W00013531:30018574\nws_code:payer_code W00016224:30021050\nws_code:payer_code W00005907:30009482\nws_code:payer_code W00015862:30020678\nws_code:payer_code W00010620:30013232\nws_code:payer_code W00000226:30004304\nws_code:payer_code W00015377:30020238\nws_code:payer_code W00016152:30020981\nws_code:payer_code W00007282:30012276\nws_code:payer_code W00010430:30014828\nws_code:payer_code W00004836:30008052\nws_code:payer_code W00002460:30007603\nws_code:payer_code W00002168:30004968\nws_code:payer_code W00000948:30001965\nws_code:payer_code W00011466:30015871\nws_code:payer_code W00013706:30018702\nws_code:payer_code W00012872:30017790\nws_code:payer_code W00013049:30018026\nws_code:payer_code W00010700:30013537\nws_code:payer_code W00010915:30015023\nws_code:payer_code W00016120:30020942\nws_code:payer_code W00013811:30018800\nws_code:payer_code W00015967:30020792\nws_code:payer_code W00004108:30006782\nws_code:payer_code W00006733:30008792\nws_code:payer_code W00005355:30003638\nws_code:payer_code W00014980:30019890\nws_code:payer_code W00004695:30003173\nws_code:payer_code W00003656:30009940\nws_code:payer_code W00014943:30019839\nws_code:payer_code W00001493:30008412\nws_code:payer_code W00012711:30017637\nws_code:payer_code W00010921:30015030\nws_code:payer_code W00013931:30018880\nws_code:payer_code W00016092:30020899\nws_code:payer_code W00003246:30007190\nws_code:payer_code W00006830:30008784\nws_code:payer_code W00008084:30012370\nws_code:payer_code W00000943:30002028\nws_code:payer_code W00015334:30020104\nws_code:payer_code W00004901:30002720\nws_code:payer_code W00016216:30021041\nws_code:payer_code W00007163:30012159\nws_code:payer_code W00014693:30019601\nws_code:payer_code W00003165:30002061\nws_code:payer_code W00014750:30019838\nws_code:payer_code W00012889:30017838\nws_code:payer_code W00014409:30019341\nws_code:payer_code W00007588:30002665\nws_code:payer_code W00015462:30020318\nws_code:payer_code W00011061:30015869\nws_code:payer_code W00002794:30007728\nws_code:payer_code W00007335:30012278\nws_code:payer_code W00013899:30018807\nws_code:payer_code W00005867:30009350\nws_code:payer_code W00013021:30017997\nws_code:payer_code W00005541:30012411\nws_code:payer_code W00014661:30019468\nws_code:payer_code W00002501:30003213\nws_code:payer_code W00000225:30004306\nws_code:payer_code W00013546:30018593\nws_code:payer_code W00013082:30018029\nws_code:payer_code W00008212:30012716\nws_code:payer_code W00008269:30012680\nws_code:payer_code W00007013:30012113\nws_code:payer_code W00016213:30021032\nws_code:payer_code W00009917:30013599\nws_code:payer_code W00013702:30018695\nws_code:payer_code W00015855:30020662\nws_code:payer_code W00000290:30000643\nws_code:payer_code W00009788:30012903\nws_code:payer_code W00011193:30015696\nws_code:payer_code W00005053:30008758\nws_code:payer_code W00009309:30008351\nws_code:payer_code W00012944:30017888\nws_code:payer_code W00001566:30003053\nws_code:payer_code W00009986:30014596\nws_code:payer_code W00001217:30000667\nws_code:payer_code W00003072:30001888\nws_code:payer_code W00005790:30011560\nws_code:payer_code W00014460:30019397\nws_code:payer_code W00010297:30013494\nws_code:payer_code W00005119:30007087\nws_code:payer_code W00012954:30017921\nws_code:payer_code W00007821:30014738\nws_code:payer_code W00010636:30014907\nws_code:payer_code W00006548:30007384\nws_code:payer_code W00015472:30020327\nws_code:payer_code W00010703:30013536\nws_code:payer_code W00013078:30015852\nws_code:payer_code W00013198:30018265\nws_code:payer_code W00013592:30017747\nws_code:payer_code W00000294:30000588\nws_code:payer_code W00003091:30002030\nws_code:payer_code W00009730:30002448\nws_code:payer_code W00009874:30009652\nws_code:payer_code W00007079:30012460\nws_code:payer_code W00013099:30018186\nws_code:payer_code W00002671:30007669\nws_code:payer_code W00007036:30012431\nws_code:payer_code W00007453:30012385\nws_code:payer_code W00015758:30020582\nws_code:payer_code W00003044:30001980\nws_code:payer_code W00008038:30012574\nws_code:payer_code W00015174:30020068\nws_code:payer_code W00007876:30011811\nws_code:payer_code W00015899:30020717\nws_code:payer_code W00002305:30015579\nws_code:payer_code W00015117:30020024\nws_code:payer_code W00002920:30004401\nws_code:payer_code W00015051:30019954\nws_code:payer_code W00013955:30018899\nws_code:payer_code W00002556:30007657\nws_code:payer_code W00009374:30000641\nws_code:payer_code W00013640:30018641\nws_code:payer_code W00015954:30020779\nws_code:payer_code W00015365:30020208\nws_code:payer_code W00000057:30003613\nws_code:payer_code W00014606:30019513\nws_code:payer_code W00003136:30001778\nws_code:payer_code W00002122:30007375\nws_code:payer_code W00011918:30016265\nws_code:payer_code W00007031:30012393\nws_code:payer_code W00015000:30019903\nws_code:payer_code W00002160:30002217\nws_code:payer_code W00012687:30017602\nws_code:payer_code W00012725:30017665\nws_code:payer_code W00006773:30012032\nws_code:payer_code W00004041:30009137\nws_code:payer_code W00004987:30009056\nws_code:payer_code W00003228:30008941\nws_code:payer_code W00009873:30009651\nws_code:payer_code W00014248:30019172\nws_code:payer_code W00015065:30019956\nws_code:payer_code W00016139:30020970\nws_code:payer_code W00002848:30003241\nws_code:payer_code W00010505:30014873\nws_code:payer_code W00010236:30004225\nws_code:payer_code W00014310:30019226\nws_code:payer_code W00001675:30001890\nws_code:payer_code W00000158:30008632\nws_code:payer_code W00014039:30018988\nws_code:payer_code W00004490:30012436\nws_code:payer_code W00009719:30002344\nws_code:payer_code W00001404:30009591\nws_code:payer_code W00007055:30012476\nws_code:payer_code W00014359:30019274\nws_code:payer_code W00007025:30012401\nws_code:payer_code W00013912:30018859\nws_code:payer_code W00013991:30018936\nws_code:payer_code W00009664:30008220\n"
     ]
    }
   ],
   "source": [
    "# used_ws_dict = {30018687:'W00013686', 30012653: 'W00008121'}\n",
    "used_ws_dict = dict(used_ws_code_mapping_df['ws_code'])\n",
    "inv_unit = 'hl_src'         # stw_qty 或其他值，都是指默认值，箱数/////hl_src是原始数据带的百升数/////hl是根据sku洗出来的百升数\n",
    "# generate_fifo_inventory_balance(used_ws_dict, begin_inv, stw, ws_str, col='stw_qty',inv_expire_month=inv_expire_month, simu_months=month_cnt)\n",
    "inv_expire_month = 9    # 库存9个月后失效，之前是6个月\n",
    "brand_expire_month_dict = {'BUD': inv_expire_month, 'HBI': inv_expire_month, 'HBO': inv_expire_month, 'HKOW':inv_expire_month, 'ISP': inv_expire_month}\n",
    "# 默认月份一样\n",
    "# result_df_dict = generate_fifo_inventory_balance(used_ws_dict, begin_inv, stw, ws_str, col='hl_src',inv_expire_month=inv_expire_month, simu_months=month_cnt)\n",
    "# 每个brand的保质期都不一样\n",
    "ws_brand_df_list, result_df_dict = generate_fifo_inventory_balance(used_ws_dict, begin_inv, stw, ws_str, col='hl_src',inv_expire_month=brand_expire_month_dict, simu_months=month_cnt)"
   ]
  },
  {
   "cell_type": "code",
   "execution_count": 0,
   "metadata": {
    "application/vnd.databricks.v1+cell": {
     "cellMetadata": {
      "byteLimit": 2048000,
      "rowLimit": 10000
     },
     "inputWidgets": {},
     "nuid": "b99838c8-3db2-4947-aff4-211d911acacd",
     "showTitle": false,
     "tableResultSettingsMap": {},
     "title": ""
    }
   },
   "outputs": [],
   "source": [
    "ws_brand_df = pd.concat(ws_brand_df_list).reset_index()\n",
    "ws_brand_df_spark = spark.createDataFrame(ws_brand_df)\n",
    "ws_brand_df_spark.write.mode(\"overwrite\").option('overwriteSchema',True).parquet(f'/mnt/srf/fifo_inventory_details_month{inv_expire_month}')"
   ]
  },
  {
   "cell_type": "code",
   "execution_count": 0,
   "metadata": {
    "application/vnd.databricks.v1+cell": {
     "cellMetadata": {
      "byteLimit": 2048000,
      "rowLimit": 10000
     },
     "inputWidgets": {},
     "nuid": "a23cc802-b75b-4f8c-8470-dc1128f3e8c9",
     "showTitle": false,
     "tableResultSettingsMap": {},
     "title": ""
    }
   },
   "outputs": [],
   "source": [
    "ws_brand_df_spark = ws_brand_df_spark.withColumnRenamed('Openning Balance', 'Openning_Balance')\n",
    "ws_brand_df_spark.write.mode(\"overwrite\").format(\"delta\").option('overwriteSchema',True).saveAsTable(f\"finance_ds_inventory_dmt.fifo_inventory_details_{inv_expire_month}\")"
   ]
  },
  {
   "cell_type": "code",
   "execution_count": 0,
   "metadata": {
    "application/vnd.databricks.v1+cell": {
     "cellMetadata": {},
     "inputWidgets": {},
     "nuid": "fa07375c-a85f-4f7d-aba2-50623274533a",
     "showTitle": false,
     "tableResultSettingsMap": {},
     "title": ""
    }
   },
   "outputs": [],
   "source": []
  }
 ],
 "metadata": {
  "application/vnd.databricks.v1+notebook": {
   "computePreferences": null,
   "dashboards": [],
   "environmentMetadata": {
    "base_environment": "",
    "client": "1"
   },
   "language": "python",
   "notebookMetadata": {
    "mostRecentlyExecutedCommandWithImplicitDF": {
     "commandId": -1,
     "dataframes": [
      "_sqldf"
     ]
    },
    "pythonIndentUnit": 4
   },
   "notebookName": "fifo_all_ws",
   "widgets": {}
  },
  "language_info": {
   "name": "python"
  }
 },
 "nbformat": 4,
 "nbformat_minor": 0
}